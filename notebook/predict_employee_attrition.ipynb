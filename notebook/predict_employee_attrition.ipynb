{
 "cells": [
  {
   "cell_type": "markdown",
   "metadata": {},
   "source": [
    "# Improving Employee Retention By Predicting Employee Attrition Using Machine Learning\n",
    "\n",
    "**Project Overview**:<br>\n",
    "In this Mini Project, I have a role as a member of the Data Scientist team at a technology start-up company. The company is currently experiencing big problems; many employees have submitted their resignations, but the company has not yet decided on this matter. I will help the company to explain the current condition of its employees, as well as explore the problems within the company that cause employees to resign so that they can reduce the rate of employee resignations and outline a strategy that can increase employee retention. I will present descriptive findings from data using data visualization and data storytelling. I can get inferential findings using statistical analysis, or machine learning approaches with frameworks such as Interpretable & Explainable AI to convert model findings into a story.<br><br>\n",
    "\n",
    "**Project Goals**:<br>\n",
    "1. *Reduce Employee Resignation/Attrition Rate*.<br>This is the ultimate goal this project aims to achieve. By understanding the reasons behind employee resignations, the company can take stepsto make the workplace more attractive and retaint the employees.\n",
    "2. *Improve employee retention*.<br>Retaining existing employee is generally cheaper and more efficient than hiring and training new ones. This project aims to identify strategies that will encourage employees to stay with the company.<br>\n",
    "\n",
    "**Project Objective**:<br>\n",
    "1. Understand the current state of employee sentiment.\n",
    "2. Identify the root causes of employee resignations.\n",
    "3. Develop data-driven recommendations to improve employee retention.\n",
    "4. Communicate insights effectively.\n",
    "5. Develop a predictive model to predict employee attrition.<br>\n",
    "\n",
    "**Project Business Metrics**:<br>\n",
    "1. Resignation Rate.\n",
    "2. Recruitment Cost."
   ]
  },
  {
   "cell_type": "code",
   "execution_count": 1,
   "metadata": {},
   "outputs": [],
   "source": [
    "import pandas as pd\n",
    "import numpy as np\n",
    "import matplotlib.pyplot as plt\n",
    "import seaborn as sns\n",
    "from datetime import datetime\n",
    "import plotly.express as px\n",
    "import warnings\n",
    "import plotly.graph_objects as go\n",
    "import ppscore as pps\n",
    "from sklearn.model_selection import train_test_split, StratifiedKFold, cross_val_score, GridSearchCV\n",
    "from sklearn.preprocessing import LabelEncoder\n",
    "from sklearn.preprocessing import StandardScaler\n",
    "from imblearn.combine import SMOTETomek\n",
    "from sklearn.linear_model import LogisticRegression\n",
    "from sklearn.tree import DecisionTreeClassifier\n",
    "from sklearn.ensemble import RandomForestClassifier, GradientBoostingClassifier, AdaBoostClassifier\n",
    "from xgboost import XGBClassifier\n",
    "from imblearn.combine import SMOTETomek\n",
    "import shap\n",
    "\n",
    "from sklearn.model_selection import cross_val_score\n",
    "from sklearn.metrics import accuracy_score, precision_score, recall_score, f1_score, roc_auc_score, confusion_matrix, roc_curve\n",
    "\n",
    "warnings.filterwarnings('ignore')"
   ]
  },
  {
   "cell_type": "code",
   "execution_count": 2,
   "metadata": {},
   "outputs": [],
   "source": [
    "data_ori = pd.read_csv('../data/hr_data.csv')\n",
    "pd.set_option('display.max_columns', None)"
   ]
  },
  {
   "cell_type": "markdown",
   "metadata": {},
   "source": [
    "## Task 1 - Data Preprocessing\n",
    "**Task Goals**:<br>\n",
    "Preparing raw data into clean data and ready to be processed for analysis and machine learning modelling.<br><br>\n",
    "**Task Objectives**:<br>\n",
    "1. Checking whole data information.\n",
    "2. Checking missing values.\n",
    "3. Checking duplicate values.\n",
    "4. Checking Statistical summary of categorical and numerical features."
   ]
  },
  {
   "cell_type": "markdown",
   "metadata": {},
   "source": [
    "Data Perprocessing<br>\n",
    "- Missing values checking\n",
    "- Duplicate values checking\n",
    "- Drop unnecessary columns\n",
    "- Fix invalid values    "
   ]
  },
  {
   "cell_type": "code",
   "execution_count": 3,
   "metadata": {},
   "outputs": [
    {
     "name": "stdout",
     "output_type": "stream",
     "text": [
      "<class 'pandas.core.frame.DataFrame'>\n",
      "RangeIndex: 287 entries, 0 to 286\n",
      "Data columns (total 25 columns):\n",
      " #   Column                              Non-Null Count  Dtype  \n",
      "---  ------                              --------------  -----  \n",
      " 0   Username                            287 non-null    object \n",
      " 1   EnterpriseID                        287 non-null    int64  \n",
      " 2   StatusPernikahan                    287 non-null    object \n",
      " 3   JenisKelamin                        287 non-null    object \n",
      " 4   StatusKepegawaian                   287 non-null    object \n",
      " 5   Pekerjaan                           287 non-null    object \n",
      " 6   JenjangKarir                        287 non-null    object \n",
      " 7   PerformancePegawai                  287 non-null    object \n",
      " 8   AsalDaerah                          287 non-null    object \n",
      " 9   HiringPlatform                      287 non-null    object \n",
      " 10  SkorSurveyEngagement                287 non-null    int64  \n",
      " 11  SkorKepuasanPegawai                 282 non-null    float64\n",
      " 12  JumlahKeikutsertaanProjek           284 non-null    float64\n",
      " 13  JumlahKeterlambatanSebulanTerakhir  286 non-null    float64\n",
      " 14  JumlahKetidakhadiran                281 non-null    float64\n",
      " 15  NomorHP                             287 non-null    object \n",
      " 16  Email                               287 non-null    object \n",
      " 17  TingkatPendidikan                   287 non-null    object \n",
      " 18  PernahBekerja                       287 non-null    object \n",
      " 19  IkutProgramLOP                      29 non-null     float64\n",
      " 20  AlasanResign                        221 non-null    object \n",
      " 21  TanggalLahir                        287 non-null    object \n",
      " 22  TanggalHiring                       287 non-null    object \n",
      " 23  TanggalPenilaianKaryawan            287 non-null    object \n",
      " 24  TanggalResign                       287 non-null    object \n",
      "dtypes: float64(5), int64(2), object(18)\n",
      "memory usage: 56.2+ KB\n"
     ]
    },
    {
     "data": {
      "text/plain": [
       "None"
      ]
     },
     "metadata": {},
     "output_type": "display_data"
    },
    {
     "data": {
      "text/html": [
       "<div>\n",
       "<style scoped>\n",
       "    .dataframe tbody tr th:only-of-type {\n",
       "        vertical-align: middle;\n",
       "    }\n",
       "\n",
       "    .dataframe tbody tr th {\n",
       "        vertical-align: top;\n",
       "    }\n",
       "\n",
       "    .dataframe thead th {\n",
       "        text-align: right;\n",
       "    }\n",
       "</style>\n",
       "<table border=\"1\" class=\"dataframe\">\n",
       "  <thead>\n",
       "    <tr style=\"text-align: right;\">\n",
       "      <th></th>\n",
       "      <th>Username</th>\n",
       "      <th>EnterpriseID</th>\n",
       "      <th>StatusPernikahan</th>\n",
       "      <th>JenisKelamin</th>\n",
       "      <th>StatusKepegawaian</th>\n",
       "      <th>Pekerjaan</th>\n",
       "      <th>JenjangKarir</th>\n",
       "      <th>PerformancePegawai</th>\n",
       "      <th>AsalDaerah</th>\n",
       "      <th>HiringPlatform</th>\n",
       "      <th>SkorSurveyEngagement</th>\n",
       "      <th>SkorKepuasanPegawai</th>\n",
       "      <th>JumlahKeikutsertaanProjek</th>\n",
       "      <th>JumlahKeterlambatanSebulanTerakhir</th>\n",
       "      <th>JumlahKetidakhadiran</th>\n",
       "      <th>NomorHP</th>\n",
       "      <th>Email</th>\n",
       "      <th>TingkatPendidikan</th>\n",
       "      <th>PernahBekerja</th>\n",
       "      <th>IkutProgramLOP</th>\n",
       "      <th>AlasanResign</th>\n",
       "      <th>TanggalLahir</th>\n",
       "      <th>TanggalHiring</th>\n",
       "      <th>TanggalPenilaianKaryawan</th>\n",
       "      <th>TanggalResign</th>\n",
       "    </tr>\n",
       "  </thead>\n",
       "  <tbody>\n",
       "    <tr>\n",
       "      <th>0</th>\n",
       "      <td>spiritedPorpoise3</td>\n",
       "      <td>111065</td>\n",
       "      <td>Belum_menikah</td>\n",
       "      <td>Pria</td>\n",
       "      <td>Outsource</td>\n",
       "      <td>Software Engineer (Back End)</td>\n",
       "      <td>Freshgraduate_program</td>\n",
       "      <td>Sangat_bagus</td>\n",
       "      <td>Jakarta Timur</td>\n",
       "      <td>Employee_Referral</td>\n",
       "      <td>4</td>\n",
       "      <td>4.0</td>\n",
       "      <td>0.0</td>\n",
       "      <td>0.0</td>\n",
       "      <td>9.0</td>\n",
       "      <td>+6282232522xxx</td>\n",
       "      <td>spiritedPorpoise3135@yahoo.com</td>\n",
       "      <td>Magister</td>\n",
       "      <td>1</td>\n",
       "      <td>1.0</td>\n",
       "      <td>masih_bekerja</td>\n",
       "      <td>1972-07-01</td>\n",
       "      <td>2011-01-10</td>\n",
       "      <td>2016-2-15</td>\n",
       "      <td>-</td>\n",
       "    </tr>\n",
       "    <tr>\n",
       "      <th>1</th>\n",
       "      <td>jealousGelding2</td>\n",
       "      <td>106080</td>\n",
       "      <td>Belum_menikah</td>\n",
       "      <td>Pria</td>\n",
       "      <td>FullTime</td>\n",
       "      <td>Data Analyst</td>\n",
       "      <td>Freshgraduate_program</td>\n",
       "      <td>Sangat_kurang</td>\n",
       "      <td>Jakarta Utara</td>\n",
       "      <td>Website</td>\n",
       "      <td>4</td>\n",
       "      <td>4.0</td>\n",
       "      <td>4.0</td>\n",
       "      <td>0.0</td>\n",
       "      <td>3.0</td>\n",
       "      <td>+6281270745xxx</td>\n",
       "      <td>jealousGelding2239@yahoo.com</td>\n",
       "      <td>Sarjana</td>\n",
       "      <td>1</td>\n",
       "      <td>1.0</td>\n",
       "      <td>toxic_culture</td>\n",
       "      <td>1984-04-26</td>\n",
       "      <td>2014-01-06</td>\n",
       "      <td>2020-1-17</td>\n",
       "      <td>2018-6-16</td>\n",
       "    </tr>\n",
       "    <tr>\n",
       "      <th>2</th>\n",
       "      <td>pluckyMuesli3</td>\n",
       "      <td>106452</td>\n",
       "      <td>Menikah</td>\n",
       "      <td>Pria</td>\n",
       "      <td>FullTime</td>\n",
       "      <td>Software Engineer (Front End)</td>\n",
       "      <td>Freshgraduate_program</td>\n",
       "      <td>Bagus</td>\n",
       "      <td>Jakarta Timur</td>\n",
       "      <td>Indeed</td>\n",
       "      <td>4</td>\n",
       "      <td>3.0</td>\n",
       "      <td>0.0</td>\n",
       "      <td>0.0</td>\n",
       "      <td>11.0</td>\n",
       "      <td>+6281346215xxx</td>\n",
       "      <td>pluckyMuesli3961@icloud.com</td>\n",
       "      <td>Magister</td>\n",
       "      <td>1</td>\n",
       "      <td>1.0</td>\n",
       "      <td>jam_kerja</td>\n",
       "      <td>1974-01-07</td>\n",
       "      <td>2011-01-10</td>\n",
       "      <td>2016-01-10</td>\n",
       "      <td>2014-9-24</td>\n",
       "    </tr>\n",
       "  </tbody>\n",
       "</table>\n",
       "</div>"
      ],
      "text/plain": [
       "            Username  EnterpriseID StatusPernikahan JenisKelamin  \\\n",
       "0  spiritedPorpoise3        111065    Belum_menikah         Pria   \n",
       "1    jealousGelding2        106080    Belum_menikah         Pria   \n",
       "2      pluckyMuesli3        106452          Menikah         Pria   \n",
       "\n",
       "  StatusKepegawaian                      Pekerjaan           JenjangKarir  \\\n",
       "0         Outsource   Software Engineer (Back End)  Freshgraduate_program   \n",
       "1          FullTime                   Data Analyst  Freshgraduate_program   \n",
       "2          FullTime  Software Engineer (Front End)  Freshgraduate_program   \n",
       "\n",
       "  PerformancePegawai     AsalDaerah     HiringPlatform  SkorSurveyEngagement  \\\n",
       "0       Sangat_bagus  Jakarta Timur  Employee_Referral                     4   \n",
       "1      Sangat_kurang  Jakarta Utara            Website                     4   \n",
       "2              Bagus  Jakarta Timur             Indeed                     4   \n",
       "\n",
       "   SkorKepuasanPegawai  JumlahKeikutsertaanProjek  \\\n",
       "0                  4.0                        0.0   \n",
       "1                  4.0                        4.0   \n",
       "2                  3.0                        0.0   \n",
       "\n",
       "   JumlahKeterlambatanSebulanTerakhir  JumlahKetidakhadiran         NomorHP  \\\n",
       "0                                 0.0                   9.0  +6282232522xxx   \n",
       "1                                 0.0                   3.0  +6281270745xxx   \n",
       "2                                 0.0                  11.0  +6281346215xxx   \n",
       "\n",
       "                            Email TingkatPendidikan PernahBekerja  \\\n",
       "0  spiritedPorpoise3135@yahoo.com          Magister             1   \n",
       "1    jealousGelding2239@yahoo.com           Sarjana             1   \n",
       "2     pluckyMuesli3961@icloud.com          Magister             1   \n",
       "\n",
       "   IkutProgramLOP   AlasanResign TanggalLahir TanggalHiring  \\\n",
       "0             1.0  masih_bekerja   1972-07-01    2011-01-10   \n",
       "1             1.0  toxic_culture   1984-04-26    2014-01-06   \n",
       "2             1.0      jam_kerja   1974-01-07    2011-01-10   \n",
       "\n",
       "  TanggalPenilaianKaryawan TanggalResign  \n",
       "0                2016-2-15             -  \n",
       "1                2020-1-17     2018-6-16  \n",
       "2               2016-01-10     2014-9-24  "
      ]
     },
     "metadata": {},
     "output_type": "display_data"
    }
   ],
   "source": [
    "display(data_ori.info())\n",
    "\n",
    "display(data_ori.head(3))"
   ]
  },
  {
   "cell_type": "markdown",
   "metadata": {},
   "source": [
    "Information obtained about the data:\n",
    "- Data size is 287 rows and 25 columns\n",
    "- There are missing values in the data\n",
    "- There are numerical, categorical, and (supposed to be) datetime columns\n",
    "- There are no target columns, will create one from `TanggalResign` column because the date when the employee resigns are the indicator of the employee have resigned.   "
   ]
  },
  {
   "cell_type": "markdown",
   "metadata": {},
   "source": [
    "Checking and Handling Missing Values"
   ]
  },
  {
   "cell_type": "code",
   "execution_count": 4,
   "metadata": {},
   "outputs": [
    {
     "name": "stdout",
     "output_type": "stream",
     "text": [
      "Proportion of missing values in the dataset:\n",
      "\n",
      "SkorKepuasanPegawai                    1.74\n",
      "JumlahKeikutsertaanProjek              1.05\n",
      "JumlahKeterlambatanSebulanTerakhir     0.35\n",
      "JumlahKetidakhadiran                   2.09\n",
      "IkutProgramLOP                        89.90\n",
      "AlasanResign                          23.00\n",
      "dtype: float64\n"
     ]
    }
   ],
   "source": [
    "null_val = data_ori.isnull().sum()\n",
    "null_val = round(null_val[null_val > 0] / data_ori.shape[0] * 100, 2)\n",
    "print(f'Proportion of missing values in the dataset:\\n\\n{null_val}')"
   ]
  },
  {
   "cell_type": "markdown",
   "metadata": {},
   "source": [
    "Dive into missing values in `AlasanResign` column"
   ]
  },
  {
   "cell_type": "code",
   "execution_count": 5,
   "metadata": {},
   "outputs": [
    {
     "data": {
      "text/html": [
       "<div>\n",
       "<style scoped>\n",
       "    .dataframe tbody tr th:only-of-type {\n",
       "        vertical-align: middle;\n",
       "    }\n",
       "\n",
       "    .dataframe tbody tr th {\n",
       "        vertical-align: top;\n",
       "    }\n",
       "\n",
       "    .dataframe thead th {\n",
       "        text-align: right;\n",
       "    }\n",
       "</style>\n",
       "<table border=\"1\" class=\"dataframe\">\n",
       "  <thead>\n",
       "    <tr style=\"text-align: right;\">\n",
       "      <th></th>\n",
       "      <th>AlasanResign</th>\n",
       "      <th>TanggalResign</th>\n",
       "    </tr>\n",
       "  </thead>\n",
       "  <tbody>\n",
       "    <tr>\n",
       "      <th>105</th>\n",
       "      <td>NaN</td>\n",
       "      <td>-</td>\n",
       "    </tr>\n",
       "    <tr>\n",
       "      <th>187</th>\n",
       "      <td>NaN</td>\n",
       "      <td>-</td>\n",
       "    </tr>\n",
       "    <tr>\n",
       "      <th>189</th>\n",
       "      <td>NaN</td>\n",
       "      <td>-</td>\n",
       "    </tr>\n",
       "    <tr>\n",
       "      <th>190</th>\n",
       "      <td>NaN</td>\n",
       "      <td>-</td>\n",
       "    </tr>\n",
       "    <tr>\n",
       "      <th>195</th>\n",
       "      <td>NaN</td>\n",
       "      <td>-</td>\n",
       "    </tr>\n",
       "    <tr>\n",
       "      <th>...</th>\n",
       "      <td>...</td>\n",
       "      <td>...</td>\n",
       "    </tr>\n",
       "    <tr>\n",
       "      <th>279</th>\n",
       "      <td>NaN</td>\n",
       "      <td>-</td>\n",
       "    </tr>\n",
       "    <tr>\n",
       "      <th>280</th>\n",
       "      <td>NaN</td>\n",
       "      <td>-</td>\n",
       "    </tr>\n",
       "    <tr>\n",
       "      <th>281</th>\n",
       "      <td>NaN</td>\n",
       "      <td>-</td>\n",
       "    </tr>\n",
       "    <tr>\n",
       "      <th>282</th>\n",
       "      <td>NaN</td>\n",
       "      <td>-</td>\n",
       "    </tr>\n",
       "    <tr>\n",
       "      <th>286</th>\n",
       "      <td>NaN</td>\n",
       "      <td>-</td>\n",
       "    </tr>\n",
       "  </tbody>\n",
       "</table>\n",
       "<p>66 rows × 2 columns</p>\n",
       "</div>"
      ],
      "text/plain": [
       "    AlasanResign TanggalResign\n",
       "105          NaN             -\n",
       "187          NaN             -\n",
       "189          NaN             -\n",
       "190          NaN             -\n",
       "195          NaN             -\n",
       "..           ...           ...\n",
       "279          NaN             -\n",
       "280          NaN             -\n",
       "281          NaN             -\n",
       "282          NaN             -\n",
       "286          NaN             -\n",
       "\n",
       "[66 rows x 2 columns]"
      ]
     },
     "execution_count": 5,
     "metadata": {},
     "output_type": "execute_result"
    }
   ],
   "source": [
    "resign_nan = data_ori[data_ori['AlasanResign'].isna()]\n",
    "resign_nan[['AlasanResign', 'TanggalResign']]"
   ]
  },
  {
   "cell_type": "markdown",
   "metadata": {},
   "source": [
    "Findings:\n",
    "- `IkutProgramLOP` has too many missing values (more than 85% from total data), I decided to drop this column because it has too many missing information.\n",
    "- As we can see when the AlasanResign is missing, the `TanggalResign` value is '-', this means that the employee has not resigned yet. So, it will be more appropriate to fill the missing values in `AlasanResign` with 'masih_bekerja' value.\n",
    "- Because most of the daata is Categorical, rest of the columns with missing values will be imputed with modus."
   ]
  },
  {
   "cell_type": "code",
   "execution_count": 6,
   "metadata": {},
   "outputs": [
    {
     "name": "stdout",
     "output_type": "stream",
     "text": [
      "Missing values left: 0\n"
     ]
    }
   ],
   "source": [
    "# Create a copy of the original data to avoid modifying the original data\n",
    "# Copy data for EDAs\n",
    "data_eda = data_ori.copy()\n",
    "\n",
    "# Define function to clean missing values\n",
    "def clean_missing(data):\n",
    "    \"\"\"\n",
    "    Function to clean missing values in the dataset.\n",
    "    Args:\n",
    "    data (DataFrame): dataset to be cleaned.\n",
    "    Returns:\n",
    "    data (DataFrame): cleaned dataset.\n",
    "    \n",
    "    Example:\n",
    "    >>> data = clean_missing(data)\n",
    "    \"\"\"\n",
    "    # Drop IkutProgramLOP columns\n",
    "    data = data.drop(columns='IkutProgramLOP')\n",
    "\n",
    "    cat_missing = ['AlasanResign', 'SkorKepuasanPegawai']\n",
    "    \n",
    "    for catcol in cat_missing:\n",
    "        data[catcol] = data[catcol].fillna(data[catcol].mode()[0])\n",
    "    \n",
    "    # Define column that still contain missing values\n",
    "    num_missing = ['JumlahKeikutsertaanProjek',\n",
    "                   'JumlahKeterlambatanSebulanTerakhir',\n",
    "                   'JumlahKetidakhadiran']\n",
    "    \n",
    "    # fill rest of the missing values with median\n",
    "    for numcol in num_missing:\n",
    "        data[numcol] = data[numcol].fillna(data[numcol].median())\n",
    "\n",
    "    return data\n",
    "\n",
    "data_eda = clean_missing(data_eda)\n",
    "\n",
    "# Check if there are any missing values left\n",
    "null_val2 = data_eda.isnull().sum().sum()\n",
    "print(f'Missing values left: {null_val2}')"
   ]
  },
  {
   "cell_type": "markdown",
   "metadata": {},
   "source": [
    "Checking Duplicate Values"
   ]
  },
  {
   "cell_type": "code",
   "execution_count": 7,
   "metadata": {},
   "outputs": [
    {
     "name": "stdout",
     "output_type": "stream",
     "text": [
      "Total number of duplicated rows in the data: 0\n"
     ]
    }
   ],
   "source": [
    "total_dupl = data_eda.duplicated().sum()\n",
    "print(f'Total number of duplicated rows in the data: {total_dupl}')"
   ]
  },
  {
   "cell_type": "code",
   "execution_count": 8,
   "metadata": {},
   "outputs": [
    {
     "name": "stdout",
     "output_type": "stream",
     "text": [
      "Statistical summary for Categorical data:\n"
     ]
    },
    {
     "data": {
      "text/html": [
       "<div>\n",
       "<style scoped>\n",
       "    .dataframe tbody tr th:only-of-type {\n",
       "        vertical-align: middle;\n",
       "    }\n",
       "\n",
       "    .dataframe tbody tr th {\n",
       "        vertical-align: top;\n",
       "    }\n",
       "\n",
       "    .dataframe thead th {\n",
       "        text-align: right;\n",
       "    }\n",
       "</style>\n",
       "<table border=\"1\" class=\"dataframe\">\n",
       "  <thead>\n",
       "    <tr style=\"text-align: right;\">\n",
       "      <th></th>\n",
       "      <th>Username</th>\n",
       "      <th>StatusPernikahan</th>\n",
       "      <th>JenisKelamin</th>\n",
       "      <th>StatusKepegawaian</th>\n",
       "      <th>Pekerjaan</th>\n",
       "      <th>JenjangKarir</th>\n",
       "      <th>PerformancePegawai</th>\n",
       "      <th>AsalDaerah</th>\n",
       "      <th>HiringPlatform</th>\n",
       "      <th>NomorHP</th>\n",
       "      <th>Email</th>\n",
       "      <th>TingkatPendidikan</th>\n",
       "      <th>PernahBekerja</th>\n",
       "      <th>AlasanResign</th>\n",
       "      <th>TanggalLahir</th>\n",
       "      <th>TanggalHiring</th>\n",
       "      <th>TanggalPenilaianKaryawan</th>\n",
       "      <th>TanggalResign</th>\n",
       "    </tr>\n",
       "  </thead>\n",
       "  <tbody>\n",
       "    <tr>\n",
       "      <th>count</th>\n",
       "      <td>287</td>\n",
       "      <td>287</td>\n",
       "      <td>287</td>\n",
       "      <td>287</td>\n",
       "      <td>287</td>\n",
       "      <td>287</td>\n",
       "      <td>287</td>\n",
       "      <td>287</td>\n",
       "      <td>287</td>\n",
       "      <td>287</td>\n",
       "      <td>287</td>\n",
       "      <td>287</td>\n",
       "      <td>287</td>\n",
       "      <td>287</td>\n",
       "      <td>287</td>\n",
       "      <td>287</td>\n",
       "      <td>287</td>\n",
       "      <td>287</td>\n",
       "    </tr>\n",
       "    <tr>\n",
       "      <th>unique</th>\n",
       "      <td>285</td>\n",
       "      <td>5</td>\n",
       "      <td>2</td>\n",
       "      <td>3</td>\n",
       "      <td>14</td>\n",
       "      <td>3</td>\n",
       "      <td>5</td>\n",
       "      <td>5</td>\n",
       "      <td>9</td>\n",
       "      <td>287</td>\n",
       "      <td>287</td>\n",
       "      <td>3</td>\n",
       "      <td>2</td>\n",
       "      <td>11</td>\n",
       "      <td>284</td>\n",
       "      <td>97</td>\n",
       "      <td>127</td>\n",
       "      <td>53</td>\n",
       "    </tr>\n",
       "    <tr>\n",
       "      <th>top</th>\n",
       "      <td>boredEggs0</td>\n",
       "      <td>Belum_menikah</td>\n",
       "      <td>Wanita</td>\n",
       "      <td>FullTime</td>\n",
       "      <td>Software Engineer (Back End)</td>\n",
       "      <td>Freshgraduate_program</td>\n",
       "      <td>Biasa</td>\n",
       "      <td>Jakarta Pusat</td>\n",
       "      <td>Indeed</td>\n",
       "      <td>+6282232522xxx</td>\n",
       "      <td>spiritedPorpoise3135@yahoo.com</td>\n",
       "      <td>Sarjana</td>\n",
       "      <td>1</td>\n",
       "      <td>masih_bekerja</td>\n",
       "      <td>1987-06-14</td>\n",
       "      <td>2011-01-10</td>\n",
       "      <td>2020-1-14</td>\n",
       "      <td>-</td>\n",
       "    </tr>\n",
       "    <tr>\n",
       "      <th>freq</th>\n",
       "      <td>2</td>\n",
       "      <td>132</td>\n",
       "      <td>167</td>\n",
       "      <td>217</td>\n",
       "      <td>109</td>\n",
       "      <td>169</td>\n",
       "      <td>85</td>\n",
       "      <td>72</td>\n",
       "      <td>85</td>\n",
       "      <td>1</td>\n",
       "      <td>1</td>\n",
       "      <td>176</td>\n",
       "      <td>286</td>\n",
       "      <td>198</td>\n",
       "      <td>2</td>\n",
       "      <td>12</td>\n",
       "      <td>17</td>\n",
       "      <td>198</td>\n",
       "    </tr>\n",
       "  </tbody>\n",
       "</table>\n",
       "</div>"
      ],
      "text/plain": [
       "          Username StatusPernikahan JenisKelamin StatusKepegawaian  \\\n",
       "count          287              287          287               287   \n",
       "unique         285                5            2                 3   \n",
       "top     boredEggs0    Belum_menikah       Wanita          FullTime   \n",
       "freq             2              132          167               217   \n",
       "\n",
       "                           Pekerjaan           JenjangKarir  \\\n",
       "count                            287                    287   \n",
       "unique                            14                      3   \n",
       "top     Software Engineer (Back End)  Freshgraduate_program   \n",
       "freq                             109                    169   \n",
       "\n",
       "       PerformancePegawai     AsalDaerah HiringPlatform         NomorHP  \\\n",
       "count                 287            287            287             287   \n",
       "unique                  5              5              9             287   \n",
       "top                 Biasa  Jakarta Pusat         Indeed  +6282232522xxx   \n",
       "freq                   85             72             85               1   \n",
       "\n",
       "                                 Email TingkatPendidikan PernahBekerja  \\\n",
       "count                              287               287           287   \n",
       "unique                             287                 3             2   \n",
       "top     spiritedPorpoise3135@yahoo.com           Sarjana             1   \n",
       "freq                                 1               176           286   \n",
       "\n",
       "         AlasanResign TanggalLahir TanggalHiring TanggalPenilaianKaryawan  \\\n",
       "count             287          287           287                      287   \n",
       "unique             11          284            97                      127   \n",
       "top     masih_bekerja   1987-06-14    2011-01-10                2020-1-14   \n",
       "freq              198            2            12                       17   \n",
       "\n",
       "       TanggalResign  \n",
       "count            287  \n",
       "unique            53  \n",
       "top                -  \n",
       "freq             198  "
      ]
     },
     "metadata": {},
     "output_type": "display_data"
    }
   ],
   "source": [
    "# data_ori['EnterpriseID'] = data_ori['EnterpriseID'].astype('object')\n",
    "categorical = data_eda.select_dtypes('object')\n",
    "\n",
    "print('Statistical summary for Categorical data:')\n",
    "display(categorical.describe())"
   ]
  },
  {
   "cell_type": "markdown",
   "metadata": {},
   "source": [
    "From statistical summary of the categorical data above we can see that:\n",
    "- There's no column with only 1 unique value.\n",
    "- There's 2 columns with pretty much unique values, `Pekerjaan` and `HiringPlatform`.(Other than identifier columns)\n",
    "- There are 4 people with the same username, lets take colser look on the data again."
   ]
  },
  {
   "cell_type": "code",
   "execution_count": 9,
   "metadata": {},
   "outputs": [
    {
     "data": {
      "text/html": [
       "<div>\n",
       "<style scoped>\n",
       "    .dataframe tbody tr th:only-of-type {\n",
       "        vertical-align: middle;\n",
       "    }\n",
       "\n",
       "    .dataframe tbody tr th {\n",
       "        vertical-align: top;\n",
       "    }\n",
       "\n",
       "    .dataframe thead th {\n",
       "        text-align: right;\n",
       "    }\n",
       "</style>\n",
       "<table border=\"1\" class=\"dataframe\">\n",
       "  <thead>\n",
       "    <tr style=\"text-align: right;\">\n",
       "      <th></th>\n",
       "      <th>Username</th>\n",
       "      <th>EnterpriseID</th>\n",
       "      <th>StatusPernikahan</th>\n",
       "      <th>JenisKelamin</th>\n",
       "      <th>StatusKepegawaian</th>\n",
       "      <th>Pekerjaan</th>\n",
       "      <th>JenjangKarir</th>\n",
       "      <th>PerformancePegawai</th>\n",
       "      <th>AsalDaerah</th>\n",
       "      <th>HiringPlatform</th>\n",
       "      <th>SkorSurveyEngagement</th>\n",
       "      <th>SkorKepuasanPegawai</th>\n",
       "      <th>JumlahKeikutsertaanProjek</th>\n",
       "      <th>JumlahKeterlambatanSebulanTerakhir</th>\n",
       "      <th>JumlahKetidakhadiran</th>\n",
       "      <th>NomorHP</th>\n",
       "      <th>Email</th>\n",
       "      <th>TingkatPendidikan</th>\n",
       "      <th>PernahBekerja</th>\n",
       "      <th>AlasanResign</th>\n",
       "      <th>TanggalLahir</th>\n",
       "      <th>TanggalHiring</th>\n",
       "      <th>TanggalPenilaianKaryawan</th>\n",
       "      <th>TanggalResign</th>\n",
       "    </tr>\n",
       "  </thead>\n",
       "  <tbody>\n",
       "    <tr>\n",
       "      <th>120</th>\n",
       "      <td>brainyMagpie7</td>\n",
       "      <td>101264</td>\n",
       "      <td>Bercerai</td>\n",
       "      <td>Pria</td>\n",
       "      <td>FullTime</td>\n",
       "      <td>Product Design (UI &amp; UX)</td>\n",
       "      <td>Freshgraduate_program</td>\n",
       "      <td>Kurang</td>\n",
       "      <td>Jakarta Barat</td>\n",
       "      <td>Indeed</td>\n",
       "      <td>4</td>\n",
       "      <td>3.0</td>\n",
       "      <td>6.0</td>\n",
       "      <td>0.0</td>\n",
       "      <td>17.0</td>\n",
       "      <td>+6285946196xxx</td>\n",
       "      <td>brainyMagpie7608@proton.com</td>\n",
       "      <td>Magister</td>\n",
       "      <td>1</td>\n",
       "      <td>masih_bekerja</td>\n",
       "      <td>1970-04-25</td>\n",
       "      <td>2017-02-10</td>\n",
       "      <td>2020-2-25</td>\n",
       "      <td>-</td>\n",
       "    </tr>\n",
       "    <tr>\n",
       "      <th>204</th>\n",
       "      <td>boredEggs0</td>\n",
       "      <td>106285</td>\n",
       "      <td>Lainnya</td>\n",
       "      <td>Wanita</td>\n",
       "      <td>FullTime</td>\n",
       "      <td>Software Engineer (Front End)</td>\n",
       "      <td>Freshgraduate_program</td>\n",
       "      <td>Bagus</td>\n",
       "      <td>Jakarta Timur</td>\n",
       "      <td>Diversity_Job_Fair</td>\n",
       "      <td>3</td>\n",
       "      <td>3.0</td>\n",
       "      <td>0.0</td>\n",
       "      <td>0.0</td>\n",
       "      <td>12.0</td>\n",
       "      <td>+6285733263xxx</td>\n",
       "      <td>boredEggs0225@outlook.com</td>\n",
       "      <td>Sarjana</td>\n",
       "      <td>1</td>\n",
       "      <td>jam_kerja</td>\n",
       "      <td>1967-06-03</td>\n",
       "      <td>2013-04-01</td>\n",
       "      <td>2020-2-13</td>\n",
       "      <td>2014-8-19</td>\n",
       "    </tr>\n",
       "  </tbody>\n",
       "</table>\n",
       "</div>"
      ],
      "text/plain": [
       "          Username  EnterpriseID StatusPernikahan JenisKelamin  \\\n",
       "120  brainyMagpie7        101264         Bercerai         Pria   \n",
       "204     boredEggs0        106285          Lainnya       Wanita   \n",
       "\n",
       "    StatusKepegawaian                      Pekerjaan           JenjangKarir  \\\n",
       "120          FullTime       Product Design (UI & UX)  Freshgraduate_program   \n",
       "204          FullTime  Software Engineer (Front End)  Freshgraduate_program   \n",
       "\n",
       "    PerformancePegawai     AsalDaerah      HiringPlatform  \\\n",
       "120             Kurang  Jakarta Barat              Indeed   \n",
       "204              Bagus  Jakarta Timur  Diversity_Job_Fair   \n",
       "\n",
       "     SkorSurveyEngagement  SkorKepuasanPegawai  JumlahKeikutsertaanProjek  \\\n",
       "120                     4                  3.0                        6.0   \n",
       "204                     3                  3.0                        0.0   \n",
       "\n",
       "     JumlahKeterlambatanSebulanTerakhir  JumlahKetidakhadiran         NomorHP  \\\n",
       "120                                 0.0                  17.0  +6285946196xxx   \n",
       "204                                 0.0                  12.0  +6285733263xxx   \n",
       "\n",
       "                           Email TingkatPendidikan PernahBekerja  \\\n",
       "120  brainyMagpie7608@proton.com          Magister             1   \n",
       "204    boredEggs0225@outlook.com           Sarjana             1   \n",
       "\n",
       "      AlasanResign TanggalLahir TanggalHiring TanggalPenilaianKaryawan  \\\n",
       "120  masih_bekerja   1970-04-25    2017-02-10                2020-2-25   \n",
       "204      jam_kerja   1967-06-03    2013-04-01                2020-2-13   \n",
       "\n",
       "    TanggalResign  \n",
       "120             -  \n",
       "204     2014-8-19  "
      ]
     },
     "execution_count": 9,
     "metadata": {},
     "output_type": "execute_result"
    }
   ],
   "source": [
    "data_eda[data_eda.Username.duplicated()]"
   ]
  },
  {
   "cell_type": "code",
   "execution_count": 10,
   "metadata": {},
   "outputs": [
    {
     "data": {
      "text/html": [
       "<div>\n",
       "<style scoped>\n",
       "    .dataframe tbody tr th:only-of-type {\n",
       "        vertical-align: middle;\n",
       "    }\n",
       "\n",
       "    .dataframe tbody tr th {\n",
       "        vertical-align: top;\n",
       "    }\n",
       "\n",
       "    .dataframe thead th {\n",
       "        text-align: right;\n",
       "    }\n",
       "</style>\n",
       "<table border=\"1\" class=\"dataframe\">\n",
       "  <thead>\n",
       "    <tr style=\"text-align: right;\">\n",
       "      <th></th>\n",
       "      <th>Username</th>\n",
       "      <th>EnterpriseID</th>\n",
       "      <th>StatusPernikahan</th>\n",
       "      <th>JenisKelamin</th>\n",
       "      <th>StatusKepegawaian</th>\n",
       "      <th>Pekerjaan</th>\n",
       "      <th>JenjangKarir</th>\n",
       "      <th>PerformancePegawai</th>\n",
       "      <th>AsalDaerah</th>\n",
       "      <th>HiringPlatform</th>\n",
       "      <th>SkorSurveyEngagement</th>\n",
       "      <th>SkorKepuasanPegawai</th>\n",
       "      <th>JumlahKeikutsertaanProjek</th>\n",
       "      <th>JumlahKeterlambatanSebulanTerakhir</th>\n",
       "      <th>JumlahKetidakhadiran</th>\n",
       "      <th>NomorHP</th>\n",
       "      <th>Email</th>\n",
       "      <th>TingkatPendidikan</th>\n",
       "      <th>PernahBekerja</th>\n",
       "      <th>AlasanResign</th>\n",
       "      <th>TanggalLahir</th>\n",
       "      <th>TanggalHiring</th>\n",
       "      <th>TanggalPenilaianKaryawan</th>\n",
       "      <th>TanggalResign</th>\n",
       "    </tr>\n",
       "  </thead>\n",
       "  <tbody>\n",
       "    <tr>\n",
       "      <th>158</th>\n",
       "      <td>boredEggs0</td>\n",
       "      <td>100326</td>\n",
       "      <td>Bercerai</td>\n",
       "      <td>Wanita</td>\n",
       "      <td>FullTime</td>\n",
       "      <td>Product Manager</td>\n",
       "      <td>Freshgraduate_program</td>\n",
       "      <td>Bagus</td>\n",
       "      <td>Jakarta Timur</td>\n",
       "      <td>Diversity_Job_Fair</td>\n",
       "      <td>3</td>\n",
       "      <td>4.0</td>\n",
       "      <td>0.0</td>\n",
       "      <td>0.0</td>\n",
       "      <td>12.0</td>\n",
       "      <td>+6283854646xxx</td>\n",
       "      <td>boredEggs0834@outlook.com</td>\n",
       "      <td>Sarjana</td>\n",
       "      <td>1</td>\n",
       "      <td>ganti_karir</td>\n",
       "      <td>1974-01-12</td>\n",
       "      <td>2011-01-10</td>\n",
       "      <td>2017-1-30</td>\n",
       "      <td>2016-3-31</td>\n",
       "    </tr>\n",
       "    <tr>\n",
       "      <th>204</th>\n",
       "      <td>boredEggs0</td>\n",
       "      <td>106285</td>\n",
       "      <td>Lainnya</td>\n",
       "      <td>Wanita</td>\n",
       "      <td>FullTime</td>\n",
       "      <td>Software Engineer (Front End)</td>\n",
       "      <td>Freshgraduate_program</td>\n",
       "      <td>Bagus</td>\n",
       "      <td>Jakarta Timur</td>\n",
       "      <td>Diversity_Job_Fair</td>\n",
       "      <td>3</td>\n",
       "      <td>3.0</td>\n",
       "      <td>0.0</td>\n",
       "      <td>0.0</td>\n",
       "      <td>12.0</td>\n",
       "      <td>+6285733263xxx</td>\n",
       "      <td>boredEggs0225@outlook.com</td>\n",
       "      <td>Sarjana</td>\n",
       "      <td>1</td>\n",
       "      <td>jam_kerja</td>\n",
       "      <td>1967-06-03</td>\n",
       "      <td>2013-04-01</td>\n",
       "      <td>2020-2-13</td>\n",
       "      <td>2014-8-19</td>\n",
       "    </tr>\n",
       "  </tbody>\n",
       "</table>\n",
       "</div>"
      ],
      "text/plain": [
       "       Username  EnterpriseID StatusPernikahan JenisKelamin StatusKepegawaian  \\\n",
       "158  boredEggs0        100326         Bercerai       Wanita          FullTime   \n",
       "204  boredEggs0        106285          Lainnya       Wanita          FullTime   \n",
       "\n",
       "                         Pekerjaan           JenjangKarir PerformancePegawai  \\\n",
       "158                Product Manager  Freshgraduate_program              Bagus   \n",
       "204  Software Engineer (Front End)  Freshgraduate_program              Bagus   \n",
       "\n",
       "        AsalDaerah      HiringPlatform  SkorSurveyEngagement  \\\n",
       "158  Jakarta Timur  Diversity_Job_Fair                     3   \n",
       "204  Jakarta Timur  Diversity_Job_Fair                     3   \n",
       "\n",
       "     SkorKepuasanPegawai  JumlahKeikutsertaanProjek  \\\n",
       "158                  4.0                        0.0   \n",
       "204                  3.0                        0.0   \n",
       "\n",
       "     JumlahKeterlambatanSebulanTerakhir  JumlahKetidakhadiran         NomorHP  \\\n",
       "158                                 0.0                  12.0  +6283854646xxx   \n",
       "204                                 0.0                  12.0  +6285733263xxx   \n",
       "\n",
       "                         Email TingkatPendidikan PernahBekerja AlasanResign  \\\n",
       "158  boredEggs0834@outlook.com           Sarjana             1  ganti_karir   \n",
       "204  boredEggs0225@outlook.com           Sarjana             1    jam_kerja   \n",
       "\n",
       "    TanggalLahir TanggalHiring TanggalPenilaianKaryawan TanggalResign  \n",
       "158   1974-01-12    2011-01-10                2017-1-30     2016-3-31  \n",
       "204   1967-06-03    2013-04-01                2020-2-13     2014-8-19  "
      ]
     },
     "metadata": {},
     "output_type": "display_data"
    },
    {
     "data": {
      "text/html": [
       "<div>\n",
       "<style scoped>\n",
       "    .dataframe tbody tr th:only-of-type {\n",
       "        vertical-align: middle;\n",
       "    }\n",
       "\n",
       "    .dataframe tbody tr th {\n",
       "        vertical-align: top;\n",
       "    }\n",
       "\n",
       "    .dataframe thead th {\n",
       "        text-align: right;\n",
       "    }\n",
       "</style>\n",
       "<table border=\"1\" class=\"dataframe\">\n",
       "  <thead>\n",
       "    <tr style=\"text-align: right;\">\n",
       "      <th></th>\n",
       "      <th>Username</th>\n",
       "      <th>EnterpriseID</th>\n",
       "      <th>StatusPernikahan</th>\n",
       "      <th>JenisKelamin</th>\n",
       "      <th>StatusKepegawaian</th>\n",
       "      <th>Pekerjaan</th>\n",
       "      <th>JenjangKarir</th>\n",
       "      <th>PerformancePegawai</th>\n",
       "      <th>AsalDaerah</th>\n",
       "      <th>HiringPlatform</th>\n",
       "      <th>SkorSurveyEngagement</th>\n",
       "      <th>SkorKepuasanPegawai</th>\n",
       "      <th>JumlahKeikutsertaanProjek</th>\n",
       "      <th>JumlahKeterlambatanSebulanTerakhir</th>\n",
       "      <th>JumlahKetidakhadiran</th>\n",
       "      <th>NomorHP</th>\n",
       "      <th>Email</th>\n",
       "      <th>TingkatPendidikan</th>\n",
       "      <th>PernahBekerja</th>\n",
       "      <th>AlasanResign</th>\n",
       "      <th>TanggalLahir</th>\n",
       "      <th>TanggalHiring</th>\n",
       "      <th>TanggalPenilaianKaryawan</th>\n",
       "      <th>TanggalResign</th>\n",
       "    </tr>\n",
       "  </thead>\n",
       "  <tbody>\n",
       "    <tr>\n",
       "      <th>80</th>\n",
       "      <td>brainyMagpie7</td>\n",
       "      <td>106620</td>\n",
       "      <td>Belum_menikah</td>\n",
       "      <td>Pria</td>\n",
       "      <td>FullTime</td>\n",
       "      <td>Software Engineer (Back End)</td>\n",
       "      <td>Senior_level</td>\n",
       "      <td>Biasa</td>\n",
       "      <td>Jakarta Pusat</td>\n",
       "      <td>Indeed</td>\n",
       "      <td>2</td>\n",
       "      <td>5.0</td>\n",
       "      <td>5.0</td>\n",
       "      <td>0.0</td>\n",
       "      <td>9.0</td>\n",
       "      <td>+6281267984xxx</td>\n",
       "      <td>brainyMagpie7048@gmail.com</td>\n",
       "      <td>Doktor</td>\n",
       "      <td>1</td>\n",
       "      <td>internal_conflict</td>\n",
       "      <td>1986-09-01</td>\n",
       "      <td>2014-9-29</td>\n",
       "      <td>2020-1-18</td>\n",
       "      <td>2019-06-06</td>\n",
       "    </tr>\n",
       "    <tr>\n",
       "      <th>120</th>\n",
       "      <td>brainyMagpie7</td>\n",
       "      <td>101264</td>\n",
       "      <td>Bercerai</td>\n",
       "      <td>Pria</td>\n",
       "      <td>FullTime</td>\n",
       "      <td>Product Design (UI &amp; UX)</td>\n",
       "      <td>Freshgraduate_program</td>\n",
       "      <td>Kurang</td>\n",
       "      <td>Jakarta Barat</td>\n",
       "      <td>Indeed</td>\n",
       "      <td>4</td>\n",
       "      <td>3.0</td>\n",
       "      <td>6.0</td>\n",
       "      <td>0.0</td>\n",
       "      <td>17.0</td>\n",
       "      <td>+6285946196xxx</td>\n",
       "      <td>brainyMagpie7608@proton.com</td>\n",
       "      <td>Magister</td>\n",
       "      <td>1</td>\n",
       "      <td>masih_bekerja</td>\n",
       "      <td>1970-04-25</td>\n",
       "      <td>2017-02-10</td>\n",
       "      <td>2020-2-25</td>\n",
       "      <td>-</td>\n",
       "    </tr>\n",
       "  </tbody>\n",
       "</table>\n",
       "</div>"
      ],
      "text/plain": [
       "          Username  EnterpriseID StatusPernikahan JenisKelamin  \\\n",
       "80   brainyMagpie7        106620    Belum_menikah         Pria   \n",
       "120  brainyMagpie7        101264         Bercerai         Pria   \n",
       "\n",
       "    StatusKepegawaian                     Pekerjaan           JenjangKarir  \\\n",
       "80           FullTime  Software Engineer (Back End)           Senior_level   \n",
       "120          FullTime      Product Design (UI & UX)  Freshgraduate_program   \n",
       "\n",
       "    PerformancePegawai     AsalDaerah HiringPlatform  SkorSurveyEngagement  \\\n",
       "80               Biasa  Jakarta Pusat         Indeed                     2   \n",
       "120             Kurang  Jakarta Barat         Indeed                     4   \n",
       "\n",
       "     SkorKepuasanPegawai  JumlahKeikutsertaanProjek  \\\n",
       "80                   5.0                        5.0   \n",
       "120                  3.0                        6.0   \n",
       "\n",
       "     JumlahKeterlambatanSebulanTerakhir  JumlahKetidakhadiran         NomorHP  \\\n",
       "80                                  0.0                   9.0  +6281267984xxx   \n",
       "120                                 0.0                  17.0  +6285946196xxx   \n",
       "\n",
       "                           Email TingkatPendidikan PernahBekerja  \\\n",
       "80    brainyMagpie7048@gmail.com            Doktor             1   \n",
       "120  brainyMagpie7608@proton.com          Magister             1   \n",
       "\n",
       "          AlasanResign TanggalLahir TanggalHiring TanggalPenilaianKaryawan  \\\n",
       "80   internal_conflict   1986-09-01     2014-9-29                2020-1-18   \n",
       "120      masih_bekerja   1970-04-25    2017-02-10                2020-2-25   \n",
       "\n",
       "    TanggalResign  \n",
       "80     2019-06-06  \n",
       "120             -  "
      ]
     },
     "metadata": {},
     "output_type": "display_data"
    }
   ],
   "source": [
    "display(data_eda[data_eda.Username=='boredEggs0'])\n",
    "display(data_eda[data_eda.Username=='brainyMagpie7'])"
   ]
  },
  {
   "cell_type": "markdown",
   "metadata": {},
   "source": [
    "They have different privacy data(different birth, telephone, email, etc). so I decided to keep all of them because they are not considered as a duplicate data."
   ]
  },
  {
   "cell_type": "code",
   "execution_count": 11,
   "metadata": {},
   "outputs": [
    {
     "name": "stdout",
     "output_type": "stream",
     "text": [
      "Statistical summary for Numerical data:\n",
      "\n"
     ]
    },
    {
     "data": {
      "text/html": [
       "<div>\n",
       "<style scoped>\n",
       "    .dataframe tbody tr th:only-of-type {\n",
       "        vertical-align: middle;\n",
       "    }\n",
       "\n",
       "    .dataframe tbody tr th {\n",
       "        vertical-align: top;\n",
       "    }\n",
       "\n",
       "    .dataframe thead th {\n",
       "        text-align: right;\n",
       "    }\n",
       "</style>\n",
       "<table border=\"1\" class=\"dataframe\">\n",
       "  <thead>\n",
       "    <tr style=\"text-align: right;\">\n",
       "      <th></th>\n",
       "      <th>EnterpriseID</th>\n",
       "      <th>SkorSurveyEngagement</th>\n",
       "      <th>SkorKepuasanPegawai</th>\n",
       "      <th>JumlahKeikutsertaanProjek</th>\n",
       "      <th>JumlahKeterlambatanSebulanTerakhir</th>\n",
       "      <th>JumlahKetidakhadiran</th>\n",
       "    </tr>\n",
       "  </thead>\n",
       "  <tbody>\n",
       "    <tr>\n",
       "      <th>count</th>\n",
       "      <td>287.000000</td>\n",
       "      <td>287.000000</td>\n",
       "      <td>287.000000</td>\n",
       "      <td>287.000000</td>\n",
       "      <td>287.000000</td>\n",
       "      <td>287.000000</td>\n",
       "    </tr>\n",
       "    <tr>\n",
       "      <th>mean</th>\n",
       "      <td>105923.324042</td>\n",
       "      <td>3.101045</td>\n",
       "      <td>3.888502</td>\n",
       "      <td>1.167247</td>\n",
       "      <td>0.411150</td>\n",
       "      <td>10.439024</td>\n",
       "    </tr>\n",
       "    <tr>\n",
       "      <th>std</th>\n",
       "      <td>4044.977599</td>\n",
       "      <td>0.836388</td>\n",
       "      <td>0.913060</td>\n",
       "      <td>2.285537</td>\n",
       "      <td>1.273018</td>\n",
       "      <td>6.829769</td>\n",
       "    </tr>\n",
       "    <tr>\n",
       "      <th>min</th>\n",
       "      <td>100282.000000</td>\n",
       "      <td>1.000000</td>\n",
       "      <td>1.000000</td>\n",
       "      <td>0.000000</td>\n",
       "      <td>0.000000</td>\n",
       "      <td>1.000000</td>\n",
       "    </tr>\n",
       "    <tr>\n",
       "      <th>25%</th>\n",
       "      <td>101269.000000</td>\n",
       "      <td>3.000000</td>\n",
       "      <td>3.000000</td>\n",
       "      <td>0.000000</td>\n",
       "      <td>0.000000</td>\n",
       "      <td>5.000000</td>\n",
       "    </tr>\n",
       "    <tr>\n",
       "      <th>50%</th>\n",
       "      <td>106069.000000</td>\n",
       "      <td>3.000000</td>\n",
       "      <td>4.000000</td>\n",
       "      <td>0.000000</td>\n",
       "      <td>0.000000</td>\n",
       "      <td>10.000000</td>\n",
       "    </tr>\n",
       "    <tr>\n",
       "      <th>75%</th>\n",
       "      <td>110514.500000</td>\n",
       "      <td>4.000000</td>\n",
       "      <td>5.000000</td>\n",
       "      <td>0.000000</td>\n",
       "      <td>0.000000</td>\n",
       "      <td>15.000000</td>\n",
       "    </tr>\n",
       "    <tr>\n",
       "      <th>max</th>\n",
       "      <td>111703.000000</td>\n",
       "      <td>5.000000</td>\n",
       "      <td>5.000000</td>\n",
       "      <td>8.000000</td>\n",
       "      <td>6.000000</td>\n",
       "      <td>55.000000</td>\n",
       "    </tr>\n",
       "  </tbody>\n",
       "</table>\n",
       "</div>"
      ],
      "text/plain": [
       "        EnterpriseID  SkorSurveyEngagement  SkorKepuasanPegawai  \\\n",
       "count     287.000000            287.000000           287.000000   \n",
       "mean   105923.324042              3.101045             3.888502   \n",
       "std      4044.977599              0.836388             0.913060   \n",
       "min    100282.000000              1.000000             1.000000   \n",
       "25%    101269.000000              3.000000             3.000000   \n",
       "50%    106069.000000              3.000000             4.000000   \n",
       "75%    110514.500000              4.000000             5.000000   \n",
       "max    111703.000000              5.000000             5.000000   \n",
       "\n",
       "       JumlahKeikutsertaanProjek  JumlahKeterlambatanSebulanTerakhir  \\\n",
       "count                 287.000000                          287.000000   \n",
       "mean                    1.167247                            0.411150   \n",
       "std                     2.285537                            1.273018   \n",
       "min                     0.000000                            0.000000   \n",
       "25%                     0.000000                            0.000000   \n",
       "50%                     0.000000                            0.000000   \n",
       "75%                     0.000000                            0.000000   \n",
       "max                     8.000000                            6.000000   \n",
       "\n",
       "       JumlahKetidakhadiran  \n",
       "count            287.000000  \n",
       "mean              10.439024  \n",
       "std                6.829769  \n",
       "min                1.000000  \n",
       "25%                5.000000  \n",
       "50%               10.000000  \n",
       "75%               15.000000  \n",
       "max               55.000000  "
      ]
     },
     "metadata": {},
     "output_type": "display_data"
    }
   ],
   "source": [
    "numerical = data_eda.select_dtypes('number')\n",
    "print('Statistical summary for Numerical data:\\n')\n",
    "display(numerical.describe())"
   ]
  },
  {
   "cell_type": "markdown",
   "metadata": {},
   "source": [
    "All of the columns are considered as categorical data, which means if we see the data statistical summary we can't say that the data is normally distributed or skewed, because the data is categorical data."
   ]
  },
  {
   "cell_type": "markdown",
   "metadata": {},
   "source": [
    "## Feature Engineering"
   ]
  },
  {
   "cell_type": "markdown",
   "metadata": {},
   "source": [
    "Checking values each columns to make sure the value is valid"
   ]
  },
  {
   "cell_type": "code",
   "execution_count": 12,
   "metadata": {},
   "outputs": [
    {
     "name": "stdout",
     "output_type": "stream",
     "text": [
      "Value counts for boredEggs0           2\n",
      "brainyMagpie7        2\n",
      "spiritedPorpoise3    1\n",
      "grudgingMeerkat3     1\n",
      "boastfulSyrup4       1\n",
      "                    ..\n",
      "lazyPorpoise0        1\n",
      "brainyFish3          1\n",
      "sincereSeafowl4      1\n",
      "jumpyTomatoe4        1\n",
      "puzzledFish5         1\n",
      "Name: Username, Length: 285, dtype: int64\n",
      "\n",
      "Value counts for 111065    1\n",
      "106008    1\n",
      "100869    1\n",
      "101560    1\n",
      "100874    1\n",
      "         ..\n",
      "105429    1\n",
      "106638    1\n",
      "100919    1\n",
      "101306    1\n",
      "106214    1\n",
      "Name: EnterpriseID, Length: 287, dtype: int64\n",
      "\n",
      "Value counts for Belum_menikah    132\n",
      "Menikah           57\n",
      "Lainnya           48\n",
      "Bercerai          47\n",
      "-                  3\n",
      "Name: StatusPernikahan, dtype: int64\n",
      "\n",
      "Value counts for Wanita    167\n",
      "Pria      120\n",
      "Name: JenisKelamin, dtype: int64\n",
      "\n",
      "Value counts for FullTime      217\n",
      "Outsource      66\n",
      "Internship      4\n",
      "Name: StatusKepegawaian, dtype: int64\n",
      "\n",
      "Value counts for Software Engineer (Back End)      109\n",
      "Software Engineer (Front End)      72\n",
      "Software Engineer (Android)        24\n",
      "Product Design (UI & UX)           24\n",
      "Product Manager                    17\n",
      "Data Analyst                       16\n",
      "Data Engineer                      10\n",
      "Scrum Master                        3\n",
      "Software Engineer (iOS)             3\n",
      "DevOps Engineer                     3\n",
      "Digital Product Manager             2\n",
      "Machine Learning Engineer           2\n",
      "Product Design (UX Researcher)      1\n",
      "Software Architect                  1\n",
      "Name: Pekerjaan, dtype: int64\n",
      "\n",
      "Value counts for Freshgraduate_program    169\n",
      "Mid_level                 70\n",
      "Senior_level              48\n",
      "Name: JenjangKarir, dtype: int64\n",
      "\n",
      "Value counts for Biasa            85\n",
      "Bagus            74\n",
      "Sangat_bagus     73\n",
      "Kurang           31\n",
      "Sangat_kurang    24\n",
      "Name: PerformancePegawai, dtype: int64\n",
      "\n",
      "Value counts for Jakarta Pusat      72\n",
      "Jakarta Timur      63\n",
      "Jakarta Barat      55\n",
      "Jakarta Utara      52\n",
      "Jakarta Selatan    45\n",
      "Name: AsalDaerah, dtype: int64\n",
      "\n",
      "Value counts for Indeed                     85\n",
      "LinkedIn                   69\n",
      "Google_Search              46\n",
      "Diversity_Job_Fair         27\n",
      "Employee_Referral          24\n",
      "CareerBuilder              22\n",
      "Website                    11\n",
      "Other                       2\n",
      "On-line_Web_application     1\n",
      "Name: HiringPlatform, dtype: int64\n",
      "\n",
      "Value counts for 3    132\n",
      "4     96\n",
      "2     43\n",
      "1     14\n",
      "5      2\n",
      "Name: SkorSurveyEngagement, dtype: int64\n",
      "\n",
      "Value counts for 3.0    101\n",
      "5.0     91\n",
      "4.0     85\n",
      "2.0      8\n",
      "1.0      2\n",
      "Name: SkorKepuasanPegawai, dtype: int64\n",
      "\n",
      "Value counts for 0.0    224\n",
      "6.0     20\n",
      "5.0     20\n",
      "7.0      9\n",
      "4.0      8\n",
      "3.0      3\n",
      "1.0      1\n",
      "2.0      1\n",
      "8.0      1\n",
      "Name: JumlahKeikutsertaanProjek, dtype: int64\n",
      "\n",
      "Value counts for 0.0    256\n",
      "4.0      8\n",
      "3.0      6\n",
      "2.0      6\n",
      "5.0      5\n",
      "6.0      5\n",
      "1.0      1\n",
      "Name: JumlahKeterlambatanSebulanTerakhir, dtype: int64\n",
      "\n",
      "Value counts for 4.0     20\n",
      "2.0     20\n",
      "15.0    19\n",
      "16.0    17\n",
      "7.0     17\n",
      "6.0     16\n",
      "10.0    16\n",
      "14.0    16\n",
      "3.0     16\n",
      "13.0    15\n",
      "19.0    15\n",
      "17.0    14\n",
      "1.0     14\n",
      "20.0    13\n",
      "9.0     12\n",
      "11.0    12\n",
      "8.0     10\n",
      "5.0      9\n",
      "12.0     7\n",
      "18.0     7\n",
      "50.0     1\n",
      "55.0     1\n",
      "Name: JumlahKetidakhadiran, dtype: int64\n",
      "\n",
      "Value counts for +6282232522xxx    1\n",
      "+6285714869xxx    1\n",
      "+6281209655xxx    1\n",
      "+6289713525xxx    1\n",
      "+6285930735xxx    1\n",
      "                 ..\n",
      "+6281830594xxx    1\n",
      "+6287829760xxx    1\n",
      "+6285908172xxx    1\n",
      "+6285758275xxx    1\n",
      "+6287722818xxx    1\n",
      "Name: NomorHP, Length: 287, dtype: int64\n",
      "\n",
      "Value counts for spiritedPorpoise3135@yahoo.com     1\n",
      "grudgingMeerkat3383@proton.com     1\n",
      "boastfulSyrup4371@yahoo.com        1\n",
      "excludedPoultry2788@hotmail.com    1\n",
      "cheerfulPear0374@hotmail.com       1\n",
      "                                  ..\n",
      "curiousBaboon5744@icloud.com       1\n",
      "joyfulBuzzard8100@gmail.com        1\n",
      "gloomyClam6755@gmail.com           1\n",
      "boredHyena0206@hotmail.com         1\n",
      "puzzledFish5776@hotmail.com        1\n",
      "Name: Email, Length: 287, dtype: int64\n",
      "\n",
      "Value counts for Sarjana     176\n",
      "Magister     87\n",
      "Doktor       24\n",
      "Name: TingkatPendidikan, dtype: int64\n",
      "\n",
      "Value counts for 1      286\n",
      "yes      1\n",
      "Name: PernahBekerja, dtype: int64\n",
      "\n",
      "Value counts for masih_bekerja               198\n",
      "jam_kerja                    16\n",
      "ganti_karir                  14\n",
      "kejelasan_karir              11\n",
      "tidak_bisa_remote            11\n",
      "toxic_culture                10\n",
      "leadership                    9\n",
      "tidak_bahagia                 8\n",
      "internal_conflict             4\n",
      "Product Design (UI & UX)      4\n",
      "apresiasi                     2\n",
      "Name: AlasanResign, dtype: int64\n",
      "\n",
      "Value counts for 1987-06-14    2\n",
      "1976-09-22    2\n",
      "1984-07-07    2\n",
      "1972-07-01    1\n",
      "1965-05-07    1\n",
      "             ..\n",
      "1970-05-15    1\n",
      "1991-01-28    1\n",
      "1970-04-24    1\n",
      "1987-01-07    1\n",
      "1981-08-10    1\n",
      "Name: TanggalLahir, Length: 284, dtype: int64\n",
      "\n",
      "Value counts for 2011-01-10    12\n",
      "2015-01-05    11\n",
      "2015-3-30      9\n",
      "2014-9-29      9\n",
      "2013-9-30      9\n",
      "              ..\n",
      "2016-07-04     1\n",
      "2012-4-30      1\n",
      "2014-5-18      1\n",
      "2011-1-21      1\n",
      "2012-8-16      1\n",
      "Name: TanggalHiring, Length: 97, dtype: int64\n",
      "\n",
      "Value counts for 2020-1-14     17\n",
      "2020-2-18     12\n",
      "2020-1-21     10\n",
      "2020-1-28      9\n",
      "2020-2-25      9\n",
      "              ..\n",
      "2015-03-04     1\n",
      "2014-04-02     1\n",
      "2018-03-02     1\n",
      "2014-2-20      1\n",
      "2014-04-05     1\n",
      "Name: TanggalPenilaianKaryawan, Length: 127, dtype: int64\n",
      "\n",
      "Value counts for -             198\n",
      "2018-04-01      9\n",
      "2014-8-19       9\n",
      "2018-06-08      9\n",
      "2017-11-15      9\n",
      "2013-5-30       4\n",
      "2020-8-19       2\n",
      "2014-9-24       2\n",
      "2015-04-01      1\n",
      "2016-01-11      1\n",
      "2016-10-31      1\n",
      "2017-12-15      1\n",
      "2015-6-18       1\n",
      "2014-04-07      1\n",
      "2017-4-15       1\n",
      "2015-06-05      1\n",
      "2017-11-14      1\n",
      "2018-9-15       1\n",
      "2019-9-26       1\n",
      "2017-09-05      1\n",
      "2016-4-24       1\n",
      "2017-06-04      1\n",
      "2016-01-09      1\n",
      "2017-12-12      1\n",
      "2016-3-31       1\n",
      "2015-4-15       1\n",
      "2020-9-26       1\n",
      "2020-4-29       1\n",
      "2015-01-09      1\n",
      "2018-11-15      1\n",
      "2018-6-16       1\n",
      "2018-09-06      1\n",
      "2019-01-12      1\n",
      "2018-9-19       1\n",
      "2019-04-06      1\n",
      "2019-08-04      1\n",
      "2017-09-12      1\n",
      "2016-04-04      1\n",
      "2018-2-19       1\n",
      "2016-08-07      1\n",
      "2015-6-15       1\n",
      "2016-08-02      1\n",
      "2015-01-07      1\n",
      "2013-9-26       1\n",
      "2018-9-23       1\n",
      "2017-11-04      1\n",
      "2019-06-06      1\n",
      "2020-9-27       1\n",
      "2020-2-25       1\n",
      "2017-3-15       1\n",
      "2018-5-17       1\n",
      "2015-6-24       1\n",
      "2017-6-25       1\n",
      "Name: TanggalResign, dtype: int64\n",
      "\n"
     ]
    }
   ],
   "source": [
    "for col in data_eda.columns:\n",
    "    print(f'Value counts for {data_eda[col].value_counts()}\\n')"
   ]
  },
  {
   "cell_type": "code",
   "execution_count": 13,
   "metadata": {},
   "outputs": [
    {
     "data": {
      "text/plain": [
       "27     Software Engineer (Front End)\n",
       "124         Product Design (UI & UX)\n",
       "147    Software Engineer (Front End)\n",
       "203     Software Engineer (Back End)\n",
       "Name: Pekerjaan, dtype: object"
      ]
     },
     "execution_count": 13,
     "metadata": {},
     "output_type": "execute_result"
    }
   ],
   "source": [
    "invalid_reason = data_eda[data_eda.AlasanResign=='Product Design (UI & UX)']\n",
    "invalid_reason['Pekerjaan']"
   ]
  },
  {
   "cell_type": "markdown",
   "metadata": {},
   "source": [
    "From the value counts of each columns there are some invalid values/values that need to be adjusted in the data:\n",
    "- `StatusPernikahan` has '-' value, I will replace it with 'Unknown'.\n",
    "- `PernahBekerja` has '1' value with 286 counts, but our data only has 287 rows, I will drop this column because it has no information.\n",
    "- For `AlasanResign` with invalid values `Product Design (UI & UX)`, this value is a job title and because of that it will be replaced with 'Unknown' instead."
   ]
  },
  {
   "cell_type": "code",
   "execution_count": 14,
   "metadata": {},
   "outputs": [],
   "source": [
    "# Create function to feature engineer the data for feat eng the train and test data later\n",
    "def feat_eng(data):\n",
    "    \"\"\"\n",
    "    This function will feature engineer the data from cleaning the data(replacing values) to creating new columns\n",
    "\n",
    "    Parameters:\n",
    "    data: DataFrame, the data to be feature engineered\n",
    "\n",
    "    Returns:\n",
    "    data: DataFrame, the feature engineered data\n",
    "\n",
    "    Example:\n",
    "    >>> data_processed = feat_eng(data_ori)\n",
    "    \"\"\"\n",
    "    # Replace '-' value in StatusPernikahan with 'Unknown'\n",
    "    data['StatusPernikahan'] = data['StatusPernikahan'].replace('-', 'Lainnya')\n",
    "\n",
    "    # Replace 'Product Design (UI & UX)' in AlasanResign with 'Product Design'\n",
    "    data['AlasanResign'] = data['AlasanResign'].replace('Product Design (UI & UX)', 'Unknown')\n",
    "\n",
    "    # Create new 'Age' column from 'TanggalLahir'\n",
    "    # Convert 'TanggalLahir to datetime format\n",
    "    data['TanggalLahir'] = pd.to_datetime(data['TanggalLahir'])\n",
    "\n",
    "    # Calculate age from 'TanggalLahir'\n",
    "    data['Age'] = 2020 - data['TanggalLahir'].dt.year\n",
    "\n",
    "    # Group Age column to create a new column 'AgeGroup'\n",
    "    bin_age = [\n",
    "        (data['Age'] >= 30) & (data['Age'] < 40),\n",
    "        (data['Age'] >= 40) & (data['Age'] < 50),\n",
    "        (data['Age'] >= 50) & (data['Age'] < 60),\n",
    "        (data['Age'] >= 60)\n",
    "    ] \n",
    "    age_label = ['Thirty', 'Forty', 'Fifty', 'Sixty and Above']\n",
    "    data['AgeGroup'] = np.select(bin_age, age_label)\n",
    "\n",
    "    # Convert 'TanggalHiring' to datetime format\n",
    "    data['TanggalHiring'] = pd.to_datetime(data['TanggalHiring'])\n",
    "\n",
    "    # Create new column 'HiringYear' from 'TanggalHiring'\n",
    "    data['HiringYear'] = data['TanggalHiring'].dt.year\n",
    "\n",
    "    # Create target column 'Resign' from 'TanggalResign'\n",
    "    data['Resign'] = data['TanggalResign'].apply(lambda x: 'No' if x == '-' else 'Yes')\n",
    "\n",
    "    # Replace '-' value in 'TanggalResign' with nan\n",
    "    data['TanggalResign'] = data['TanggalResign'].replace('-', np.nan)\n",
    "\n",
    "    # Convert 'TanggalResign' to datetime format\n",
    "    data['TanggalResign'] = pd.to_datetime(data['TanggalResign'])\n",
    "\n",
    "    # Create new column 'ResignYear' from 'TanggalResign'\n",
    "    data['ResignYear'] = data['TanggalResign'].dt.year\n",
    "\n",
    "    # Convert 'TanggalPenilaianKaryawan' to datetime format \n",
    "    data['TanggalPenilaianKaryawan'] = pd.to_datetime(data['TanggalPenilaianKaryawan'])\n",
    "\n",
    "    # Create new column 'YearEval' from 'TanggalPenilaianKaryawan'\n",
    "    data['YearEval'] = data['TanggalPenilaianKaryawan'].dt.year\n",
    "\n",
    "    # Calculate 'HiringToEval' (in year) how long is it from hiring to evaluation\n",
    "    data['HiringToEval'] = data['YearEval'] - data['HiringYear']\n",
    "\n",
    "    return data\n",
    "\n",
    "# Drop 'PernahBekerja' and other unnecessary columns(identifiers)\n",
    "# data_proc1 = data_proc.drop(columns=['PernahBekerja', 'Username', 'EnterpriseID', 'NomorHP', 'Email', 'TanggalLahir', 'TanggalHiring'])"
   ]
  },
  {
   "cell_type": "code",
   "execution_count": 15,
   "metadata": {},
   "outputs": [
    {
     "data": {
      "text/html": [
       "<div>\n",
       "<style scoped>\n",
       "    .dataframe tbody tr th:only-of-type {\n",
       "        vertical-align: middle;\n",
       "    }\n",
       "\n",
       "    .dataframe tbody tr th {\n",
       "        vertical-align: top;\n",
       "    }\n",
       "\n",
       "    .dataframe thead th {\n",
       "        text-align: right;\n",
       "    }\n",
       "</style>\n",
       "<table border=\"1\" class=\"dataframe\">\n",
       "  <thead>\n",
       "    <tr style=\"text-align: right;\">\n",
       "      <th></th>\n",
       "      <th>Username</th>\n",
       "      <th>EnterpriseID</th>\n",
       "      <th>StatusPernikahan</th>\n",
       "      <th>JenisKelamin</th>\n",
       "      <th>StatusKepegawaian</th>\n",
       "      <th>Pekerjaan</th>\n",
       "      <th>JenjangKarir</th>\n",
       "      <th>PerformancePegawai</th>\n",
       "      <th>AsalDaerah</th>\n",
       "      <th>HiringPlatform</th>\n",
       "      <th>SkorSurveyEngagement</th>\n",
       "      <th>SkorKepuasanPegawai</th>\n",
       "      <th>JumlahKeikutsertaanProjek</th>\n",
       "      <th>JumlahKeterlambatanSebulanTerakhir</th>\n",
       "      <th>JumlahKetidakhadiran</th>\n",
       "      <th>NomorHP</th>\n",
       "      <th>Email</th>\n",
       "      <th>TingkatPendidikan</th>\n",
       "      <th>PernahBekerja</th>\n",
       "      <th>AlasanResign</th>\n",
       "      <th>TanggalLahir</th>\n",
       "      <th>TanggalHiring</th>\n",
       "      <th>TanggalPenilaianKaryawan</th>\n",
       "      <th>TanggalResign</th>\n",
       "      <th>Age</th>\n",
       "      <th>AgeGroup</th>\n",
       "      <th>HiringYear</th>\n",
       "      <th>Resign</th>\n",
       "      <th>ResignYear</th>\n",
       "      <th>YearEval</th>\n",
       "      <th>HiringToEval</th>\n",
       "    </tr>\n",
       "  </thead>\n",
       "  <tbody>\n",
       "    <tr>\n",
       "      <th>0</th>\n",
       "      <td>spiritedPorpoise3</td>\n",
       "      <td>111065</td>\n",
       "      <td>Belum_menikah</td>\n",
       "      <td>Pria</td>\n",
       "      <td>Outsource</td>\n",
       "      <td>Software Engineer (Back End)</td>\n",
       "      <td>Freshgraduate_program</td>\n",
       "      <td>Sangat_bagus</td>\n",
       "      <td>Jakarta Timur</td>\n",
       "      <td>Employee_Referral</td>\n",
       "      <td>4</td>\n",
       "      <td>4.0</td>\n",
       "      <td>0.0</td>\n",
       "      <td>0.0</td>\n",
       "      <td>9.0</td>\n",
       "      <td>+6282232522xxx</td>\n",
       "      <td>spiritedPorpoise3135@yahoo.com</td>\n",
       "      <td>Magister</td>\n",
       "      <td>1</td>\n",
       "      <td>masih_bekerja</td>\n",
       "      <td>1972-07-01</td>\n",
       "      <td>2011-01-10</td>\n",
       "      <td>2016-02-15</td>\n",
       "      <td>NaT</td>\n",
       "      <td>48</td>\n",
       "      <td>Forty</td>\n",
       "      <td>2011</td>\n",
       "      <td>No</td>\n",
       "      <td>NaN</td>\n",
       "      <td>2016</td>\n",
       "      <td>5</td>\n",
       "    </tr>\n",
       "    <tr>\n",
       "      <th>1</th>\n",
       "      <td>jealousGelding2</td>\n",
       "      <td>106080</td>\n",
       "      <td>Belum_menikah</td>\n",
       "      <td>Pria</td>\n",
       "      <td>FullTime</td>\n",
       "      <td>Data Analyst</td>\n",
       "      <td>Freshgraduate_program</td>\n",
       "      <td>Sangat_kurang</td>\n",
       "      <td>Jakarta Utara</td>\n",
       "      <td>Website</td>\n",
       "      <td>4</td>\n",
       "      <td>4.0</td>\n",
       "      <td>4.0</td>\n",
       "      <td>0.0</td>\n",
       "      <td>3.0</td>\n",
       "      <td>+6281270745xxx</td>\n",
       "      <td>jealousGelding2239@yahoo.com</td>\n",
       "      <td>Sarjana</td>\n",
       "      <td>1</td>\n",
       "      <td>toxic_culture</td>\n",
       "      <td>1984-04-26</td>\n",
       "      <td>2014-01-06</td>\n",
       "      <td>2020-01-17</td>\n",
       "      <td>2018-06-16</td>\n",
       "      <td>36</td>\n",
       "      <td>Thirty</td>\n",
       "      <td>2014</td>\n",
       "      <td>Yes</td>\n",
       "      <td>2018.0</td>\n",
       "      <td>2020</td>\n",
       "      <td>6</td>\n",
       "    </tr>\n",
       "    <tr>\n",
       "      <th>2</th>\n",
       "      <td>pluckyMuesli3</td>\n",
       "      <td>106452</td>\n",
       "      <td>Menikah</td>\n",
       "      <td>Pria</td>\n",
       "      <td>FullTime</td>\n",
       "      <td>Software Engineer (Front End)</td>\n",
       "      <td>Freshgraduate_program</td>\n",
       "      <td>Bagus</td>\n",
       "      <td>Jakarta Timur</td>\n",
       "      <td>Indeed</td>\n",
       "      <td>4</td>\n",
       "      <td>3.0</td>\n",
       "      <td>0.0</td>\n",
       "      <td>0.0</td>\n",
       "      <td>11.0</td>\n",
       "      <td>+6281346215xxx</td>\n",
       "      <td>pluckyMuesli3961@icloud.com</td>\n",
       "      <td>Magister</td>\n",
       "      <td>1</td>\n",
       "      <td>jam_kerja</td>\n",
       "      <td>1974-01-07</td>\n",
       "      <td>2011-01-10</td>\n",
       "      <td>2016-01-10</td>\n",
       "      <td>2014-09-24</td>\n",
       "      <td>46</td>\n",
       "      <td>Forty</td>\n",
       "      <td>2011</td>\n",
       "      <td>Yes</td>\n",
       "      <td>2014.0</td>\n",
       "      <td>2016</td>\n",
       "      <td>5</td>\n",
       "    </tr>\n",
       "  </tbody>\n",
       "</table>\n",
       "</div>"
      ],
      "text/plain": [
       "            Username  EnterpriseID StatusPernikahan JenisKelamin  \\\n",
       "0  spiritedPorpoise3        111065    Belum_menikah         Pria   \n",
       "1    jealousGelding2        106080    Belum_menikah         Pria   \n",
       "2      pluckyMuesli3        106452          Menikah         Pria   \n",
       "\n",
       "  StatusKepegawaian                      Pekerjaan           JenjangKarir  \\\n",
       "0         Outsource   Software Engineer (Back End)  Freshgraduate_program   \n",
       "1          FullTime                   Data Analyst  Freshgraduate_program   \n",
       "2          FullTime  Software Engineer (Front End)  Freshgraduate_program   \n",
       "\n",
       "  PerformancePegawai     AsalDaerah     HiringPlatform  SkorSurveyEngagement  \\\n",
       "0       Sangat_bagus  Jakarta Timur  Employee_Referral                     4   \n",
       "1      Sangat_kurang  Jakarta Utara            Website                     4   \n",
       "2              Bagus  Jakarta Timur             Indeed                     4   \n",
       "\n",
       "   SkorKepuasanPegawai  JumlahKeikutsertaanProjek  \\\n",
       "0                  4.0                        0.0   \n",
       "1                  4.0                        4.0   \n",
       "2                  3.0                        0.0   \n",
       "\n",
       "   JumlahKeterlambatanSebulanTerakhir  JumlahKetidakhadiran         NomorHP  \\\n",
       "0                                 0.0                   9.0  +6282232522xxx   \n",
       "1                                 0.0                   3.0  +6281270745xxx   \n",
       "2                                 0.0                  11.0  +6281346215xxx   \n",
       "\n",
       "                            Email TingkatPendidikan PernahBekerja  \\\n",
       "0  spiritedPorpoise3135@yahoo.com          Magister             1   \n",
       "1    jealousGelding2239@yahoo.com           Sarjana             1   \n",
       "2     pluckyMuesli3961@icloud.com          Magister             1   \n",
       "\n",
       "    AlasanResign TanggalLahir TanggalHiring TanggalPenilaianKaryawan  \\\n",
       "0  masih_bekerja   1972-07-01    2011-01-10               2016-02-15   \n",
       "1  toxic_culture   1984-04-26    2014-01-06               2020-01-17   \n",
       "2      jam_kerja   1974-01-07    2011-01-10               2016-01-10   \n",
       "\n",
       "  TanggalResign  Age AgeGroup  HiringYear Resign  ResignYear  YearEval  \\\n",
       "0           NaT   48    Forty        2011     No         NaN      2016   \n",
       "1    2018-06-16   36   Thirty        2014    Yes      2018.0      2020   \n",
       "2    2014-09-24   46    Forty        2011    Yes      2014.0      2016   \n",
       "\n",
       "   HiringToEval  \n",
       "0             5  \n",
       "1             6  \n",
       "2             5  "
      ]
     },
     "metadata": {},
     "output_type": "display_data"
    }
   ],
   "source": [
    "# Apply feature engineering function to the data\n",
    "data_eda1 = feat_eng(data_eda)\n",
    "\n",
    "# Display the data after feature engineering\n",
    "display(data_eda1.head(3))"
   ]
  },
  {
   "cell_type": "markdown",
   "metadata": {},
   "source": [
    "## Task 2 - Annual Report on Employee Number Changes\n",
    "**Task Goals**:<br>\n",
    "Creating an annual report on the number of employees in the company.<br><br>\n",
    "**Task Objectives**:<br>\n",
    "1. Create 2 aggregated tables for the number of employees hired and resigned each year.\n",
    "2. Join the 2 tables into 1 table.\n",
    "3. Impute the missing values on the missing years.\n",
    "4. Count total the employee who resigned and still working each year.\n",
    "5. Make a visualization of the annual report.\n",
    "6. Interpret the annual report."
   ]
  },
  {
   "cell_type": "code",
   "execution_count": 16,
   "metadata": {},
   "outputs": [
    {
     "data": {
      "text/html": [
       "<div>\n",
       "<style scoped>\n",
       "    .dataframe tbody tr th:only-of-type {\n",
       "        vertical-align: middle;\n",
       "    }\n",
       "\n",
       "    .dataframe tbody tr th {\n",
       "        vertical-align: top;\n",
       "    }\n",
       "\n",
       "    .dataframe thead th {\n",
       "        text-align: right;\n",
       "    }\n",
       "</style>\n",
       "<table border=\"1\" class=\"dataframe\">\n",
       "  <thead>\n",
       "    <tr style=\"text-align: right;\">\n",
       "      <th></th>\n",
       "      <th>Year</th>\n",
       "      <th>TotalResign</th>\n",
       "      <th>TotalHires</th>\n",
       "      <th>NetHires</th>\n",
       "      <th>CumulativeHiring</th>\n",
       "      <th>CumulativeResign</th>\n",
       "      <th>RemainEmp</th>\n",
       "    </tr>\n",
       "  </thead>\n",
       "  <tbody>\n",
       "    <tr>\n",
       "      <th>0</th>\n",
       "      <td>2013</td>\n",
       "      <td>5.0</td>\n",
       "      <td>43.0</td>\n",
       "      <td>38.0</td>\n",
       "      <td>38.0</td>\n",
       "      <td>5.0</td>\n",
       "      <td>33.0</td>\n",
       "    </tr>\n",
       "    <tr>\n",
       "      <th>1</th>\n",
       "      <td>2014</td>\n",
       "      <td>12.0</td>\n",
       "      <td>56.0</td>\n",
       "      <td>44.0</td>\n",
       "      <td>82.0</td>\n",
       "      <td>17.0</td>\n",
       "      <td>65.0</td>\n",
       "    </tr>\n",
       "    <tr>\n",
       "      <th>2</th>\n",
       "      <td>2015</td>\n",
       "      <td>8.0</td>\n",
       "      <td>31.0</td>\n",
       "      <td>23.0</td>\n",
       "      <td>105.0</td>\n",
       "      <td>25.0</td>\n",
       "      <td>80.0</td>\n",
       "    </tr>\n",
       "    <tr>\n",
       "      <th>3</th>\n",
       "      <td>2016</td>\n",
       "      <td>8.0</td>\n",
       "      <td>14.0</td>\n",
       "      <td>6.0</td>\n",
       "      <td>111.0</td>\n",
       "      <td>33.0</td>\n",
       "      <td>78.0</td>\n",
       "    </tr>\n",
       "    <tr>\n",
       "      <th>4</th>\n",
       "      <td>2017</td>\n",
       "      <td>19.0</td>\n",
       "      <td>5.0</td>\n",
       "      <td>-14.0</td>\n",
       "      <td>97.0</td>\n",
       "      <td>52.0</td>\n",
       "      <td>45.0</td>\n",
       "    </tr>\n",
       "    <tr>\n",
       "      <th>5</th>\n",
       "      <td>2018</td>\n",
       "      <td>26.0</td>\n",
       "      <td>1.0</td>\n",
       "      <td>-25.0</td>\n",
       "      <td>72.0</td>\n",
       "      <td>78.0</td>\n",
       "      <td>-6.0</td>\n",
       "    </tr>\n",
       "    <tr>\n",
       "      <th>6</th>\n",
       "      <td>2019</td>\n",
       "      <td>5.0</td>\n",
       "      <td>0.0</td>\n",
       "      <td>-5.0</td>\n",
       "      <td>67.0</td>\n",
       "      <td>83.0</td>\n",
       "      <td>-16.0</td>\n",
       "    </tr>\n",
       "    <tr>\n",
       "      <th>7</th>\n",
       "      <td>2020</td>\n",
       "      <td>6.0</td>\n",
       "      <td>0.0</td>\n",
       "      <td>-6.0</td>\n",
       "      <td>61.0</td>\n",
       "      <td>89.0</td>\n",
       "      <td>-28.0</td>\n",
       "    </tr>\n",
       "    <tr>\n",
       "      <th>8</th>\n",
       "      <td>2006</td>\n",
       "      <td>0.0</td>\n",
       "      <td>1.0</td>\n",
       "      <td>1.0</td>\n",
       "      <td>62.0</td>\n",
       "      <td>89.0</td>\n",
       "      <td>-27.0</td>\n",
       "    </tr>\n",
       "    <tr>\n",
       "      <th>9</th>\n",
       "      <td>2007</td>\n",
       "      <td>0.0</td>\n",
       "      <td>2.0</td>\n",
       "      <td>2.0</td>\n",
       "      <td>64.0</td>\n",
       "      <td>89.0</td>\n",
       "      <td>-25.0</td>\n",
       "    </tr>\n",
       "    <tr>\n",
       "      <th>10</th>\n",
       "      <td>2008</td>\n",
       "      <td>0.0</td>\n",
       "      <td>2.0</td>\n",
       "      <td>2.0</td>\n",
       "      <td>66.0</td>\n",
       "      <td>89.0</td>\n",
       "      <td>-23.0</td>\n",
       "    </tr>\n",
       "    <tr>\n",
       "      <th>11</th>\n",
       "      <td>2009</td>\n",
       "      <td>0.0</td>\n",
       "      <td>7.0</td>\n",
       "      <td>7.0</td>\n",
       "      <td>73.0</td>\n",
       "      <td>89.0</td>\n",
       "      <td>-16.0</td>\n",
       "    </tr>\n",
       "    <tr>\n",
       "      <th>12</th>\n",
       "      <td>2010</td>\n",
       "      <td>0.0</td>\n",
       "      <td>8.0</td>\n",
       "      <td>8.0</td>\n",
       "      <td>81.0</td>\n",
       "      <td>89.0</td>\n",
       "      <td>-8.0</td>\n",
       "    </tr>\n",
       "    <tr>\n",
       "      <th>13</th>\n",
       "      <td>2011</td>\n",
       "      <td>0.0</td>\n",
       "      <td>76.0</td>\n",
       "      <td>76.0</td>\n",
       "      <td>157.0</td>\n",
       "      <td>89.0</td>\n",
       "      <td>68.0</td>\n",
       "    </tr>\n",
       "    <tr>\n",
       "      <th>14</th>\n",
       "      <td>2012</td>\n",
       "      <td>0.0</td>\n",
       "      <td>41.0</td>\n",
       "      <td>41.0</td>\n",
       "      <td>198.0</td>\n",
       "      <td>89.0</td>\n",
       "      <td>109.0</td>\n",
       "    </tr>\n",
       "  </tbody>\n",
       "</table>\n",
       "</div>"
      ],
      "text/plain": [
       "    Year  TotalResign  TotalHires  NetHires  CumulativeHiring  \\\n",
       "0   2013          5.0        43.0      38.0              38.0   \n",
       "1   2014         12.0        56.0      44.0              82.0   \n",
       "2   2015          8.0        31.0      23.0             105.0   \n",
       "3   2016          8.0        14.0       6.0             111.0   \n",
       "4   2017         19.0         5.0     -14.0              97.0   \n",
       "5   2018         26.0         1.0     -25.0              72.0   \n",
       "6   2019          5.0         0.0      -5.0              67.0   \n",
       "7   2020          6.0         0.0      -6.0              61.0   \n",
       "8   2006          0.0         1.0       1.0              62.0   \n",
       "9   2007          0.0         2.0       2.0              64.0   \n",
       "10  2008          0.0         2.0       2.0              66.0   \n",
       "11  2009          0.0         7.0       7.0              73.0   \n",
       "12  2010          0.0         8.0       8.0              81.0   \n",
       "13  2011          0.0        76.0      76.0             157.0   \n",
       "14  2012          0.0        41.0      41.0             198.0   \n",
       "\n",
       "    CumulativeResign  RemainEmp  \n",
       "0                5.0       33.0  \n",
       "1               17.0       65.0  \n",
       "2               25.0       80.0  \n",
       "3               33.0       78.0  \n",
       "4               52.0       45.0  \n",
       "5               78.0       -6.0  \n",
       "6               83.0      -16.0  \n",
       "7               89.0      -28.0  \n",
       "8               89.0      -27.0  \n",
       "9               89.0      -25.0  \n",
       "10              89.0      -23.0  \n",
       "11              89.0      -16.0  \n",
       "12              89.0       -8.0  \n",
       "13              89.0       68.0  \n",
       "14              89.0      109.0  "
      ]
     },
     "execution_count": 16,
     "metadata": {},
     "output_type": "execute_result"
    }
   ],
   "source": [
    "# Create aggregated tables for number of employees hired and resigned each year\n",
    "resign_agg = data_eda1.groupby('ResignYear')['EnterpriseID'].count().reset_index(name='TotalResign')\n",
    "hire_agg =  data_eda1.groupby('HiringYear')['EnterpriseID'].count().reset_index(name='TotalHires')\n",
    "\n",
    "# Kpom the 2 aggregated tables with outer join because there's missing year in the data\n",
    "metrics_agg = pd.merge(resign_agg, hire_agg, left_on='ResignYear', right_on='HiringYear', how='outer')\n",
    "\n",
    "# Impute missing values in the aggregated table\n",
    "# Define columns to fill missing values\n",
    "cols_fillna = {\n",
    "    'ResignYear': 'HiringYear',\n",
    "    'TotalResign': 0,\n",
    "    'HiringYear': 'ResignYear',\n",
    "    'TotalHires': 0\n",
    "}\n",
    "\n",
    "# Fill/Impute missing values\n",
    "for col, fill_value in cols_fillna.items():\n",
    "    if isinstance(fill_value, str):\n",
    "        metrics_agg[col] = metrics_agg[col].fillna(metrics_agg[fill_value])\n",
    "    else:\n",
    "        metrics_agg[col] = metrics_agg[col].fillna(fill_value)\n",
    "\n",
    "# Set only 1 year column for the year\n",
    "# Rename Resign Year as the year\n",
    "rename_yr = {'ResignYear': 'Year'}\n",
    "metrics_agg = metrics_agg.rename(columns=rename_yr)\n",
    "metrics_agg.drop(columns='HiringYear', inplace=True)\n",
    "\n",
    "# Change the Year dtype to int for better view\n",
    "metrics_agg['Year'] = metrics_agg['Year'].astype(int)\n",
    "\n",
    "# Create a new column by Calculate the difference between TotalHiring and TotalResign for each year\n",
    "metrics_agg['NetHires'] = metrics_agg['TotalHires'] - metrics_agg['TotalResign']\n",
    "\n",
    "# Create new column by calculate the cumulative sum of TotalHiring over the years0\n",
    "metrics_agg['CumulativeHiring'] = metrics_agg['NetHires'].cumsum()\n",
    "\n",
    "# Create a new column by calculate the cumulative sum of TotalResign over the years\n",
    "metrics_agg['CumulativeResign'] = metrics_agg['TotalResign'].cumsum()\n",
    "\n",
    "# Create a new column by calculate the remaining employees for each year\n",
    "# by subtracting the cumulative resignations from the cumulative hirings\n",
    "metrics_agg['RemainEmp'] = metrics_agg['CumulativeHiring'] - metrics_agg['CumulativeResign']\n",
    "\n",
    "metrics_agg"
   ]
  },
  {
   "cell_type": "code",
   "execution_count": 17,
   "metadata": {},
   "outputs": [
    {
     "data": {
      "image/png": "[encoded data removed]",
      "text/plain": [
       "<Figure size 1300x800 with 1 Axes>"
      ]
     },
     "metadata": {},
     "output_type": "display_data"
    }
   ],
   "source": [
    "yearsh = list(range(2015, 2021))\n",
    "dat2015 = metrics_agg[metrics_agg.Year.isin(yearsh)]\n",
    "\n",
    "yearsnh = list(range(2006, 2016))\n",
    "dat2006 = metrics_agg[metrics_agg.Year.isin(yearsnh)]\n",
    "\n",
    "plt.figure(figsize=(13, 8))\n",
    "sns.lineplot(\n",
    "    x='Year',\n",
    "    y='RemainEmp',\n",
    "    data=dat2006,\n",
    "    # marker='o',\n",
    "    color='grey'\n",
    ")\n",
    "\n",
    "line = sns.lineplot(\n",
    "    x='Year',\n",
    "    y='RemainEmp',\n",
    "    data=dat2015,\n",
    "    marker='o',\n",
    "    color='b'\n",
    ")\n",
    "\n",
    "for x, y in zip(dat2015['Year'], dat2015['RemainEmp']):\n",
    "    plt.text(x=x, y=y+3, s=f'{y}', color='black')\n",
    "\n",
    "\n",
    "fdbold = {\n",
    "    'family': 'serif',\n",
    "    'color': 'black',\n",
    "    'weight': 'bold',\n",
    "    'size': 18\n",
    "}\n",
    "\n",
    "plt.title(\n",
    "    'Remaining Employees Over the Years',\n",
    "    fontdict=fdbold, \n",
    "    loc='Left',\n",
    "    pad=27.5\n",
    ")\n",
    "\n",
    "plt.text(\n",
    "    2005.32,\n",
    "    237.5,\n",
    "    'Total Remaining Employee Decreased Significantly From 2015 to 2020',\n",
    "    fontsize=13.5,\n",
    "    color='black'\n",
    ")\n",
    "\n",
    "# plt.text(2013.3, 235, 'From 2015 to 2020', fontsize=13.5, color='black')\n",
    "plt.axvline(2015, color='r', linestyle='--', linewidth=1.5)\n",
    "plt.ylim(-0.5, 233)\n",
    "\n",
    "plt.show()"
   ]
  },
  {
   "cell_type": "markdown",
   "metadata": {},
   "source": [
    "Insights:<br>\n",
    "- The number of employees increase significantly from 2010 to 2015, but then decrease significantly from 2016 to 2020.\n",
    "\n",
    "- From 2016 to 2020, The **company has lost 108 employees** in total, with the highest number of employees lost in 2018."
   ]
  },
  {
   "cell_type": "code",
   "execution_count": 18,
   "metadata": {},
   "outputs": [
    {
     "data": {
      "image/png": "[encoded data removed]",
      "text/plain": [
       "<Figure size 1400x800 with 1 Axes>"
      ]
     },
     "metadata": {},
     "output_type": "display_data"
    }
   ],
   "source": [
    "plt.figure(figsize=(14, 8))\n",
    "\n",
    "sns.lineplot(\n",
    "    x='Year', \n",
    "    y='NetHires',\n",
    "    data=metrics_agg,\n",
    "    # marker='o',\n",
    "    color='g'\n",
    ")\n",
    "sns.lineplot(\n",
    "    x='Year', \n",
    "    y='TotalResign', \n",
    "    data=metrics_agg,\n",
    "    # marker='o', \n",
    "    color='r'\n",
    ")\n",
    "\n",
    "# for i in range(len(metrics_agg)):\n",
    "#     if metrics_agg['Year'].iloc[i] >= 2017:\n",
    "#         plt.annotate(\n",
    "#             metrics_agg['NetHires'].iloc[i],\n",
    "#             (metrics_agg['Year'].iloc[i], metrics_agg['NetHires'].iloc[i]),\n",
    "#             textcoords='offset points',\n",
    "#             xytext=(0, 5),\n",
    "#             ha='left'\n",
    "#         )\n",
    "#         plt.annotate(\n",
    "#             metrics_agg['TotalResign'].iloc[i],\n",
    "#             (metrics_agg['Year'].iloc[i], metrics_agg['TotalResign'].iloc[i]),\n",
    "#             textcoords='offset points',\n",
    "#             xytext=(0, 1),\n",
    "#             ha='right'\n",
    "#         )\n",
    "\n",
    "plt.xticks(metrics_agg['Year'])\n",
    "# plt.yticks(np.arange(-20, 80, 10))\n",
    "plt.ylabel('Number of Employees')\n",
    "fdbold = {'family': 'serif', 'color': 'black', 'weight': 'bold', 'size': 18}\n",
    "plt.title('Net Employees Hired and Resign Over the Years', fontdict=fdbold, pad=44, loc='left')\n",
    "plt.text(2005.31, 87.5, \"From 2016 to 2020,\", fontsize=12, weight='bold', color='black')\n",
    "plt.text(2007.95, 87.5, \"There's more Employee Resigned than Hired,\", fontsize=12, color='black')\n",
    "plt.text(2005.31, 83, \"This Indicates a High Attrition Rate In The Company\", fontsize=12, color='black')\n",
    "\n",
    "plt.text(2019, -11.4, 'Net Hires', color='g', fontsize=12, weight='bold')\n",
    "plt.text(2019, 11, 'Total\\nResign', color='r', fontsize=12, weight='bold')\n",
    "plt.axvline(2016, color='b', linewidth=1.3, alpha=0.4, linestyle='--')\n",
    "\n",
    "plt.grid(axis='y', linestyle='--', alpha=0.4)\n",
    "\n",
    "plt.show()"
   ]
  },
  {
   "cell_type": "markdown",
   "metadata": {},
   "source": [
    "**Insight**:<br>\n",
    "As have said before, the company employee number is increasing every year(total resign still under net hires) from 2006 to 2015, untill 2016 to 2020 the total resign is more than the total hires. This indicates that the company has a problem with employee retention(High Attrition Rate)."
   ]
  },
  {
   "cell_type": "code",
   "execution_count": 19,
   "metadata": {},
   "outputs": [
    {
     "data": {
      "text/plain": [
       "Text(0.5, 1.0, 'Percentage of Employee Resign from 2006 to 2020')"
      ]
     },
     "execution_count": 19,
     "metadata": {},
     "output_type": "execute_result"
    },
    {
     "data": {
      "image/png": "[encoded data removed]",
      "text/plain": [
       "<Figure size 1500x600 with 1 Axes>"
      ]
     },
     "metadata": {},
     "output_type": "display_data"
    }
   ],
   "source": [
    "# Set the figure size\n",
    "plt.figure(figsize=(15, 6))\n",
    "\n",
    "# Get the value counts of total employee resign from 'Resign' column\n",
    "resign_count = data_eda1['Resign'].value_counts()\n",
    "\n",
    "# Get the index of the value counts \n",
    "resign_index = resign_count.index\n",
    "\n",
    "\n",
    "# Create a pie chart for the total employee resign to see the percentage of employee resign\n",
    "wedges, texts, autotexts = plt.pie(\n",
    "    resign_count,\n",
    "    labels=resign_index,\n",
    "    autopct='%1.1f%%',\n",
    "    startangle=90,\n",
    "    colors=['#FD6B6B', '#00D2FF'],\n",
    "    textprops={'fontsize': 12},\n",
    "    wedgeprops=dict(width=0.65),\n",
    "    pctdistance=0.78,\n",
    "    radius=1.2,\n",
    "    counterclock=False\n",
    ")\n",
    "\n",
    "plt.title('Percentage of Employee Resign from 2006 to 2020', fontdict=fdbold, pad=35)"
   ]
  },
  {
   "cell_type": "markdown",
   "metadata": {},
   "source": [
    "**Insight**:<br>\n",
    "The total Attrition Rate from 2006 to 2020 is 31.0% (Mild Imbalanced), while the retention rate is 69.0%,\n",
    "This is a high attrition rate, which means the company has a problem as I said before.\n",
    "Because of this the company needs to take action to reduce the attrition rate and increase the retention rate, That's why I will create a predictive model to predict employee attrition."
   ]
  },
  {
   "cell_type": "markdown",
   "metadata": {},
   "source": [
    "## Task 3 -  Resign Reason Analysis For Employee Attrition Management Strategy\n",
    "**Task Goals**:<br>\n",
    " Visualize data, Give insight to stakeholder, so the stakeholder understand what is the main problem that cause the employee resign, and can take strategy action to reduce employee resignations.<br><br>\n",
    "\n",
    "**Task Objectives**:<br>\n",
    "1. Create aggregated tables resign or not resign by their job title.\n",
    "2. Join 2 aggregated tables (Resign and Not Resign) into 1 table.\n",
    "3. Create 2 new columns from the joined table total employee, and percentage of remaining employees.\n",
    "4. Create a plot to visualize the percentage of remaining employees by job title.\n",
    "5. Create aggregated tables to count total resign employee by career level, employee performance, and resign reason.\n",
    "6. Create a plot to visualize the aggregated table.\n",
    "7. Write an interpretation and recommendation for the plot.\n"
   ]
  },
  {
   "cell_type": "code",
   "execution_count": 20,
   "metadata": {},
   "outputs": [
    {
     "data": {
      "text/html": [
       "<div>\n",
       "<style scoped>\n",
       "    .dataframe tbody tr th:only-of-type {\n",
       "        vertical-align: middle;\n",
       "    }\n",
       "\n",
       "    .dataframe tbody tr th {\n",
       "        vertical-align: top;\n",
       "    }\n",
       "\n",
       "    .dataframe thead th {\n",
       "        text-align: right;\n",
       "    }\n",
       "</style>\n",
       "<table border=\"1\" class=\"dataframe\">\n",
       "  <thead>\n",
       "    <tr style=\"text-align: right;\">\n",
       "      <th></th>\n",
       "      <th>Pekerjaan</th>\n",
       "      <th>TotalResign</th>\n",
       "      <th>TotalRemaining</th>\n",
       "      <th>TotalEmployee</th>\n",
       "      <th>PercentageRemaining</th>\n",
       "      <th>PercentageResign</th>\n",
       "      <th>FullPct</th>\n",
       "    </tr>\n",
       "  </thead>\n",
       "  <tbody>\n",
       "    <tr>\n",
       "      <th>7</th>\n",
       "      <td>DevOps Engineer</td>\n",
       "      <td>0</td>\n",
       "      <td>3</td>\n",
       "      <td>3</td>\n",
       "      <td>100.00</td>\n",
       "      <td>0.00</td>\n",
       "      <td>100</td>\n",
       "    </tr>\n",
       "    <tr>\n",
       "      <th>8</th>\n",
       "      <td>Digital Product Manager</td>\n",
       "      <td>0</td>\n",
       "      <td>2</td>\n",
       "      <td>2</td>\n",
       "      <td>100.00</td>\n",
       "      <td>0.00</td>\n",
       "      <td>100</td>\n",
       "    </tr>\n",
       "    <tr>\n",
       "      <th>9</th>\n",
       "      <td>Machine Learning Engineer</td>\n",
       "      <td>0</td>\n",
       "      <td>2</td>\n",
       "      <td>2</td>\n",
       "      <td>100.00</td>\n",
       "      <td>0.00</td>\n",
       "      <td>100</td>\n",
       "    </tr>\n",
       "    <tr>\n",
       "      <th>10</th>\n",
       "      <td>Product Design (UX Researcher)</td>\n",
       "      <td>0</td>\n",
       "      <td>1</td>\n",
       "      <td>1</td>\n",
       "      <td>100.00</td>\n",
       "      <td>0.00</td>\n",
       "      <td>100</td>\n",
       "    </tr>\n",
       "    <tr>\n",
       "      <th>11</th>\n",
       "      <td>Scrum Master</td>\n",
       "      <td>0</td>\n",
       "      <td>3</td>\n",
       "      <td>3</td>\n",
       "      <td>100.00</td>\n",
       "      <td>0.00</td>\n",
       "      <td>100</td>\n",
       "    </tr>\n",
       "    <tr>\n",
       "      <th>12</th>\n",
       "      <td>Software Architect</td>\n",
       "      <td>0</td>\n",
       "      <td>1</td>\n",
       "      <td>1</td>\n",
       "      <td>100.00</td>\n",
       "      <td>0.00</td>\n",
       "      <td>100</td>\n",
       "    </tr>\n",
       "    <tr>\n",
       "      <th>13</th>\n",
       "      <td>Software Engineer (iOS)</td>\n",
       "      <td>0</td>\n",
       "      <td>3</td>\n",
       "      <td>3</td>\n",
       "      <td>100.00</td>\n",
       "      <td>0.00</td>\n",
       "      <td>100</td>\n",
       "    </tr>\n",
       "    <tr>\n",
       "      <th>5</th>\n",
       "      <td>Software Engineer (Back End)</td>\n",
       "      <td>28</td>\n",
       "      <td>81</td>\n",
       "      <td>53</td>\n",
       "      <td>65.43</td>\n",
       "      <td>34.57</td>\n",
       "      <td>100</td>\n",
       "    </tr>\n",
       "    <tr>\n",
       "      <th>4</th>\n",
       "      <td>Software Engineer (Android)</td>\n",
       "      <td>7</td>\n",
       "      <td>17</td>\n",
       "      <td>10</td>\n",
       "      <td>58.82</td>\n",
       "      <td>41.18</td>\n",
       "      <td>100</td>\n",
       "    </tr>\n",
       "    <tr>\n",
       "      <th>1</th>\n",
       "      <td>Data Engineer</td>\n",
       "      <td>3</td>\n",
       "      <td>7</td>\n",
       "      <td>4</td>\n",
       "      <td>57.14</td>\n",
       "      <td>42.86</td>\n",
       "      <td>100</td>\n",
       "    </tr>\n",
       "    <tr>\n",
       "      <th>3</th>\n",
       "      <td>Product Manager</td>\n",
       "      <td>6</td>\n",
       "      <td>11</td>\n",
       "      <td>5</td>\n",
       "      <td>45.45</td>\n",
       "      <td>54.55</td>\n",
       "      <td>100</td>\n",
       "    </tr>\n",
       "    <tr>\n",
       "      <th>2</th>\n",
       "      <td>Product Design (UI &amp; UX)</td>\n",
       "      <td>9</td>\n",
       "      <td>15</td>\n",
       "      <td>6</td>\n",
       "      <td>40.00</td>\n",
       "      <td>60.00</td>\n",
       "      <td>100</td>\n",
       "    </tr>\n",
       "    <tr>\n",
       "      <th>6</th>\n",
       "      <td>Software Engineer (Front End)</td>\n",
       "      <td>28</td>\n",
       "      <td>44</td>\n",
       "      <td>16</td>\n",
       "      <td>36.36</td>\n",
       "      <td>63.64</td>\n",
       "      <td>100</td>\n",
       "    </tr>\n",
       "    <tr>\n",
       "      <th>0</th>\n",
       "      <td>Data Analyst</td>\n",
       "      <td>8</td>\n",
       "      <td>8</td>\n",
       "      <td>0</td>\n",
       "      <td>0.00</td>\n",
       "      <td>100.00</td>\n",
       "      <td>100</td>\n",
       "    </tr>\n",
       "  </tbody>\n",
       "</table>\n",
       "</div>"
      ],
      "text/plain": [
       "                         Pekerjaan  TotalResign  TotalRemaining  \\\n",
       "7                  DevOps Engineer            0               3   \n",
       "8          Digital Product Manager            0               2   \n",
       "9        Machine Learning Engineer            0               2   \n",
       "10  Product Design (UX Researcher)            0               1   \n",
       "11                    Scrum Master            0               3   \n",
       "12              Software Architect            0               1   \n",
       "13         Software Engineer (iOS)            0               3   \n",
       "5     Software Engineer (Back End)           28              81   \n",
       "4      Software Engineer (Android)            7              17   \n",
       "1                    Data Engineer            3               7   \n",
       "3                  Product Manager            6              11   \n",
       "2         Product Design (UI & UX)            9              15   \n",
       "6    Software Engineer (Front End)           28              44   \n",
       "0                     Data Analyst            8               8   \n",
       "\n",
       "    TotalEmployee  PercentageRemaining  PercentageResign  FullPct  \n",
       "7               3               100.00              0.00      100  \n",
       "8               2               100.00              0.00      100  \n",
       "9               2               100.00              0.00      100  \n",
       "10              1               100.00              0.00      100  \n",
       "11              3               100.00              0.00      100  \n",
       "12              1               100.00              0.00      100  \n",
       "13              3               100.00              0.00      100  \n",
       "5              53                65.43             34.57      100  \n",
       "4              10                58.82             41.18      100  \n",
       "1               4                57.14             42.86      100  \n",
       "3               5                45.45             54.55      100  \n",
       "2               6                40.00             60.00      100  \n",
       "6              16                36.36             63.64      100  \n",
       "0               0                 0.00            100.00      100  "
      ]
     },
     "metadata": {},
     "output_type": "display_data"
    }
   ],
   "source": [
    "# Group the data by 'Pekerjaan' and 'Resign' columns, then count the values and reset the index\n",
    "job_byres = data_eda1.groupby('Pekerjaan')['Resign'].value_counts().reset_index(name='TotalResign')\n",
    "\n",
    "# Filter the rows where 'Resign' is 'Yes' and drop the 'Resign' column\n",
    "resign = job_byres[job_byres['Resign']=='Yes'].drop(columns='Resign')\n",
    "\n",
    "# Filter the rows where 'Resign' is 'No' and drop the 'Resign' columns\n",
    "not_resign = job_byres[job_byres['Resign']=='No'].drop(columns='Resign')\n",
    "\n",
    "# Rename the 'TotalResign' column to 'TotalRemaining' in the not_resign dataframe\n",
    "not_resign = not_resign.rename(columns={'TotalResign': 'TotalRemaining'})\n",
    "\n",
    "# Merge the 'resign' and 'not_resign' dataframes on 'Pekerjaan' column\n",
    "joinedres = pd.merge(resign, not_resign, on='Pekerjaan', how='outer')\n",
    "\n",
    "# Fill any Nan values with 0 because the NaN values are the result of the outer join\n",
    "joinedres.fillna(0, inplace=True)\n",
    "\n",
    "# Convert the 'TotalResign' and 'TotalRemaining' columns to integer\n",
    "joinedres['TotalResign'] = joinedres['TotalResign'].astype(int)\n",
    "\n",
    "# Calculate the total number of employees by subtracting 'TotalResign' from 'TotalRemaining'\n",
    "joinedres['TotalEmployee'] = joinedres['TotalRemaining'] - joinedres['TotalResign']\n",
    "\n",
    "# Calculate the percentage of remaining employees\n",
    "joinedres['PercentageRemaining'] = round((joinedres['TotalEmployee'] / joinedres['TotalRemaining']) * 100, 2)\n",
    "\n",
    "# Calculate the percentage of employees that resigned\n",
    "joinedres['PercentageResign'] = round((joinedres['TotalResign'] / joinedres['TotalRemaining']) * 100, 2)\n",
    "\n",
    "# add new column 'FullPct' with 100 value for plotting purpose\n",
    "joinedres['FullPct'] = 100\n",
    "\n",
    "# Sort the joinedres dataframe by 'PercentageResign' column\n",
    "joinedres = joinedres.sort_values(by='PercentageResign')\n",
    "\n",
    "# Display the joinedres dataframe\n",
    "display(joinedres)"
   ]
  },
  {
   "cell_type": "code",
   "execution_count": 21,
   "metadata": {},
   "outputs": [
    {
     "data": {
      "image/png": "[encoded data removed]",
      "text/plain": [
       "<Figure size 1800x900 with 1 Axes>"
      ]
     },
     "metadata": {},
     "output_type": "display_data"
    }
   ],
   "source": [
    "# Set the figure size\n",
    "plt.figure(figsize=(18, 9))\n",
    "\n",
    "# Create a barplot for the percentage of remaining employees by job position\n",
    "sns.barplot(\n",
    "    x='FullPct',\n",
    "    y='Pekerjaan',\n",
    "    data=joinedres,\n",
    "    color='#00D2FF'\n",
    ")\n",
    "\n",
    "# Create a barplot for the percentage of employee resign by job position\n",
    "bares = sns.barplot(\n",
    "    x='PercentageResign',\n",
    "    y='Pekerjaan',\n",
    "    data=joinedres,\n",
    "    color='#FD6B6B'\n",
    ")\n",
    "\n",
    "# add annotation for percentage resign\n",
    "for i in range(len(joinedres)):\n",
    "    bares.text(\n",
    "        joinedres['PercentageResign'].iloc[i] + 1,\n",
    "        i,\n",
    "        f'{joinedres[\"PercentageResign\"].iloc[i]}%',\n",
    "        color='black',\n",
    "        ha='left',\n",
    "        va='center'\n",
    "    )\n",
    "\n",
    "# Update defined fondict before \n",
    "fdbold['size'] = 22\n",
    "\n",
    "# Add title for the plot\n",
    "plt.title(\n",
    "    'Percentage of Employee Resign by Job Position',\n",
    "    fontdict=fdbold,\n",
    "    pad=42.5,\n",
    "    loc='left'\n",
    ")\n",
    "\n",
    "# Add text for the plot\n",
    "plt.text(\n",
    "    0,\n",
    "    -0.62,\n",
    "    'Job Positions with high resignation rates like DA, SE(Front End), Product Manager, etc.\\nNeeds to be reviewed and improved to reduce the resignation rate.', \n",
    "    fontsize=15,\n",
    "    # fontweight='bold',\n",
    "    color='black'\n",
    ")\n",
    "\n",
    "# Add x and y labels\n",
    "plt.xlabel('Total Employee(%)', fontsize=13, fontweight='bold')\n",
    "plt.ylabel('Job Position', fontsize=13, fontweight='bold')\n",
    "\n",
    "plt.show()"
   ]
  },
  {
   "cell_type": "markdown",
   "metadata": {},
   "source": [
    "**Insights**:\n",
    "- Job Position with the highest percentage of resign is 'Data Analyst' with 100% resign rate.\n",
    "\n",
    "- Job Position with resign rate *above 50%* other than DA are:\n",
    "    - Software Engineer (Front End)\n",
    "    - Product Design (UI & UX)\n",
    "    - Product Manager\n",
    "\n",
    "- Job Position with resign rate *below 50%* are:\n",
    "    - Data Engineer\n",
    "    - Software Engineer (Android)\n",
    "    - Software Engineer (Back End)"
   ]
  },
  {
   "cell_type": "code",
   "execution_count": 22,
   "metadata": {},
   "outputs": [
    {
     "data": {
      "application/vnd.plotly.v1+json": {
       "config": {
        "plotlyServerURL": "https://plot.ly"
       },
       "data": [
        {
         "link": {
          "line": {
           "color": "white",
           "width": 0.5
          },
          "source": [
           0,
           0,
           1,
           1,
           1,
           2,
           2,
           2,
           2,
           2,
           3,
           3,
           3,
           4,
           4,
           4,
           5,
           5,
           5,
           5,
           5,
           5,
           5,
           5,
           5,
           6,
           6,
           6,
           6,
           6,
           6,
           6,
           6,
           6
          ],
          "target": [
           7,
           8,
           9,
           10,
           11,
           12,
           13,
           10,
           14,
           15,
           13,
           10,
           14,
           13,
           11,
           14,
           12,
           13,
           7,
           10,
           11,
           14,
           15,
           16,
           8,
           12,
           9,
           13,
           10,
           11,
           14,
           15,
           16,
           8
          ],
          "value": [
           2,
           6,
           1,
           1,
           1,
           1,
           2,
           3,
           1,
           2,
           3,
           2,
           1,
           3,
           2,
           2,
           1,
           4,
           2,
           6,
           4,
           2,
           5,
           3,
           1,
           2,
           1,
           2,
           4,
           4,
           3,
           1,
           8,
           3
          ]
         },
         "node": {
          "label": [
           "Data Analyst",
           "Data Engineer",
           "Product Design (UI & UX)",
           "Product Manager",
           "Software Engineer (Android)",
           "Software Engineer (Back End)",
           "Software Engineer (Front End)",
           "internal_conflict",
           "toxic_culture",
           "apresiasi",
           "jam_kerja",
           "kejelasan_karir",
           "Unknown",
           "ganti_karir",
           "leadership",
           "tidak_bahagia",
           "tidak_bisa_remote"
          ],
          "line": {
           "color": "black",
           "width": 0.5
          },
          "pad": 15,
          "thickness": 25
         },
         "type": "sankey"
        }
       ],
       "layout": {
        "font": {
         "size": 13.5
        },
        "height": 800,
        "template": {
         "data": {
          "bar": [
           {
            "error_x": {
             "color": "#2a3f5f"
            },
            "error_y": {
             "color": "#2a3f5f"
            },
            "marker": {
             "line": {
              "color": "#E5ECF6",
              "width": 0.5
             },
             "pattern": {
              "fillmode": "overlay",
              "size": 10,
              "solidity": 0.2
             }
            },
            "type": "bar"
           }
          ],
          "barpolar": [
           {
            "marker": {
             "line": {
              "color": "#E5ECF6",
              "width": 0.5
             },
             "pattern": {
              "fillmode": "overlay",
              "size": 10,
              "solidity": 0.2
             }
            },
            "type": "barpolar"
           }
          ],
          "carpet": [
           {
            "aaxis": {
             "endlinecolor": "#2a3f5f",
             "gridcolor": "white",
             "linecolor": "white",
             "minorgridcolor": "white",
             "startlinecolor": "#2a3f5f"
            },
            "baxis": {
             "endlinecolor": "#2a3f5f",
             "gridcolor": "white",
             "linecolor": "white",
             "minorgridcolor": "white",
             "startlinecolor": "#2a3f5f"
            },
            "type": "carpet"
           }
          ],
          "choropleth": [
           {
            "colorbar": {
             "outlinewidth": 0,
             "ticks": ""
            },
            "type": "choropleth"
           }
          ],
          "contour": [
           {
            "colorbar": {
             "outlinewidth": 0,
             "ticks": ""
            },
            "colorscale": [
             [
              0,
              "#0d0887"
             ],
             [
              0.1111111111111111,
              "#46039f"
             ],
             [
              0.2222222222222222,
              "#7201a8"
             ],
             [
              0.3333333333333333,
              "#9c179e"
             ],
             [
              0.4444444444444444,
              "#bd3786"
             ],
             [
              0.5555555555555556,
              "#d8576b"
             ],
             [
              0.6666666666666666,
              "#ed7953"
             ],
             [
              0.7777777777777778,
              "#fb9f3a"
             ],
             [
              0.8888888888888888,
              "#fdca26"
             ],
             [
              1,
              "#f0f921"
             ]
            ],
            "type": "contour"
           }
          ],
          "contourcarpet": [
           {
            "colorbar": {
             "outlinewidth": 0,
             "ticks": ""
            },
            "type": "contourcarpet"
           }
          ],
          "heatmap": [
           {
            "colorbar": {
             "outlinewidth": 0,
             "ticks": ""
            },
            "colorscale": [
             [
              0,
              "#0d0887"
             ],
             [
              0.1111111111111111,
              "#46039f"
             ],
             [
              0.2222222222222222,
              "#7201a8"
             ],
             [
              0.3333333333333333,
              "#9c179e"
             ],
             [
              0.4444444444444444,
              "#bd3786"
             ],
             [
              0.5555555555555556,
              "#d8576b"
             ],
             [
              0.6666666666666666,
              "#ed7953"
             ],
             [
              0.7777777777777778,
              "#fb9f3a"
             ],
             [
              0.8888888888888888,
              "#fdca26"
             ],
             [
              1,
              "#f0f921"
             ]
            ],
            "type": "heatmap"
           }
          ],
          "heatmapgl": [
           {
            "colorbar": {
             "outlinewidth": 0,
             "ticks": ""
            },
            "colorscale": [
             [
              0,
              "#0d0887"
             ],
             [
              0.1111111111111111,
              "#46039f"
             ],
             [
              0.2222222222222222,
              "#7201a8"
             ],
             [
              0.3333333333333333,
              "#9c179e"
             ],
             [
              0.4444444444444444,
              "#bd3786"
             ],
             [
              0.5555555555555556,
              "#d8576b"
             ],
             [
              0.6666666666666666,
              "#ed7953"
             ],
             [
              0.7777777777777778,
              "#fb9f3a"
             ],
             [
              0.8888888888888888,
              "#fdca26"
             ],
             [
              1,
              "#f0f921"
             ]
            ],
            "type": "heatmapgl"
           }
          ],
          "histogram": [
           {
            "marker": {
             "pattern": {
              "fillmode": "overlay",
              "size": 10,
              "solidity": 0.2
             }
            },
            "type": "histogram"
           }
          ],
          "histogram2d": [
           {
            "colorbar": {
             "outlinewidth": 0,
             "ticks": ""
            },
            "colorscale": [
             [
              0,
              "#0d0887"
             ],
             [
              0.1111111111111111,
              "#46039f"
             ],
             [
              0.2222222222222222,
              "#7201a8"
             ],
             [
              0.3333333333333333,
              "#9c179e"
             ],
             [
              0.4444444444444444,
              "#bd3786"
             ],
             [
              0.5555555555555556,
              "#d8576b"
             ],
             [
              0.6666666666666666,
              "#ed7953"
             ],
             [
              0.7777777777777778,
              "#fb9f3a"
             ],
             [
              0.8888888888888888,
              "#fdca26"
             ],
             [
              1,
              "#f0f921"
             ]
            ],
            "type": "histogram2d"
           }
          ],
          "histogram2dcontour": [
           {
            "colorbar": {
             "outlinewidth": 0,
             "ticks": ""
            },
            "colorscale": [
             [
              0,
              "#0d0887"
             ],
             [
              0.1111111111111111,
              "#46039f"
             ],
             [
              0.2222222222222222,
              "#7201a8"
             ],
             [
              0.3333333333333333,
              "#9c179e"
             ],
             [
              0.4444444444444444,
              "#bd3786"
             ],
             [
              0.5555555555555556,
              "#d8576b"
             ],
             [
              0.6666666666666666,
              "#ed7953"
             ],
             [
              0.7777777777777778,
              "#fb9f3a"
             ],
             [
              0.8888888888888888,
              "#fdca26"
             ],
             [
              1,
              "#f0f921"
             ]
            ],
            "type": "histogram2dcontour"
           }
          ],
          "mesh3d": [
           {
            "colorbar": {
             "outlinewidth": 0,
             "ticks": ""
            },
            "type": "mesh3d"
           }
          ],
          "parcoords": [
           {
            "line": {
             "colorbar": {
              "outlinewidth": 0,
              "ticks": ""
             }
            },
            "type": "parcoords"
           }
          ],
          "pie": [
           {
            "automargin": true,
            "type": "pie"
           }
          ],
          "scatter": [
           {
            "fillpattern": {
             "fillmode": "overlay",
             "size": 10,
             "solidity": 0.2
            },
            "type": "scatter"
           }
          ],
          "scatter3d": [
           {
            "line": {
             "colorbar": {
              "outlinewidth": 0,
              "ticks": ""
             }
            },
            "marker": {
             "colorbar": {
              "outlinewidth": 0,
              "ticks": ""
             }
            },
            "type": "scatter3d"
           }
          ],
          "scattercarpet": [
           {
            "marker": {
             "colorbar": {
              "outlinewidth": 0,
              "ticks": ""
             }
            },
            "type": "scattercarpet"
           }
          ],
          "scattergeo": [
           {
            "marker": {
             "colorbar": {
              "outlinewidth": 0,
              "ticks": ""
             }
            },
            "type": "scattergeo"
           }
          ],
          "scattergl": [
           {
            "marker": {
             "colorbar": {
              "outlinewidth": 0,
              "ticks": ""
             }
            },
            "type": "scattergl"
           }
          ],
          "scattermapbox": [
           {
            "marker": {
             "colorbar": {
              "outlinewidth": 0,
              "ticks": ""
             }
            },
            "type": "scattermapbox"
           }
          ],
          "scatterpolar": [
           {
            "marker": {
             "colorbar": {
              "outlinewidth": 0,
              "ticks": ""
             }
            },
            "type": "scatterpolar"
           }
          ],
          "scatterpolargl": [
           {
            "marker": {
             "colorbar": {
              "outlinewidth": 0,
              "ticks": ""
             }
            },
            "type": "scatterpolargl"
           }
          ],
          "scatterternary": [
           {
            "marker": {
             "colorbar": {
              "outlinewidth": 0,
              "ticks": ""
             }
            },
            "type": "scatterternary"
           }
          ],
          "surface": [
           {
            "colorbar": {
             "outlinewidth": 0,
             "ticks": ""
            },
            "colorscale": [
             [
              0,
              "#0d0887"
             ],
             [
              0.1111111111111111,
              "#46039f"
             ],
             [
              0.2222222222222222,
              "#7201a8"
             ],
             [
              0.3333333333333333,
              "#9c179e"
             ],
             [
              0.4444444444444444,
              "#bd3786"
             ],
             [
              0.5555555555555556,
              "#d8576b"
             ],
             [
              0.6666666666666666,
              "#ed7953"
             ],
             [
              0.7777777777777778,
              "#fb9f3a"
             ],
             [
              0.8888888888888888,
              "#fdca26"
             ],
             [
              1,
              "#f0f921"
             ]
            ],
            "type": "surface"
           }
          ],
          "table": [
           {
            "cells": {
             "fill": {
              "color": "#EBF0F8"
             },
             "line": {
              "color": "white"
             }
            },
            "header": {
             "fill": {
              "color": "#C8D4E3"
             },
             "line": {
              "color": "white"
             }
            },
            "type": "table"
           }
          ]
         },
         "layout": {
          "annotationdefaults": {
           "arrowcolor": "#2a3f5f",
           "arrowhead": 0,
           "arrowwidth": 1
          },
          "autotypenumbers": "strict",
          "coloraxis": {
           "colorbar": {
            "outlinewidth": 0,
            "ticks": ""
           }
          },
          "colorscale": {
           "diverging": [
            [
             0,
             "#8e0152"
            ],
            [
             0.1,
             "#c51b7d"
            ],
            [
             0.2,
             "#de77ae"
            ],
            [
             0.3,
             "#f1b6da"
            ],
            [
             0.4,
             "#fde0ef"
            ],
            [
             0.5,
             "#f7f7f7"
            ],
            [
             0.6,
             "#e6f5d0"
            ],
            [
             0.7,
             "#b8e186"
            ],
            [
             0.8,
             "#7fbc41"
            ],
            [
             0.9,
             "#4d9221"
            ],
            [
             1,
             "#276419"
            ]
           ],
           "sequential": [
            [
             0,
             "#0d0887"
            ],
            [
             0.1111111111111111,
             "#46039f"
            ],
            [
             0.2222222222222222,
             "#7201a8"
            ],
            [
             0.3333333333333333,
             "#9c179e"
            ],
            [
             0.4444444444444444,
             "#bd3786"
            ],
            [
             0.5555555555555556,
             "#d8576b"
            ],
            [
             0.6666666666666666,
             "#ed7953"
            ],
            [
             0.7777777777777778,
             "#fb9f3a"
            ],
            [
             0.8888888888888888,
             "#fdca26"
            ],
            [
             1,
             "#f0f921"
            ]
           ],
           "sequentialminus": [
            [
             0,
             "#0d0887"
            ],
            [
             0.1111111111111111,
             "#46039f"
            ],
            [
             0.2222222222222222,
             "#7201a8"
            ],
            [
             0.3333333333333333,
             "#9c179e"
            ],
            [
             0.4444444444444444,
             "#bd3786"
            ],
            [
             0.5555555555555556,
             "#d8576b"
            ],
            [
             0.6666666666666666,
             "#ed7953"
            ],
            [
             0.7777777777777778,
             "#fb9f3a"
            ],
            [
             0.8888888888888888,
             "#fdca26"
            ],
            [
             1,
             "#f0f921"
            ]
           ]
          },
          "colorway": [
           "#636efa",
           "#EF553B",
           "#00cc96",
           "#ab63fa",
           "#FFA15A",
           "#19d3f3",
           "#FF6692",
           "#B6E880",
           "#FF97FF",
           "#FECB52"
          ],
          "font": {
           "color": "#2a3f5f"
          },
          "geo": {
           "bgcolor": "white",
           "lakecolor": "white",
           "landcolor": "#E5ECF6",
           "showlakes": true,
           "showland": true,
           "subunitcolor": "white"
          },
          "hoverlabel": {
           "align": "left"
          },
          "hovermode": "closest",
          "mapbox": {
           "style": "light"
          },
          "paper_bgcolor": "white",
          "plot_bgcolor": "#E5ECF6",
          "polar": {
           "angularaxis": {
            "gridcolor": "white",
            "linecolor": "white",
            "ticks": ""
           },
           "bgcolor": "#E5ECF6",
           "radialaxis": {
            "gridcolor": "white",
            "linecolor": "white",
            "ticks": ""
           }
          },
          "scene": {
           "xaxis": {
            "backgroundcolor": "#E5ECF6",
            "gridcolor": "white",
            "gridwidth": 2,
            "linecolor": "white",
            "showbackground": true,
            "ticks": "",
            "zerolinecolor": "white"
           },
           "yaxis": {
            "backgroundcolor": "#E5ECF6",
            "gridcolor": "white",
            "gridwidth": 2,
            "linecolor": "white",
            "showbackground": true,
            "ticks": "",
            "zerolinecolor": "white"
           },
           "zaxis": {
            "backgroundcolor": "#E5ECF6",
            "gridcolor": "white",
            "gridwidth": 2,
            "linecolor": "white",
            "showbackground": true,
            "ticks": "",
            "zerolinecolor": "white"
           }
          },
          "shapedefaults": {
           "line": {
            "color": "#2a3f5f"
           }
          },
          "ternary": {
           "aaxis": {
            "gridcolor": "white",
            "linecolor": "white",
            "ticks": ""
           },
           "baxis": {
            "gridcolor": "white",
            "linecolor": "white",
            "ticks": ""
           },
           "bgcolor": "#E5ECF6",
           "caxis": {
            "gridcolor": "white",
            "linecolor": "white",
            "ticks": ""
           }
          },
          "title": {
           "x": 0.05
          },
          "xaxis": {
           "automargin": true,
           "gridcolor": "white",
           "linecolor": "white",
           "ticks": "",
           "title": {
            "standoff": 15
           },
           "zerolinecolor": "white",
           "zerolinewidth": 2
          },
          "yaxis": {
           "automargin": true,
           "gridcolor": "white",
           "linecolor": "white",
           "ticks": "",
           "title": {
            "standoff": 15
           },
           "zerolinecolor": "white",
           "zerolinewidth": 2
          }
         }
        },
        "title": {
         "font": {
          "color": "black",
          "family": "serif",
          "size": 22
         },
         "text": "Reasons for Employee Resign by Job Position"
        },
        "width": 800
       }
      }
     },
     "metadata": {},
     "output_type": "display_data"
    }
   ],
   "source": [
    "# Create a new dataframe by grouping  'Pekerjaan' and 'AlasanResign' by 'Resign' column\n",
    "jobres = data_eda1.groupby(['Pekerjaan', 'AlasanResign'])['Resign'].value_counts().reset_index(name='Total')\n",
    "\n",
    "# filter the rows where 'Resign' is 'Yes'\n",
    "jobres = jobres[jobres['Resign']=='Yes']\n",
    "\n",
    "# Create a dictionary to map unique values to integers for source and target\n",
    "unique_jobs = jobres['Pekerjaan'].unique()\n",
    "unique_reasons = jobres['AlasanResign'].unique()\n",
    "label_list = list(unique_jobs) + list(unique_reasons)\n",
    "label_dict = {label: index for index, label in enumerate(label_list)}\n",
    "\n",
    "# Create source, target and values lists\n",
    "source = jobres['Pekerjaan'].map(label_dict).values\n",
    "target = jobres['AlasanResign'].map(label_dict).values\n",
    "value = jobres['Total'].values\n",
    "\n",
    "# Create the sankey chart\n",
    "fig = go.Figure(data=[go.Sankey(\n",
    "    node=dict(\n",
    "        pad=15,\n",
    "        thickness=25,\n",
    "        line=dict(color='black', width=0.5),\n",
    "        label=label_list,\n",
    "        # color='red'\n",
    "    ),\n",
    "    link=dict(\n",
    "        source=source,\n",
    "        target=target,\n",
    "        value=value,\n",
    "        # color='blue',\n",
    "        # hoverinfo='value',\n",
    "        line=dict(width=0.5, color='white')\n",
    "    )\n",
    ")])\n",
    "\n",
    "fig.update_layout(\n",
    "    title_text='Reasons for Employee Resign by Job Position',\n",
    "    title_font=dict(\n",
    "        family='serif',\n",
    "        size=22,\n",
    "        color='black'\n",
    "    ),\n",
    "    font_size=13.5,\n",
    "    width=800,\n",
    "    height=800 \n",
    ")\n",
    "\n",
    "fig.show()"
   ]
  },
  {
   "cell_type": "markdown",
   "metadata": {},
   "source": [
    "**Insights**:\n",
    "- Data Analyst with the highest resignation rate 100% (from the previous plot), the resignation reason is mostly because of the toxic culture and internal conflict in the company. This could indicate that employees are feeling unsatisfied with the work environment and relationships with colleagues in the company, management need to consider improving the company culture and resolving internal conflicts to retain employees.\n",
    "\n",
    "- Job Position Software Engineer (Front End & Back End) has pattern that one of the reason their resigned is because they can't work remotely, this could indicate that employees are looking for flexibility in their work arrangements. management need to consider offering remote work or hybrid work options to retain employees. \n",
    "\n",
    "- from 5 job positions are resigned because of the jam kerja (work hours), This could indicate that employees are feeling overworked or unsatisfied with the work-life balance offered by the company. management need to consider redistributing tasks, hiring additional support, or offering flexible work arrangements to improve work-life balance.\n",
    "\n",
    "- reason ganti karir (switch career) or like kejelasan karir (career clarity) is also a common employee's reason for resign in the company with 5 job positions is resigned because of this, this could indicate that employees are looking for new challanges or better opportunities. management need to consider offering career development opportunities, training programs, or promotion to retain employees.\n",
    "<br><br>\n",
    "\n",
    "**Actionable Recommendations**:<br>\n",
    "Based on the reasons, I suggest specific actions for management to address them.\n",
    "- For toxic culture: Implement team-building activities, conduct anonymous employee surveys, and offer conflict resolution training for managers.\n",
    "\n",
    "- For remote work: Pilot a remote work program or offer a hybrid work model.\n",
    "\n",
    "- For work-life balance: Analyze workload distribution and consider hiring additional staff or implementing flexible scheduling options.\n",
    "\n",
    "- For career development: Create clear career paths, offer mentorship programs, and provide opportunities for skill development through training or conferences.\n"
   ]
  },
  {
   "cell_type": "code",
   "execution_count": 23,
   "metadata": {},
   "outputs": [
    {
     "data": {
      "application/vnd.plotly.v1+json": {
       "config": {
        "plotlyServerURL": "https://plot.ly"
       },
       "data": [
        {
         "branchvalues": "total",
         "domain": {
          "x": [
           0,
           1
          ],
          "y": [
           0,
           1
          ]
         },
         "hovertemplate": "labels=%{label}<br>Total=%{value}<br>parent=%{parent}<br>id=%{id}<extra></extra>",
         "ids": [
          "Senior_level/Biasa/Unknown",
          "Freshgraduate_program/Sangat_bagus/Unknown",
          "Mid_level/Sangat_bagus/Unknown",
          "Freshgraduate_program/Biasa/apresiasi",
          "Freshgraduate_program/Sangat_bagus/apresiasi",
          "Freshgraduate_program/Bagus/ganti_karir",
          "Senior_level/Bagus/ganti_karir",
          "Freshgraduate_program/Biasa/ganti_karir",
          "Mid_level/Biasa/ganti_karir",
          "Senior_level/Biasa/ganti_karir",
          "Freshgraduate_program/Kurang/ganti_karir",
          "Mid_level/Kurang/ganti_karir",
          "Mid_level/Sangat_bagus/ganti_karir",
          "Freshgraduate_program/Sangat_kurang/ganti_karir",
          "Freshgraduate_program/Biasa/internal_conflict",
          "Senior_level/Biasa/internal_conflict",
          "Freshgraduate_program/Sangat_bagus/internal_conflict",
          "Mid_level/Sangat_bagus/internal_conflict",
          "Freshgraduate_program/Bagus/jam_kerja",
          "Freshgraduate_program/Biasa/jam_kerja",
          "Mid_level/Biasa/jam_kerja",
          "Senior_level/Biasa/jam_kerja",
          "Freshgraduate_program/Kurang/jam_kerja",
          "Mid_level/Sangat_bagus/jam_kerja",
          "Freshgraduate_program/Sangat_kurang/jam_kerja",
          "Mid_level/Sangat_kurang/jam_kerja",
          "Senior_level/Sangat_kurang/jam_kerja",
          "Freshgraduate_program/Bagus/kejelasan_karir",
          "Mid_level/Bagus/kejelasan_karir",
          "Freshgraduate_program/Biasa/kejelasan_karir",
          "Mid_level/Biasa/kejelasan_karir",
          "Senior_level/Biasa/kejelasan_karir",
          "Mid_level/Sangat_bagus/kejelasan_karir",
          "Senior_level/Sangat_bagus/kejelasan_karir",
          "Freshgraduate_program/Sangat_kurang/kejelasan_karir",
          "Freshgraduate_program/Bagus/leadership",
          "Mid_level/Bagus/leadership",
          "Freshgraduate_program/Biasa/leadership",
          "Senior_level/Kurang/leadership",
          "Freshgraduate_program/Sangat_bagus/leadership",
          "Mid_level/Sangat_bagus/leadership",
          "Senior_level/Bagus/tidak_bahagia",
          "Freshgraduate_program/Biasa/tidak_bahagia",
          "Freshgraduate_program/Kurang/tidak_bahagia",
          "Mid_level/Kurang/tidak_bahagia",
          "Freshgraduate_program/Sangat_bagus/tidak_bahagia",
          "Senior_level/Sangat_bagus/tidak_bahagia",
          "Freshgraduate_program/Bagus/tidak_bisa_remote",
          "Freshgraduate_program/Biasa/tidak_bisa_remote",
          "Mid_level/Biasa/tidak_bisa_remote",
          "Freshgraduate_program/Sangat_bagus/tidak_bisa_remote",
          "Mid_level/Sangat_bagus/tidak_bisa_remote",
          "Freshgraduate_program/Bagus/toxic_culture",
          "Freshgraduate_program/Biasa/toxic_culture",
          "Senior_level/Kurang/toxic_culture",
          "Freshgraduate_program/Sangat_bagus/toxic_culture",
          "Senior_level/Sangat_bagus/toxic_culture",
          "Freshgraduate_program/Sangat_kurang/toxic_culture",
          "Senior_level/Sangat_kurang/toxic_culture",
          "Freshgraduate_program/Bagus",
          "Mid_level/Bagus",
          "Senior_level/Bagus",
          "Freshgraduate_program/Biasa",
          "Mid_level/Biasa",
          "Senior_level/Biasa",
          "Freshgraduate_program/Kurang",
          "Mid_level/Kurang",
          "Senior_level/Kurang",
          "Freshgraduate_program/Sangat_bagus",
          "Mid_level/Sangat_bagus",
          "Senior_level/Sangat_bagus",
          "Freshgraduate_program/Sangat_kurang",
          "Mid_level/Sangat_kurang",
          "Senior_level/Sangat_kurang",
          "Freshgraduate_program",
          "Mid_level",
          "Senior_level"
         ],
         "labels": [
          "Unknown",
          "Unknown",
          "Unknown",
          "apresiasi",
          "apresiasi",
          "ganti_karir",
          "ganti_karir",
          "ganti_karir",
          "ganti_karir",
          "ganti_karir",
          "ganti_karir",
          "ganti_karir",
          "ganti_karir",
          "ganti_karir",
          "internal_conflict",
          "internal_conflict",
          "internal_conflict",
          "internal_conflict",
          "jam_kerja",
          "jam_kerja",
          "jam_kerja",
          "jam_kerja",
          "jam_kerja",
          "jam_kerja",
          "jam_kerja",
          "jam_kerja",
          "jam_kerja",
          "kejelasan_karir",
          "kejelasan_karir",
          "kejelasan_karir",
          "kejelasan_karir",
          "kejelasan_karir",
          "kejelasan_karir",
          "kejelasan_karir",
          "kejelasan_karir",
          "leadership",
          "leadership",
          "leadership",
          "leadership",
          "leadership",
          "leadership",
          "tidak_bahagia",
          "tidak_bahagia",
          "tidak_bahagia",
          "tidak_bahagia",
          "tidak_bahagia",
          "tidak_bahagia",
          "tidak_bisa_remote",
          "tidak_bisa_remote",
          "tidak_bisa_remote",
          "tidak_bisa_remote",
          "tidak_bisa_remote",
          "toxic_culture",
          "toxic_culture",
          "toxic_culture",
          "toxic_culture",
          "toxic_culture",
          "toxic_culture",
          "toxic_culture",
          "Bagus",
          "Bagus",
          "Bagus",
          "Biasa",
          "Biasa",
          "Biasa",
          "Kurang",
          "Kurang",
          "Kurang",
          "Sangat_bagus",
          "Sangat_bagus",
          "Sangat_bagus",
          "Sangat_kurang",
          "Sangat_kurang",
          "Sangat_kurang",
          "Freshgraduate_program",
          "Mid_level",
          "Senior_level"
         ],
         "name": "",
         "parents": [
          "Senior_level/Biasa",
          "Freshgraduate_program/Sangat_bagus",
          "Mid_level/Sangat_bagus",
          "Freshgraduate_program/Biasa",
          "Freshgraduate_program/Sangat_bagus",
          "Freshgraduate_program/Bagus",
          "Senior_level/Bagus",
          "Freshgraduate_program/Biasa",
          "Mid_level/Biasa",
          "Senior_level/Biasa",
          "Freshgraduate_program/Kurang",
          "Mid_level/Kurang",
          "Mid_level/Sangat_bagus",
          "Freshgraduate_program/Sangat_kurang",
          "Freshgraduate_program/Biasa",
          "Senior_level/Biasa",
          "Freshgraduate_program/Sangat_bagus",
          "Mid_level/Sangat_bagus",
          "Freshgraduate_program/Bagus",
          "Freshgraduate_program/Biasa",
          "Mid_level/Biasa",
          "Senior_level/Biasa",
          "Freshgraduate_program/Kurang",
          "Mid_level/Sangat_bagus",
          "Freshgraduate_program/Sangat_kurang",
          "Mid_level/Sangat_kurang",
          "Senior_level/Sangat_kurang",
          "Freshgraduate_program/Bagus",
          "Mid_level/Bagus",
          "Freshgraduate_program/Biasa",
          "Mid_level/Biasa",
          "Senior_level/Biasa",
          "Mid_level/Sangat_bagus",
          "Senior_level/Sangat_bagus",
          "Freshgraduate_program/Sangat_kurang",
          "Freshgraduate_program/Bagus",
          "Mid_level/Bagus",
          "Freshgraduate_program/Biasa",
          "Senior_level/Kurang",
          "Freshgraduate_program/Sangat_bagus",
          "Mid_level/Sangat_bagus",
          "Senior_level/Bagus",
          "Freshgraduate_program/Biasa",
          "Freshgraduate_program/Kurang",
          "Mid_level/Kurang",
          "Freshgraduate_program/Sangat_bagus",
          "Senior_level/Sangat_bagus",
          "Freshgraduate_program/Bagus",
          "Freshgraduate_program/Biasa",
          "Mid_level/Biasa",
          "Freshgraduate_program/Sangat_bagus",
          "Mid_level/Sangat_bagus",
          "Freshgraduate_program/Bagus",
          "Freshgraduate_program/Biasa",
          "Senior_level/Kurang",
          "Freshgraduate_program/Sangat_bagus",
          "Senior_level/Sangat_bagus",
          "Freshgraduate_program/Sangat_kurang",
          "Senior_level/Sangat_kurang",
          "Freshgraduate_program",
          "Mid_level",
          "Senior_level",
          "Freshgraduate_program",
          "Mid_level",
          "Senior_level",
          "Freshgraduate_program",
          "Mid_level",
          "Senior_level",
          "Freshgraduate_program",
          "Mid_level",
          "Senior_level",
          "Freshgraduate_program",
          "Mid_level",
          "Senior_level",
          "",
          "",
          ""
         ],
         "type": "sunburst",
         "values": [
          1,
          2,
          1,
          1,
          1,
          3,
          1,
          3,
          1,
          1,
          1,
          2,
          1,
          1,
          1,
          1,
          1,
          1,
          3,
          2,
          3,
          1,
          1,
          2,
          1,
          2,
          1,
          1,
          1,
          2,
          1,
          1,
          2,
          1,
          2,
          2,
          1,
          2,
          1,
          2,
          1,
          2,
          1,
          1,
          1,
          1,
          2,
          1,
          2,
          1,
          5,
          2,
          2,
          1,
          1,
          3,
          1,
          1,
          1,
          12,
          2,
          3,
          15,
          6,
          5,
          3,
          3,
          2,
          15,
          10,
          4,
          5,
          2,
          2,
          50,
          23,
          16
         ]
        }
       ],
       "layout": {
        "height": 800,
        "legend": {
         "tracegroupgap": 0
        },
        "margin": {
         "t": 60
        },
        "template": {
         "data": {
          "bar": [
           {
            "error_x": {
             "color": "#2a3f5f"
            },
            "error_y": {
             "color": "#2a3f5f"
            },
            "marker": {
             "line": {
              "color": "#E5ECF6",
              "width": 0.5
             },
             "pattern": {
              "fillmode": "overlay",
              "size": 10,
              "solidity": 0.2
             }
            },
            "type": "bar"
           }
          ],
          "barpolar": [
           {
            "marker": {
             "line": {
              "color": "#E5ECF6",
              "width": 0.5
             },
             "pattern": {
              "fillmode": "overlay",
              "size": 10,
              "solidity": 0.2
             }
            },
            "type": "barpolar"
           }
          ],
          "carpet": [
           {
            "aaxis": {
             "endlinecolor": "#2a3f5f",
             "gridcolor": "white",
             "linecolor": "white",
             "minorgridcolor": "white",
             "startlinecolor": "#2a3f5f"
            },
            "baxis": {
             "endlinecolor": "#2a3f5f",
             "gridcolor": "white",
             "linecolor": "white",
             "minorgridcolor": "white",
             "startlinecolor": "#2a3f5f"
            },
            "type": "carpet"
           }
          ],
          "choropleth": [
           {
            "colorbar": {
             "outlinewidth": 0,
             "ticks": ""
            },
            "type": "choropleth"
           }
          ],
          "contour": [
           {
            "colorbar": {
             "outlinewidth": 0,
             "ticks": ""
            },
            "colorscale": [
             [
              0,
              "#0d0887"
             ],
             [
              0.1111111111111111,
              "#46039f"
             ],
             [
              0.2222222222222222,
              "#7201a8"
             ],
             [
              0.3333333333333333,
              "#9c179e"
             ],
             [
              0.4444444444444444,
              "#bd3786"
             ],
             [
              0.5555555555555556,
              "#d8576b"
             ],
             [
              0.6666666666666666,
              "#ed7953"
             ],
             [
              0.7777777777777778,
              "#fb9f3a"
             ],
             [
              0.8888888888888888,
              "#fdca26"
             ],
             [
              1,
              "#f0f921"
             ]
            ],
            "type": "contour"
           }
          ],
          "contourcarpet": [
           {
            "colorbar": {
             "outlinewidth": 0,
             "ticks": ""
            },
            "type": "contourcarpet"
           }
          ],
          "heatmap": [
           {
            "colorbar": {
             "outlinewidth": 0,
             "ticks": ""
            },
            "colorscale": [
             [
              0,
              "#0d0887"
             ],
             [
              0.1111111111111111,
              "#46039f"
             ],
             [
              0.2222222222222222,
              "#7201a8"
             ],
             [
              0.3333333333333333,
              "#9c179e"
             ],
             [
              0.4444444444444444,
              "#bd3786"
             ],
             [
              0.5555555555555556,
              "#d8576b"
             ],
             [
              0.6666666666666666,
              "#ed7953"
             ],
             [
              0.7777777777777778,
              "#fb9f3a"
             ],
             [
              0.8888888888888888,
              "#fdca26"
             ],
             [
              1,
              "#f0f921"
             ]
            ],
            "type": "heatmap"
           }
          ],
          "heatmapgl": [
           {
            "colorbar": {
             "outlinewidth": 0,
             "ticks": ""
            },
            "colorscale": [
             [
              0,
              "#0d0887"
             ],
             [
              0.1111111111111111,
              "#46039f"
             ],
             [
              0.2222222222222222,
              "#7201a8"
             ],
             [
              0.3333333333333333,
              "#9c179e"
             ],
             [
              0.4444444444444444,
              "#bd3786"
             ],
             [
              0.5555555555555556,
              "#d8576b"
             ],
             [
              0.6666666666666666,
              "#ed7953"
             ],
             [
              0.7777777777777778,
              "#fb9f3a"
             ],
             [
              0.8888888888888888,
              "#fdca26"
             ],
             [
              1,
              "#f0f921"
             ]
            ],
            "type": "heatmapgl"
           }
          ],
          "histogram": [
           {
            "marker": {
             "pattern": {
              "fillmode": "overlay",
              "size": 10,
              "solidity": 0.2
             }
            },
            "type": "histogram"
           }
          ],
          "histogram2d": [
           {
            "colorbar": {
             "outlinewidth": 0,
             "ticks": ""
            },
            "colorscale": [
             [
              0,
              "#0d0887"
             ],
             [
              0.1111111111111111,
              "#46039f"
             ],
             [
              0.2222222222222222,
              "#7201a8"
             ],
             [
              0.3333333333333333,
              "#9c179e"
             ],
             [
              0.4444444444444444,
              "#bd3786"
             ],
             [
              0.5555555555555556,
              "#d8576b"
             ],
             [
              0.6666666666666666,
              "#ed7953"
             ],
             [
              0.7777777777777778,
              "#fb9f3a"
             ],
             [
              0.8888888888888888,
              "#fdca26"
             ],
             [
              1,
              "#f0f921"
             ]
            ],
            "type": "histogram2d"
           }
          ],
          "histogram2dcontour": [
           {
            "colorbar": {
             "outlinewidth": 0,
             "ticks": ""
            },
            "colorscale": [
             [
              0,
              "#0d0887"
             ],
             [
              0.1111111111111111,
              "#46039f"
             ],
             [
              0.2222222222222222,
              "#7201a8"
             ],
             [
              0.3333333333333333,
              "#9c179e"
             ],
             [
              0.4444444444444444,
              "#bd3786"
             ],
             [
              0.5555555555555556,
              "#d8576b"
             ],
             [
              0.6666666666666666,
              "#ed7953"
             ],
             [
              0.7777777777777778,
              "#fb9f3a"
             ],
             [
              0.8888888888888888,
              "#fdca26"
             ],
             [
              1,
              "#f0f921"
             ]
            ],
            "type": "histogram2dcontour"
           }
          ],
          "mesh3d": [
           {
            "colorbar": {
             "outlinewidth": 0,
             "ticks": ""
            },
            "type": "mesh3d"
           }
          ],
          "parcoords": [
           {
            "line": {
             "colorbar": {
              "outlinewidth": 0,
              "ticks": ""
             }
            },
            "type": "parcoords"
           }
          ],
          "pie": [
           {
            "automargin": true,
            "type": "pie"
           }
          ],
          "scatter": [
           {
            "fillpattern": {
             "fillmode": "overlay",
             "size": 10,
             "solidity": 0.2
            },
            "type": "scatter"
           }
          ],
          "scatter3d": [
           {
            "line": {
             "colorbar": {
              "outlinewidth": 0,
              "ticks": ""
             }
            },
            "marker": {
             "colorbar": {
              "outlinewidth": 0,
              "ticks": ""
             }
            },
            "type": "scatter3d"
           }
          ],
          "scattercarpet": [
           {
            "marker": {
             "colorbar": {
              "outlinewidth": 0,
              "ticks": ""
             }
            },
            "type": "scattercarpet"
           }
          ],
          "scattergeo": [
           {
            "marker": {
             "colorbar": {
              "outlinewidth": 0,
              "ticks": ""
             }
            },
            "type": "scattergeo"
           }
          ],
          "scattergl": [
           {
            "marker": {
             "colorbar": {
              "outlinewidth": 0,
              "ticks": ""
             }
            },
            "type": "scattergl"
           }
          ],
          "scattermapbox": [
           {
            "marker": {
             "colorbar": {
              "outlinewidth": 0,
              "ticks": ""
             }
            },
            "type": "scattermapbox"
           }
          ],
          "scatterpolar": [
           {
            "marker": {
             "colorbar": {
              "outlinewidth": 0,
              "ticks": ""
             }
            },
            "type": "scatterpolar"
           }
          ],
          "scatterpolargl": [
           {
            "marker": {
             "colorbar": {
              "outlinewidth": 0,
              "ticks": ""
             }
            },
            "type": "scatterpolargl"
           }
          ],
          "scatterternary": [
           {
            "marker": {
             "colorbar": {
              "outlinewidth": 0,
              "ticks": ""
             }
            },
            "type": "scatterternary"
           }
          ],
          "surface": [
           {
            "colorbar": {
             "outlinewidth": 0,
             "ticks": ""
            },
            "colorscale": [
             [
              0,
              "#0d0887"
             ],
             [
              0.1111111111111111,
              "#46039f"
             ],
             [
              0.2222222222222222,
              "#7201a8"
             ],
             [
              0.3333333333333333,
              "#9c179e"
             ],
             [
              0.4444444444444444,
              "#bd3786"
             ],
             [
              0.5555555555555556,
              "#d8576b"
             ],
             [
              0.6666666666666666,
              "#ed7953"
             ],
             [
              0.7777777777777778,
              "#fb9f3a"
             ],
             [
              0.8888888888888888,
              "#fdca26"
             ],
             [
              1,
              "#f0f921"
             ]
            ],
            "type": "surface"
           }
          ],
          "table": [
           {
            "cells": {
             "fill": {
              "color": "#EBF0F8"
             },
             "line": {
              "color": "white"
             }
            },
            "header": {
             "fill": {
              "color": "#C8D4E3"
             },
             "line": {
              "color": "white"
             }
            },
            "type": "table"
           }
          ]
         },
         "layout": {
          "annotationdefaults": {
           "arrowcolor": "#2a3f5f",
           "arrowhead": 0,
           "arrowwidth": 1
          },
          "autotypenumbers": "strict",
          "coloraxis": {
           "colorbar": {
            "outlinewidth": 0,
            "ticks": ""
           }
          },
          "colorscale": {
           "diverging": [
            [
             0,
             "#8e0152"
            ],
            [
             0.1,
             "#c51b7d"
            ],
            [
             0.2,
             "#de77ae"
            ],
            [
             0.3,
             "#f1b6da"
            ],
            [
             0.4,
             "#fde0ef"
            ],
            [
             0.5,
             "#f7f7f7"
            ],
            [
             0.6,
             "#e6f5d0"
            ],
            [
             0.7,
             "#b8e186"
            ],
            [
             0.8,
             "#7fbc41"
            ],
            [
             0.9,
             "#4d9221"
            ],
            [
             1,
             "#276419"
            ]
           ],
           "sequential": [
            [
             0,
             "#0d0887"
            ],
            [
             0.1111111111111111,
             "#46039f"
            ],
            [
             0.2222222222222222,
             "#7201a8"
            ],
            [
             0.3333333333333333,
             "#9c179e"
            ],
            [
             0.4444444444444444,
             "#bd3786"
            ],
            [
             0.5555555555555556,
             "#d8576b"
            ],
            [
             0.6666666666666666,
             "#ed7953"
            ],
            [
             0.7777777777777778,
             "#fb9f3a"
            ],
            [
             0.8888888888888888,
             "#fdca26"
            ],
            [
             1,
             "#f0f921"
            ]
           ],
           "sequentialminus": [
            [
             0,
             "#0d0887"
            ],
            [
             0.1111111111111111,
             "#46039f"
            ],
            [
             0.2222222222222222,
             "#7201a8"
            ],
            [
             0.3333333333333333,
             "#9c179e"
            ],
            [
             0.4444444444444444,
             "#bd3786"
            ],
            [
             0.5555555555555556,
             "#d8576b"
            ],
            [
             0.6666666666666666,
             "#ed7953"
            ],
            [
             0.7777777777777778,
             "#fb9f3a"
            ],
            [
             0.8888888888888888,
             "#fdca26"
            ],
            [
             1,
             "#f0f921"
            ]
           ]
          },
          "colorway": [
           "#636efa",
           "#EF553B",
           "#00cc96",
           "#ab63fa",
           "#FFA15A",
           "#19d3f3",
           "#FF6692",
           "#B6E880",
           "#FF97FF",
           "#FECB52"
          ],
          "font": {
           "color": "#2a3f5f"
          },
          "geo": {
           "bgcolor": "white",
           "lakecolor": "white",
           "landcolor": "#E5ECF6",
           "showlakes": true,
           "showland": true,
           "subunitcolor": "white"
          },
          "hoverlabel": {
           "align": "left"
          },
          "hovermode": "closest",
          "mapbox": {
           "style": "light"
          },
          "paper_bgcolor": "white",
          "plot_bgcolor": "#E5ECF6",
          "polar": {
           "angularaxis": {
            "gridcolor": "white",
            "linecolor": "white",
            "ticks": ""
           },
           "bgcolor": "#E5ECF6",
           "radialaxis": {
            "gridcolor": "white",
            "linecolor": "white",
            "ticks": ""
           }
          },
          "scene": {
           "xaxis": {
            "backgroundcolor": "#E5ECF6",
            "gridcolor": "white",
            "gridwidth": 2,
            "linecolor": "white",
            "showbackground": true,
            "ticks": "",
            "zerolinecolor": "white"
           },
           "yaxis": {
            "backgroundcolor": "#E5ECF6",
            "gridcolor": "white",
            "gridwidth": 2,
            "linecolor": "white",
            "showbackground": true,
            "ticks": "",
            "zerolinecolor": "white"
           },
           "zaxis": {
            "backgroundcolor": "#E5ECF6",
            "gridcolor": "white",
            "gridwidth": 2,
            "linecolor": "white",
            "showbackground": true,
            "ticks": "",
            "zerolinecolor": "white"
           }
          },
          "shapedefaults": {
           "line": {
            "color": "#2a3f5f"
           }
          },
          "ternary": {
           "aaxis": {
            "gridcolor": "white",
            "linecolor": "white",
            "ticks": ""
           },
           "baxis": {
            "gridcolor": "white",
            "linecolor": "white",
            "ticks": ""
           },
           "bgcolor": "#E5ECF6",
           "caxis": {
            "gridcolor": "white",
            "linecolor": "white",
            "ticks": ""
           }
          },
          "title": {
           "x": 0.05
          },
          "xaxis": {
           "automargin": true,
           "gridcolor": "white",
           "linecolor": "white",
           "ticks": "",
           "title": {
            "standoff": 15
           },
           "zerolinecolor": "white",
           "zerolinewidth": 2
          },
          "yaxis": {
           "automargin": true,
           "gridcolor": "white",
           "linecolor": "white",
           "ticks": "",
           "title": {
            "standoff": 15
           },
           "zerolinecolor": "white",
           "zerolinewidth": 2
          }
         }
        },
        "title": {
         "font": {
          "color": "black",
          "family": "serif",
          "size": 20
         },
         "pad": {
          "b": 20,
          "t": 20
         },
         "text": "Employee Resignation by Career level, Performance, and Reason",
         "x": 0.5,
         "y": 1
        },
        "width": 800
       }
      }
     },
     "metadata": {},
     "output_type": "display_data"
    }
   ],
   "source": [
    "jpa = data_eda1.groupby(['JenjangKarir', 'PerformancePegawai', 'AlasanResign'])['Resign'].value_counts().reset_index(name='Total')\n",
    "\n",
    "jpa_res = jpa[jpa['Resign']=='Yes']\n",
    "\n",
    "fig = px.sunburst(\n",
    "    jpa_res, \n",
    "    path=['JenjangKarir', 'PerformancePegawai', 'AlasanResign'],\n",
    "    values='Total'\n",
    ")\n",
    "\n",
    "fig.update_layout(\n",
    "    width=800,\n",
    "    height=800,\n",
    "    title='Employee Resignation by Career level, Performance, and Reason',\n",
    "    title_font_size=20,\n",
    "    title_font_family='serif',\n",
    "    title_font_color='black',\n",
    "    title_x=0.5,\n",
    "    title_y=1,\n",
    "    title_pad_t=20,\n",
    "    title_pad_b=20\n",
    ")\n",
    "\n",
    "fig.show()"
   ]
  },
  {
   "cell_type": "markdown",
   "metadata": {},
   "source": [
    "**Insights**:\n",
    "\n",
    "- Flight Risk in Early Careers:<br>There's a higher resignation rate among fresh graduates, often due to \"ganti karir\" (switching careers) and lack of remote work options. This suggests a mismatch between expectations and reality or a lack of early career support.\n",
    "\n",
    "- Losing Top Performers:<br>The company is losing good talent (\"Sangat Bagus\", \"Bagus\", \"Biasa\") across all levels. This highlights a need to address reasons for resignation across the board.\n",
    "\n",
    "- Work-Life Balance and Flexibility Concerns:<br>\"Jam kerja\" (long work hours) and lack of remote work options are common reasons for resignation across levels, indicating a work-life balance issue and a need for flexible work arrangements.\n",
    "\n",
    "- Career Development and Leadership:<br>\"Ganti karir\" and \"kejelasan karir\" are common concerns, suggesting employees may not see clear growth paths or opportunities within the company. Additionally, \"toxic culture\" and \"leadership\" issues contribute to resignations at all levels.\n",
    "<br><br>\n",
    "\n",
    "Actionable Recommendations:\n",
    "\n",
    "- Targeted Onboarding and Early Career Development:\n",
    "    - Implement a structured onboarding program for fresh graduates, including mentorship and career exploration opportunities.\n",
    "    - Offer clear career paths with defined milestones and training programs specific to each level.\n",
    "\n",
    "- Improved Work-Life Balance and Flexibility:\n",
    "    - Analyze workloads and redistribute tasks to prevent burnout.\n",
    "    - Consider offering a remote work program or hybrid model to cater to employee preferences.\n",
    "    - Implement flexible scheduling options, if possible.\n",
    "\n",
    "- Retention Strategies:\n",
    "    - Conduct stay interviews to understand employee needs and concerns.\n",
    "    - Offer competitive compensation and benefits packages, including those that support work-life balance (e.g., wellness programs).\n",
    "    - Implement clear performance management processes with opportunities for feedback and growth.\n",
    "\n",
    "- Addressing Culture and Leadership:\n",
    "    - Conduct anonymous employee surveys to gauge company culture and leadership effectiveness.\n",
    "    - Implement team-building activities and conflict resolution training.\n",
    "    - Offer leadership development programs for managers."
   ]
  },
  {
   "cell_type": "markdown",
   "metadata": {},
   "source": [
    "<!-- **Insights**:\n",
    "\n",
    "- Lower Career Levels & Career Switching: There's a correlation between lower career levels (especially fresh graduates) and resignation due to \"ganti karir\" (switching careers). This suggests a mismatch between initial expectations and actual work, or graduates using the company as a stepping stone to explore different career paths.\n",
    "\n",
    "- Performance and Resignation: Losing good performers (rated \"Sangat Bagus\" to \"Biasa\") across all levels highlights a need to address retention factors beyond performance management.\n",
    "<br><br>\n",
    "\n",
    "**Actionable Recommendations**:\n",
    "\n",
    "- Fresh Graduate Program:<br> Refine Recruitment Process: Clearly outline the role's responsibilities and career path during recruitment to manage expectations. Consider skills assessments to identify potential for a longer-term fit.\n",
    "\n",
    "- Mentorship & Development:<br>Implement a strong mentorship program to guide fresh graduates and provide career development opportunities. This fosters a sense of growth and belonging.\n",
    "\n",
    "- Work-Life Balance and Flexibility:<br>Review Work Hours: Analyze workload and consider adjusting work hours or offering flexible scheduling options (remote work, compressed workweeks) to improve work-life balance.\n",
    "\n",
    "- Remote Work Policy:<br>Develop a well-defined remote work policy (if feasible) to cater to employee preferences and attract talent seeking remote work flexibility.\n",
    "\n",
    "- Company Culture and Leadership: \n",
    "    - Employee Surveys: Conduct anonymous employee surveys to gauge sentiment about company culture and leadership.\n",
    "    - Culture Improvement Initiatives: Based on survey results, implement initiatives to address toxic culture issues, like team-building activities, conflict resolution training for managers, or fostering open communication channels.\n",
    "    - Leadership Development: Invest in leadership development programs to equip managers with better communication, feedback, and employee engagement skills.\n",
    "<br><br>\n",
    "\n",
    "Retention Strategies:\n",
    "\n",
    "- Career Path Clarity:<br>Clearly define career paths within the company for each level. This provides employees with a roadmap for advancement and fosters a sense of long-term growth potential within the company.\n",
    "\n",
    "- Skill Development Opportunities:<br>Offer training programs, conferences, or internal knowledge-sharing sessions to help employees develop new skills and stay relevant in their field.\n",
    "\n",
    "- Competitive Compensation and Benefits:<br>Review compensation packages and benefits offerings to ensure they are competitive within the industry. Consider offering perks that resonate with your target demographics, like wellness programs or educational stipends.\n",
    "\n",
    "- Recognition and Appreciation:<br>Implement programs to recognize and appreciate employee achievements. This can involve public recognition, awards, or bonus structures to create a culture that values contributions.\n",
    "\n",
    "By implementing these recommendations, the company can address the key reasons behind employee resignations and improve retention across all career levels in your startup. Remember, a data-driven approach like this, combined with ongoing monitoring and adjustments, is key to building a strong employer brand and retaining top talent. -->"
   ]
  },
  {
   "cell_type": "markdown",
   "metadata": {},
   "source": [
    "## Task 4 - Build An Automated Resignation Behavior Prediction Using Machine Learning\n",
    "**Task Goals**:<br>\n",
    "Building a machine learning model to predict employee resignation behavior.<br><br>\n",
    "**Task Objectives**:<br>\n",
    "1. Split the data into training and testing sets.\n",
    "2. Preprocess the data for machine learning.\n",
    "3. Train a machine learning model to predict employee resignation behavior.\n",
    "4. Evaluate the model performance.\n",
    "5. Interpret the model results."
   ]
  },
  {
   "cell_type": "markdown",
   "metadata": {},
   "source": [
    "### Data Preprocessing\n",
    "Start over the data preprocessing for machine learning data, because the data cleaning and processing for EDA Purpose are Different"
   ]
  },
  {
   "cell_type": "code",
   "execution_count": 24,
   "metadata": {},
   "outputs": [],
   "source": [
    "# Create a copy of the original data to avoid modifying the original data\n",
    "data_proc = data_ori.copy()\n",
    "\n",
    "# Apply feature engineering function to the data\n",
    "data_proc = feat_eng(data_proc)\n",
    "\n",
    "# Other feature engineering before train test split\n",
    "# Define dictionary to map Pekerjaan value\n",
    "map_job = {\n",
    "    'Software Engineer (Back End)': 'Team Engineer',\n",
    "    'Software Engineer (Front End)': 'Team Engineer',\n",
    "    'Software Engineer (Android)': 'Team Engineer',\n",
    "    'Software Engineer (iOS)': 'Team Engineer',\n",
    "    'DevOps Engineer': 'Team Engineer',\n",
    "    'Machine Learning Engineer': 'Team Engineer',\n",
    "    'Software Architect': 'Team Engineer',\n",
    "    'Product Design (UI & UX)': 'Team Product',\n",
    "    'Product Manager': 'Team Product',\n",
    "    'Digital Product Manager': 'Team Product',\n",
    "    'Product Design (UX Researcher)': 'Team Product',\n",
    "    'Scrum Master': 'Team Product',\n",
    "    'Data Analyst' :'Team Data',\n",
    "    'Data Engineer' :'Team Data',\n",
    "}\n",
    "# Replace 'Pekerjaan' values with the mapped values\n",
    "data_proc['Pekerjaan'] = data_proc['Pekerjaan'].replace(map_job)\n",
    "\n",
    "# Get the value counts of 'HiringPlatform' column\n",
    "platform_vc = data_proc['HiringPlatform'].value_counts()\n",
    "\n",
    "# Identify hiring platforms with less than 20 employees\n",
    "to_replace = platform_vc[platform_vc < 20].index\n",
    "\n",
    "# Replace hiring platforms with less than 10 employees with 'Others'\n",
    "data_proc['HiringPlatform'] = data_proc['HiringPlatform'].replace(to_replace, 'Others')\n",
    "\n",
    "prsnt_year = datetime.now().year\n",
    "data_proc['EmploymentTenure'] = np.where(data_proc['ResignYear'].isna(),\n",
    "                                         2020 - data_proc['HiringYear'],\n",
    "                                         data_proc['ResignYear'] - data_proc['HiringYear'])\n",
    "\n",
    "# Drop invalid values where the employment tenure is negative\n",
    "# This means the Resign Date is before the Hiring Date\n",
    "data_proc = data_proc[data_proc['EmploymentTenure'] >= 0]\n",
    "\n",
    "# Because there's missing values on some features, \n",
    "# so I need to fill the missing values first for each train test before creating some new features\n",
    "def feat_enc1(data):\n",
    "    data['WorkedOnProject'] = data['JumlahKeikutsertaanProjek'].apply(lambda x: 1 if x > 0 else 0)\n",
    "    data['LateLastMonth'] = data['JumlahKeterlambatanSebulanTerakhir'].apply(lambda x: 1 if x > 0 else 0)\n",
    "    return data"
   ]
  },
  {
   "cell_type": "markdown",
   "metadata": {},
   "source": [
    "### Train Test Split"
   ]
  },
  {
   "cell_type": "code",
   "execution_count": 25,
   "metadata": {},
   "outputs": [
    {
     "name": "stdout",
     "output_type": "stream",
     "text": [
      "Shape of X_train: (213, 32)\n",
      "Shape of X_test: (72, 32)\n",
      "\n",
      "Shape of y_train: (213, 1)\n",
      "Shape of y_test: (72, 1)\n"
     ]
    }
   ],
   "source": [
    "# Define variables for the model\n",
    "X = data_proc.drop(columns=['Resign'])\n",
    "\n",
    "# Define target variable\n",
    "y = data_proc[['Resign']]\n",
    "\n",
    "# Split the data into train and test sets\n",
    "X_train, X_test, y_train, y_test = train_test_split(X, y, test_size=0.25, random_state=103)\n",
    "\n",
    "# Display the shape of the train and test sets\n",
    "print(f'Shape of X_train: {X_train.shape}')\n",
    "print(f'Shape of X_test: {X_test.shape}')\n",
    "\n",
    "# Display the shape of the train and test sets\n",
    "print(f'\\nShape of y_train: {y_train.shape}')\n",
    "print(f'Shape of y_test: {y_test.shape}')"
   ]
  },
  {
   "cell_type": "markdown",
   "metadata": {},
   "source": [
    "<!-- from sklearn.compose import ColumnTransformer\n",
    "from sklearn.pipeline import Pipeline\n",
    "from sklearn.impute import SimpleImputer\n",
    "from sklearn.preprocessing import StandardScaler, OneHotEncoder, OrdinalEncoder\n",
    "from imblearn.over_sampling import SMOTE\n",
    "from imblearn.pipeline import make_pipeline\n",
    "from sklearn.base import BaseEstimator, TransformerMixin\n",
    "\n",
    "numerical_features = data_proc.select_dtypes(include=['int64', 'float64']).columns\n",
    "nominal_features = ['StatusPernikahan', 'StatusKepegawaian', 'Pekerjaan',\n",
    "                    'AsalDaerah', 'HiringPlatform']\n",
    "ordinal_features = ['JenjangKarir', 'PerformancePegawai',\n",
    "                    'TingkatPendidikan','AgeGroup', 'WorkedOnProject']\n",
    "classifier = RandomForestClassifier(random_state=13)\n",
    "\n",
    "# Custom transformer for handling outliers\n",
    "class OutlierRemover(BaseEstimator, TransformerMixin):\n",
    "    def fit(self, X, y=None):\n",
    "        Q1 = X.quantile(0.25)\n",
    "        Q3 = X.quantile(0.75)\n",
    "        IQR = Q3 - Q1\n",
    "        self.lower_bound = Q1 - 1.5 * IQR\n",
    "        self.upper_bound = Q3 + 1.5 * IQR\n",
    "        return self\n",
    "    \n",
    "    def transform(self, X, y=None):\n",
    "        return np.where((X < self.lower_bound) | (X > self.upper_bound), np.nan, X)\n",
    "\n",
    "# Define preprocessor\n",
    "preprocessor = ColumnTransformer(\n",
    "    transformers=[\n",
    "        ('num', Pipeline(steps=[\n",
    "            ('imputer', SimpleImputer(strategy='median')),\n",
    "            ('outlier', OutlierRemover()),\n",
    "            ('scaler', StandardScaler())\n",
    "        ]), numerical_features),\n",
    "        ('cat_nom', Pipeline(steps=[\n",
    "            ('imputer', SimpleImputer(strategy='most_frequent')),\n",
    "            ('onehot', OneHotEncoder(handle_unknown='ignore'))\n",
    "        ]), nominal_features),\n",
    "        ('cat_ord', Pipeline(steps=[\n",
    "            ('imputer', SimpleImputer(strategy='most_frequent')),\n",
    "            ('ordinal', OrdinalEncoder())\n",
    "        ]), ordinal_features) \n",
    "    ])\n",
    "\n",
    "# Combine preprocessor and SMOTE in a pipeline\n",
    "pipeline = make_pipeline(preprocessor, SMOTE(random_state=13), classifier)\n",
    "\n",
    "# Fit and transform the data\n",
    "pipeline.fit(X_train, y_train) -->"
   ]
  },
  {
   "cell_type": "markdown",
   "metadata": {},
   "source": [
    "### Further Feature Engineering\n",
    "Including Feature encoding and feature selection"
   ]
  },
  {
   "cell_type": "code",
   "execution_count": 26,
   "metadata": {},
   "outputs": [],
   "source": [
    "# Apply the clean_missing values function to X_Train\n",
    "X_train_cl = clean_missing(X_train)\n",
    "\n",
    "# Create new feature and encode the data\n",
    "X_train_cld = feat_enc1(X_train_cl)"
   ]
  },
  {
   "cell_type": "code",
   "execution_count": 27,
   "metadata": {},
   "outputs": [
    {
     "data": {
      "image/png": "[encoded data removed]",
      "text/plain": [
       "<Figure size 1500x800 with 1 Axes>"
      ]
     },
     "metadata": {},
     "output_type": "display_data"
    }
   ],
   "source": [
    "concat_df = pd.concat([X_train_cld, y_train], axis=1)\n",
    "\n",
    "pps_scores = []\n",
    "for column in concat_df.columns:\n",
    "    score = pps.score(concat_df, column, 'Resign')\n",
    "    pps_scores.append((column, score['ppscore']))\n",
    "\n",
    "pps_df = pd.DataFrame(pps_scores, columns=['Features', 'PPS'])\n",
    "\n",
    "pps_df = pps_df.sort_values('PPS', ascending=False)\n",
    "\n",
    "plt.figure(figsize=(15, 8))\n",
    "sns.barplot(x='PPS', y='Features', data=pps_df, palette='viridis')\n",
    "\n",
    "plt.title('PPS Score for Each Feature', fontdict=fdbold, pad=20, loc='left')\n",
    "plt.xlabel('PPS Score', fontsize=13, fontweight='bold')\n",
    "plt.ylabel('Features', fontsize=13, fontweight='bold')\n",
    "\n",
    "plt.show()"
   ]
  },
  {
   "cell_type": "markdown",
   "metadata": {},
   "source": [
    "- PPcore for Alasan Resign is very high 1, this means this feature is indicated data leakage because this feature generated after the employee resign, not before the employee resign. This feature and ResignYear will be dropped and won't be use to create new features.\n",
    "\n",
    "- Other Identifier features i.e Username, email, etc. and date feature will be dropped too\n",
    "\n",
    "- Default feature that have been created for a new feature will be dropped to avoid feature redundancy. But for Age and AgeGroup, the AgeGroup feature that have been created from Age feature will be dropped because it has lower PPScore than Age feature.\n",
    "\n",
    "- Even though other features have low PPscore, I will keep them because based on my domain knowledge the rest of the features will be a good predictors to predict whether the employee will resign or not.\n",
    "\n",
    "- If the model overfit I will try to drop some of the features based the not importance feature from model's feature importances."
   ]
  },
  {
   "cell_type": "markdown",
   "metadata": {},
   "source": [
    "### Feature Encoding "
   ]
  },
  {
   "cell_type": "code",
   "execution_count": 28,
   "metadata": {},
   "outputs": [
    {
     "name": "stdout",
     "output_type": "stream",
     "text": [
      "Shape of X_train_enc_ohe: (213, 33)\n"
     ]
    }
   ],
   "source": [
    "# Label Encoding\n",
    "\n",
    "# Define ordinal categorical columns to be encoded\n",
    "ord_data = [\n",
    "    'PerformancePegawai',\n",
    "    'TingkatPendidikan',\n",
    "    'JenjangKarir'\n",
    "]\n",
    "\n",
    "def lencode_cat(data, ordinal_data):\n",
    "    \"\"\"\n",
    "    Function to label encode categorical columns in the dataset.\n",
    "    Args:\n",
    "    data (DataFrame): dataset to be encoded.\n",
    "    Returns:\n",
    "    data (DataFrame): encoded dataset.\n",
    "    ordinal_data (list): list of ordinal categorical columns.\n",
    "    \n",
    "    Example:\n",
    "    >>> data = encode_cat(data, ordinal_data)\n",
    "    \"\"\"\n",
    "    # Initialize labelEncoder\n",
    "    le = LabelEncoder()\n",
    "\n",
    "    # Encode categorical columns\n",
    "    for col in ordinal_data:\n",
    "        data[col] = le.fit_transform(data[col])\n",
    "\n",
    "    return data\n",
    "\n",
    "# Apply the encode_cat function to the X_train_cl data\n",
    "X_train_lenc = lencode_cat(X_train_cld, ord_data)\n",
    "\n",
    "# Define dictionary to map the target variable\n",
    "map_target = {\n",
    "    'No': 0,\n",
    "    'Yes': 1\n",
    "}\n",
    "\n",
    "# Map the target variable\n",
    "y_train['Resign'] = y_train['Resign'].map(map_target)\n",
    "\n",
    "\n",
    "# One hot encode\n",
    "# Define nominal categorical columns to be encoded\n",
    "nom_data = [\n",
    "    'StatusPernikahan',\n",
    "    'StatusKepegawaian',\n",
    "    'Pekerjaan',\n",
    "    'AsalDaerah',\n",
    "    'HiringPlatform'\n",
    "]\n",
    "\n",
    "# Encode nominal data with pd.get_dummies\n",
    "X_train_ohe = pd.get_dummies(X_train_lenc, columns=nom_data, dtype=int)\n",
    "\n",
    "# Define columns to drop that are not necessary (bias) for ml modelling\n",
    "col2drop = [\n",
    "    'Username', 'EnterpriseID', 'JenisKelamin', 'NomorHP', 'Email', 'AgeGroup',\n",
    "    'PernahBekerja', 'AlasanResign', 'TanggalLahir', 'TanggalHiring','YearEval',\n",
    "    #  'AsalDaerah', 'HiringPlatform',\n",
    "    'TanggalPenilaianKaryawan', 'TanggalResign', 'HiringYear', 'ResignYear',\n",
    "    'JumlahKeikutsertaanProjek', 'JumlahKeterlambatanSebulanTerakhir',\n",
    "    # 'SkorSurveyEngagement',\n",
    "    # 'SkorKepuasanPegawai',\n",
    "    # 'StatusKepegawaian', 'JenjangKarir'\n",
    "    # 'JumlahKetidakhadiran',\n",
    "]\n",
    "\n",
    "X_train_ohe = X_train_ohe.drop(columns=col2drop)\n",
    "\n",
    "# Display the shape of the encoded data\n",
    "print(f'Shape of X_train_enc_ohe: {X_train_ohe.shape}')"
   ]
  },
  {
   "cell_type": "markdown",
   "metadata": {},
   "source": [
    "### Handling Outliers"
   ]
  },
  {
   "cell_type": "code",
   "execution_count": 29,
   "metadata": {},
   "outputs": [
    {
     "data": {
      "image/png": "[encoded data removed]",
      "text/plain": [
       "<Figure size 800x400 with 1 Axes>"
      ]
     },
     "metadata": {},
     "output_type": "display_data"
    }
   ],
   "source": [
    "# Define columns to plot boxplot\n",
    "colsout = [\n",
    "    'SkorSurveyEngagement', \n",
    "    'SkorKepuasanPegawai', \n",
    "    'JumlahKetidakhadiran', \n",
    "    'EmploymentTenure',\n",
    "    'HiringToEval',\n",
    "    'Age'\n",
    "]\n",
    "\n",
    "# Set the figure size\n",
    "plt.figure(figsize=(8, 4))\n",
    "\n",
    "# Create a boxplot for the columns in colsout\n",
    "sns.boxplot(data=X_train_ohe[colsout], orient='h', palette='Set2')\n",
    "\n",
    "# Update the fontdict\n",
    "fdbold['size'] = 18\n",
    "\n",
    "# Add title for the plot\n",
    "plt.title('Boxplot for Numerical Columns', fontdict=fdbold, pad=20, loc='left')\n",
    "\n",
    "plt.show()"
   ]
  },
  {
   "cell_type": "code",
   "execution_count": 30,
   "metadata": {},
   "outputs": [
    {
     "data": {
      "text/plain": [
       "<Axes: >"
      ]
     },
     "execution_count": 30,
     "metadata": {},
     "output_type": "execute_result"
    },
    {
     "data": {
      "image/png": "[encoded data removed]",
      "text/plain": [
       "<Figure size 640x480 with 1 Axes>"
      ]
     },
     "metadata": {},
     "output_type": "display_data"
    }
   ],
   "source": [
    "# Define columns with outliers\n",
    "outlier_cols = [\n",
    "    'SkorSurveyEngagement',\n",
    "    'JumlahKetidakhadiran',\n",
    "    'HiringToEval',\n",
    "    'Age',\n",
    "]\n",
    "\n",
    "# Define function to cap outliers\n",
    "def cap_outliers(data, cols):\n",
    "    \"\"\"\n",
    "    Function to cap outliers in the dataset.\n",
    "    \n",
    "    Args:\n",
    "    data (DataFrame): dataset to be capped outlier.\n",
    "    cols (list): list of columns to be capped.\n",
    "\n",
    "    Returns:\n",
    "    data (DataFrame): capped dataset.\n",
    "    \n",
    "    Example:\n",
    "    >>> data = cap_outliers(data, outlier_cols)\n",
    "    \"\"\"\n",
    "    # Cap outliers with IQR method\n",
    "    for col in cols:\n",
    "        Q1 = data[col].quantile(0.25)\n",
    "        Q3 = data[col].quantile(0.75)\n",
    "        IQR = Q3 - Q1\n",
    "        lower_bound = Q1 - 1.5 * IQR\n",
    "        upper_bound = Q3 + 1.5 * IQR\n",
    "        data[col] = np.where(data[col] < lower_bound, lower_bound, data[col])\n",
    "        data[col] = np.where(data[col] > upper_bound, upper_bound, data[col])\n",
    "\n",
    "    return data\n",
    "\n",
    "# Apply the cap_outliers function to the X_train_enc_ohe data\n",
    "X_train_noutliers = cap_outliers(X_train_ohe, outlier_cols)\n",
    "# X_train_noutliers[outlier_cols] = X_train_noutliers[outlier_cols].astype(int) \n",
    "\n",
    "# Create boxplot one more time to make sure\n",
    "sns.boxplot(data=X_train_noutliers[outlier_cols], orient='h', palette='Set2')"
   ]
  },
  {
   "cell_type": "markdown",
   "metadata": {},
   "source": [
    "### Feature Scaling\n",
    "Don't needed because it lower the model performance"
   ]
  },
  {
   "cell_type": "code",
   "execution_count": 31,
   "metadata": {},
   "outputs": [],
   "source": [
    "# # Initialize StandardScaler\n",
    "# scaler_hr = StandardScaler()\n",
    "\n",
    "# # Scale the data\n",
    "# X_train_scaled = pd.DataFrame(scaler_hr.fit_transform(X_train_noutliers),\n",
    "#                               columns=X_train_noutliers.columns,\n",
    "#                               index=X_train_noutliers.index)\n",
    "\n",
    "# # Display the scaled data \n",
    "# display(X_train_scaled.head(3))"
   ]
  },
  {
   "cell_type": "markdown",
   "metadata": {},
   "source": [
    "### Imbalanced Data Handling"
   ]
  },
  {
   "cell_type": "code",
   "execution_count": 32,
   "metadata": {},
   "outputs": [
    {
     "data": {
      "image/png": "[encoded data removed]",
      "text/plain": [
       "<Figure size 640x480 with 1 Axes>"
      ]
     },
     "metadata": {},
     "output_type": "display_data"
    }
   ],
   "source": [
    "# Initialize SMOTETomek\n",
    "stmk_hr = SMOTETomek(random_state=103)\n",
    "\n",
    "# resample the train data\n",
    "X_train_over, y_train_over = stmk_hr.fit_resample(X_train_noutliers, y_train)\n",
    "\n",
    "# Show the target after imbalanced handling\n",
    "count_target = y_train_over.Resign.value_counts()\n",
    "def custom_autopct(pct):\n",
    "    total = sum(count_target)\n",
    "    val = int(round(pct*total/100.0))\n",
    "    return '{p:.1f}%  ({v:d})'.format(p=pct,v=val)\n",
    "\n",
    "plt.pie(\n",
    "    count_target,\n",
    "    labels=count_target.index,\n",
    "    autopct=custom_autopct\n",
    ")\n",
    "plt.show()"
   ]
  },
  {
   "cell_type": "markdown",
   "metadata": {},
   "source": [
    "### Update The Necessary Preprocessing Step to data test"
   ]
  },
  {
   "cell_type": "code",
   "execution_count": 33,
   "metadata": {},
   "outputs": [],
   "source": [
    "X_test_cl = clean_missing(X_test)\n",
    "\n",
    "X_test_cld = feat_enc1(X_test_cl)\n",
    "\n",
    "X_test_lenc = lencode_cat(X_test_cld, ord_data)\n",
    "\n",
    "y_test['Resign'] = y_test['Resign'].map(map_target)\n",
    "\n",
    "X_test_ohe = pd.get_dummies(X_test_lenc, columns=nom_data, dtype=int)\n",
    "\n",
    "X_test_ohe = X_test_ohe.drop(columns=col2drop)"
   ]
  },
  {
   "cell_type": "markdown",
   "metadata": {},
   "source": [
    "### Machine Learning Modelling\n",
    "The Machine Learning Classification will be trained for this project are:\n",
    "1. Logistic Regression\n",
    "2. Decision Tree\n",
    "3. Random Forest\n",
    "4. AdaBoost\n",
    "5. XGBoost\n",
    "6. GradientBoosting\n",
    "<br><br>\n",
    "But before I train and evaluate the model, I define function for train and evaluate model, and plot the roc curve so it will be more efficient to evaluate all the model at a time, if I found issue with the data that causing the machine learning model perfomance overfit or underfit (bad fit) it will be more easier to back to data preprocessing and train and evaluate all the models again. "
   ]
  },
  {
   "cell_type": "code",
   "execution_count": 34,
   "metadata": {},
   "outputs": [],
   "source": [
    "# Define function to train and evaluate the model\n",
    "def train_eval_model(model, X_train, y_train, X_test, y_test, threshold):\n",
    "    \"\"\"\n",
    "    This function evaluates the performance of given model using various metrics.\n",
    "\n",
    "    Parameters:\n",
    "    model (object): the model to be trained and evaluated\n",
    "    X_train (DataFrame): the train data\n",
    "    y_train (DataFrame): the target data\n",
    "    X_test (DataFrame): the test data\n",
    "    y_test (DataFrame): the target test data\n",
    "    threshold (float): the threshold for the model prediction\n",
    "\n",
    "    Returns:\n",
    "    DataFrame: the evaluation metrics of the model\n",
    "\n",
    "    Example:\n",
    "    >>> eval_metrics = train_eval_model(LogisticRegression(), X_train, y_train, X_test, y_test, 0.5)\n",
    "    \"\"\"\n",
    "\n",
    "    # Fit the model to the training data\n",
    "    model.fit(X_train, y_train)\n",
    "\n",
    "    # Predict the target variable on the test data\n",
    "    y_pred_train = model.predict(X_train)\n",
    "    y_pred = model.predict(X_test)\n",
    "\n",
    "    # Predict the probability of the target variable on the test data\n",
    "    y_pred_proba_train = model.predict_proba(X_train)[:, 1]\n",
    "    y_pred_proba = model.predict_proba(X_test)[:, 1]\n",
    "\n",
    "    # Compute the ROC AUC Scores for the training and testing data\n",
    "    train_auc = roc_auc_score(y_train, y_pred_proba_train)\n",
    "    test_auc = roc_auc_score(y_test, y_pred_proba)\n",
    "\n",
    "    # Compute the recall scores for the training and testing data\n",
    "    train_recall = recall_score(y_train, y_pred_proba_train > threshold)\n",
    "    test_recall = recall_score(y_test, y_pred_proba > threshold)\n",
    "\n",
    "    train_precision = precision_score(y_train, y_pred_proba_train > threshold)\n",
    "    test_precision = precision_score(y_test, y_pred_proba > threshold)\n",
    "\n",
    "    train_f1 = f1_score(y_train, y_pred_proba_train > threshold)\n",
    "    test_f1 = f1_score(y_test, y_pred_proba > threshold)\n",
    "\n",
    "    # Perform Stratified K-Fold Cross Validation\n",
    "    kfold = StratifiedKFold(n_splits=10, shuffle=True, random_state=103)\n",
    "    cv_score_auc = cross_val_score(model, X_train, y_train, cv=kfold, scoring='roc_auc')\n",
    "\n",
    "    # Create a dictionary with the evaluation metrics\n",
    "    score_dict = {\n",
    "        'Model': model.__class__.__name__, \n",
    "        'AUC_train': [train_auc], \n",
    "        'AUC_test': [test_auc],\n",
    "        'CrossVal_AUC': [cv_score_auc.mean()],\n",
    "        'Recall_train': [train_recall],\n",
    "        'Recall_test': [test_recall],\n",
    "        'Precision_train': [train_precision],\n",
    "        'Precision_test': [test_precision],\n",
    "        'F1_train': [train_f1],\n",
    "        'F1_test': [test_f1]\n",
    "        # 'CrossVal_Recall': [cv_score_recall.mean()]\n",
    "    }\n",
    "\n",
    "    # Create a DataFrame from the dictionary\n",
    "    score_df = pd.DataFrame(score_dict)\n",
    "\n",
    "    return score_df"
   ]
  },
  {
   "cell_type": "code",
   "execution_count": 35,
   "metadata": {},
   "outputs": [],
   "source": [
    "def plot_roc_curve(model, X_train, y_train, X_test, y_test, ax):\n",
    "    \"\"\"\n",
    "    This function plots the Receriver Operating Characteristic (ROC) curve for a given model.\n",
    "\n",
    "    Parameters:\n",
    "    model: The machine learning model to be evaluated.\n",
    "    X_train: The training data.\n",
    "    y_train: The labels for the training data.\n",
    "    X_test: The testing data.\n",
    "    y_test: The labels for the testing data.\n",
    "    ax: The axes object to plot on.\n",
    "\n",
    "    Returns:\n",
    "    A plot of the ROC curve, with the area under the curve (AUC) displayed in the legend.\n",
    "\n",
    "    Examples:\n",
    "    >>> plot_orc_curve(LogisticRegression(), X_train, y_train, X_test, y_test, ax)\n",
    "\n",
    "    \"\"\"\n",
    "\n",
    "    # Fit the model to the training data\n",
    "    model.fit(X_train, y_train)\n",
    "\n",
    "    # Predict the probabilities of the positive calss for the testing data\n",
    "    y_pred_proba = model.predict_proba(X_test)[:, 1]\n",
    "\n",
    "    # Compute the false positive rate,  true positive rate, and thresholds for the ROC Curve\n",
    "    fpr, tpr, thresholds = roc_curve(y_test, y_pred_proba)\n",
    "\n",
    "    # Compute the area under the ROC curve\n",
    "    auc = roc_auc_score(y_test, y_pred_proba)\n",
    "\n",
    "    # Plot the ROC curve\n",
    "    ax.plot(fpr, tpr, label=f'{model.__class__.__name__} AUC = {auc:.2f}')\n",
    "\n",
    "    # Plot the line of no discrimination\n",
    "    ax.plot([0, 1], [0, 1], 'r--')\n",
    "\n",
    "    # Label the x-axis as 'False Positive Rate'\n",
    "    ax.set_xlabel('False Positive Rate')\n",
    "\n",
    "    # Label the y-axis as 'True Positive Rate'\n",
    "    ax.set_ylabel('True Positive Rate')\n",
    "\n",
    "    # Title the plot as 'ROC Curve'\n",
    "    ax.set_title('ROC Curve')"
   ]
  },
  {
   "cell_type": "code",
   "execution_count": 100,
   "metadata": {},
   "outputs": [
    {
     "data": {
      "text/html": [
       "<div>\n",
       "<style scoped>\n",
       "    .dataframe tbody tr th:only-of-type {\n",
       "        vertical-align: middle;\n",
       "    }\n",
       "\n",
       "    .dataframe tbody tr th {\n",
       "        vertical-align: top;\n",
       "    }\n",
       "\n",
       "    .dataframe thead th {\n",
       "        text-align: right;\n",
       "    }\n",
       "</style>\n",
       "<table border=\"1\" class=\"dataframe\">\n",
       "  <thead>\n",
       "    <tr style=\"text-align: right;\">\n",
       "      <th></th>\n",
       "      <th>Model</th>\n",
       "      <th>AUC_train</th>\n",
       "      <th>AUC_test</th>\n",
       "      <th>CrossVal_AUC</th>\n",
       "      <th>Recall_train</th>\n",
       "      <th>Recall_test</th>\n",
       "      <th>Precision_train</th>\n",
       "      <th>Precision_test</th>\n",
       "      <th>F1_train</th>\n",
       "      <th>F1_test</th>\n",
       "    </tr>\n",
       "  </thead>\n",
       "  <tbody>\n",
       "    <tr>\n",
       "      <th>0</th>\n",
       "      <td>LogisticRegression</td>\n",
       "      <td>0.961713</td>\n",
       "      <td>0.915799</td>\n",
       "      <td>0.920000</td>\n",
       "      <td>0.872483</td>\n",
       "      <td>0.625000</td>\n",
       "      <td>0.909091</td>\n",
       "      <td>0.833333</td>\n",
       "      <td>0.890411</td>\n",
       "      <td>0.714286</td>\n",
       "    </tr>\n",
       "    <tr>\n",
       "      <th>0</th>\n",
       "      <td>DecisionTreeClassifier</td>\n",
       "      <td>1.000000</td>\n",
       "      <td>0.843750</td>\n",
       "      <td>0.845000</td>\n",
       "      <td>1.000000</td>\n",
       "      <td>0.791667</td>\n",
       "      <td>1.000000</td>\n",
       "      <td>0.791667</td>\n",
       "      <td>1.000000</td>\n",
       "      <td>0.791667</td>\n",
       "    </tr>\n",
       "    <tr>\n",
       "      <th>0</th>\n",
       "      <td>RandomForestClassifier</td>\n",
       "      <td>1.000000</td>\n",
       "      <td>0.898872</td>\n",
       "      <td>0.952619</td>\n",
       "      <td>1.000000</td>\n",
       "      <td>0.416667</td>\n",
       "      <td>1.000000</td>\n",
       "      <td>0.769231</td>\n",
       "      <td>1.000000</td>\n",
       "      <td>0.540541</td>\n",
       "    </tr>\n",
       "    <tr>\n",
       "      <th>0</th>\n",
       "      <td>AdaBoostClassifier</td>\n",
       "      <td>0.984235</td>\n",
       "      <td>0.854167</td>\n",
       "      <td>0.895810</td>\n",
       "      <td>0.892617</td>\n",
       "      <td>0.500000</td>\n",
       "      <td>0.956835</td>\n",
       "      <td>0.750000</td>\n",
       "      <td>0.923611</td>\n",
       "      <td>0.600000</td>\n",
       "    </tr>\n",
       "    <tr>\n",
       "      <th>0</th>\n",
       "      <td>XGBClassifier</td>\n",
       "      <td>1.000000</td>\n",
       "      <td>0.946181</td>\n",
       "      <td>0.968730</td>\n",
       "      <td>1.000000</td>\n",
       "      <td>0.708333</td>\n",
       "      <td>1.000000</td>\n",
       "      <td>0.894737</td>\n",
       "      <td>1.000000</td>\n",
       "      <td>0.790698</td>\n",
       "    </tr>\n",
       "    <tr>\n",
       "      <th>0</th>\n",
       "      <td>GradientBoostingClassifier</td>\n",
       "      <td>1.000000</td>\n",
       "      <td>0.909722</td>\n",
       "      <td>0.958444</td>\n",
       "      <td>1.000000</td>\n",
       "      <td>0.666667</td>\n",
       "      <td>1.000000</td>\n",
       "      <td>0.888889</td>\n",
       "      <td>1.000000</td>\n",
       "      <td>0.761905</td>\n",
       "    </tr>\n",
       "  </tbody>\n",
       "</table>\n",
       "</div>"
      ],
      "text/plain": [
       "                        Model  AUC_train  AUC_test  CrossVal_AUC  \\\n",
       "0          LogisticRegression   0.961713  0.915799      0.920000   \n",
       "0      DecisionTreeClassifier   1.000000  0.843750      0.845000   \n",
       "0      RandomForestClassifier   1.000000  0.898872      0.952619   \n",
       "0          AdaBoostClassifier   0.984235  0.854167      0.895810   \n",
       "0               XGBClassifier   1.000000  0.946181      0.968730   \n",
       "0  GradientBoostingClassifier   1.000000  0.909722      0.958444   \n",
       "\n",
       "   Recall_train  Recall_test  Precision_train  Precision_test  F1_train  \\\n",
       "0      0.872483     0.625000         0.909091        0.833333  0.890411   \n",
       "0      1.000000     0.791667         1.000000        0.791667  1.000000   \n",
       "0      1.000000     0.416667         1.000000        0.769231  1.000000   \n",
       "0      0.892617     0.500000         0.956835        0.750000  0.923611   \n",
       "0      1.000000     0.708333         1.000000        0.894737  1.000000   \n",
       "0      1.000000     0.666667         1.000000        0.888889  1.000000   \n",
       "\n",
       "    F1_test  \n",
       "0  0.714286  \n",
       "0  0.791667  \n",
       "0  0.540541  \n",
       "0  0.600000  \n",
       "0  0.790698  \n",
       "0  0.761905  "
      ]
     },
     "metadata": {},
     "output_type": "display_data"
    },
    {
     "data": {
      "image/png": "[encoded data removed]",
      "text/plain": [
       "<Figure size 1000x600 with 1 Axes>"
      ]
     },
     "metadata": {},
     "output_type": "display_data"
    }
   ],
   "source": [
    "# Instatiate the models with the same random state for reproducibility\n",
    "lr_hr = LogisticRegression(random_state=103)\n",
    "dt_hr = DecisionTreeClassifier(random_state=103)\n",
    "rf_hr = RandomForestClassifier(random_state=103)\n",
    "adb_hr = AdaBoostClassifier(random_state=103)\n",
    "xgb_hr = XGBClassifier(random_state=103)\n",
    "gb_hr = GradientBoostingClassifier(random_state=103)\n",
    "\n",
    "# List of models\n",
    "models = [lr_hr, dt_hr, rf_hr, adb_hr, xgb_hr, gb_hr]\n",
    "\n",
    "# List to store the scores\n",
    "scores = []\n",
    "\n",
    "# Train and evaluate the models\n",
    "for model in models:\n",
    "    score = train_eval_model(model, X_train_over, y_train_over, X_test_ohe, y_test, 0.5)\n",
    "    scores.append(score)\n",
    "\n",
    "# Concatenate the evaluation metrics of the models\n",
    "eval_metrics = pd.concat(scores)\n",
    "\n",
    "# Display the evaluation metrics\n",
    "display(eval_metrics)\n",
    "\n",
    "\n",
    "# Iterate plot roc ucurve for the model\n",
    "fig, ax = plt.subplots(figsize=(10, 6))\n",
    "\n",
    "for model in models:\n",
    "    plot_roc_curve(model, X_train_over, y_train_over, X_test_ohe, y_test, ax)\n",
    "\n",
    "# Display the legend\n",
    "ax.legend()\n",
    "\n",
    "# Display the plot\n",
    "plt.show()"
   ]
  },
  {
   "cell_type": "markdown",
   "metadata": {},
   "source": [
    "From the result of model metrics evaluation performance, **the best model with highest AUC** score on train, test, and Cross validation is **XGBoost**, This High AUC on test and validation data indicates that the model is able to generalize well on unseen data. This model also have the highest Recall score on test data, which means the model is able to predict the employee who will resign correctly."
   ]
  },
  {
   "cell_type": "markdown",
   "metadata": {},
   "source": [
    "### Hyperparameter and Threshold tuning XGBoost\n",
    "Even though the model has a good performance, this hyperparameter tuning just for experiment"
   ]
  },
  {
   "cell_type": "code",
   "execution_count": 68,
   "metadata": {},
   "outputs": [
    {
     "name": "stdout",
     "output_type": "stream",
     "text": [
      "Best Parameters: {'colsample_bytree': 0.9, 'gamma': 0, 'learning_rate': 0.05, 'max_depth': 4, 'min_child_weight': 1, 'n_estimators': 150, 'reg_alpha': 0.01, 'subsample': 0.9}\n",
      "Best Score: 0.9767509578544061\n"
     ]
    }
   ],
   "source": [
    "# Define XGBoost Parameter\n",
    "xgb_param_tune = {\n",
    "    'n_estimators': [50, 100, 150, 200],\n",
    "    'max_depth': [3, 4, 5, 6],\n",
    "    'learning_rate': [0.01, 0.05, 0.1, 0.2],\n",
    "    'min_child_weight': [1, 3, 5, 7],\n",
    "    'gamma': [0, 0.1, 0.2, 0.3],\n",
    "    'subsample': [0.6, 0.7, 0.8, 0.9],\n",
    "    'colsample_bytree': [0.6, 0.7, 0.8, 0.9],\n",
    "    'reg_alpha': [0.01, 0.1, 1, 10],\n",
    "}\n",
    "\n",
    "# Initialize XGBClassifier\n",
    "xgb_ht = XGBClassifier(random_state=103)\n",
    "\n",
    "# Initialize GridSearchCV\n",
    "xgb_grid = GridSearchCV(\n",
    "    xgb_ht,\n",
    "    xgb_param_tune,\n",
    "    cv=5,\n",
    "    scoring='roc_auc',\n",
    "    n_jobs=-1\n",
    ")\n",
    "\n",
    "# Fit the model\n",
    "xgb_grid.fit(X_train_over, y_train_over)\n",
    "\n",
    "# Get the best params\n",
    "xgbest_params = xgb_grid.best_params_\n",
    "\n",
    "# Get the best score\n",
    "xgb_grid.best_score_\n",
    "\n",
    "# Print best params and score\n",
    "print(f'Best Parameters: {xgb_grid.best_params_}')\n",
    "print(f'Best Score: {xgb_grid.best_score_}')"
   ]
  },
  {
   "cell_type": "code",
   "execution_count": 105,
   "metadata": {},
   "outputs": [
    {
     "data": {
      "text/html": [
       "<div>\n",
       "<style scoped>\n",
       "    .dataframe tbody tr th:only-of-type {\n",
       "        vertical-align: middle;\n",
       "    }\n",
       "\n",
       "    .dataframe tbody tr th {\n",
       "        vertical-align: top;\n",
       "    }\n",
       "\n",
       "    .dataframe thead th {\n",
       "        text-align: right;\n",
       "    }\n",
       "</style>\n",
       "<table border=\"1\" class=\"dataframe\">\n",
       "  <thead>\n",
       "    <tr style=\"text-align: right;\">\n",
       "      <th></th>\n",
       "      <th>Model</th>\n",
       "      <th>AUC_train</th>\n",
       "      <th>AUC_test</th>\n",
       "      <th>CrossVal_AUC</th>\n",
       "      <th>Recall_train</th>\n",
       "      <th>Recall_test</th>\n",
       "      <th>Precision_train</th>\n",
       "      <th>Precision_test</th>\n",
       "      <th>F1_train</th>\n",
       "      <th>F1_test</th>\n",
       "    </tr>\n",
       "  </thead>\n",
       "  <tbody>\n",
       "    <tr>\n",
       "      <th>0</th>\n",
       "      <td>XGBClassifier</td>\n",
       "      <td>1.0</td>\n",
       "      <td>0.9375</td>\n",
       "      <td>0.968381</td>\n",
       "      <td>1.0</td>\n",
       "      <td>0.708333</td>\n",
       "      <td>0.993333</td>\n",
       "      <td>0.894737</td>\n",
       "      <td>0.996656</td>\n",
       "      <td>0.790698</td>\n",
       "    </tr>\n",
       "  </tbody>\n",
       "</table>\n",
       "</div>"
      ],
      "text/plain": [
       "           Model  AUC_train  AUC_test  CrossVal_AUC  Recall_train  \\\n",
       "0  XGBClassifier        1.0    0.9375      0.968381           1.0   \n",
       "\n",
       "   Recall_test  Precision_train  Precision_test  F1_train   F1_test  \n",
       "0     0.708333         0.993333        0.894737  0.996656  0.790698  "
      ]
     },
     "metadata": {},
     "output_type": "display_data"
    }
   ],
   "source": [
    "# Tune the model with the best parameter and get the best threshold probability\n",
    "xgb_tuned = XGBClassifier(**xgbest_params, random_state=103)\n",
    "\n",
    "xgb_tuned_score = train_eval_model(xgb_tuned, X_train_over, y_train_over, X_test_ohe, y_test, 0.5)\n",
    "\n",
    "display(xgb_tuned_score)"
   ]
  },
  {
   "cell_type": "markdown",
   "metadata": {},
   "source": [
    "Seems like the AUC on test set is slightly lower than the previous, the recall precision are the same as before, Let's try to tune up the max_depth parameter and see if the model performance increase, and try to tune the threshold lower to get the higher recall score."
   ]
  },
  {
   "cell_type": "code",
   "execution_count": 109,
   "metadata": {},
   "outputs": [
    {
     "name": "stdout",
     "output_type": "stream",
     "text": [
      "XGBoost Before Hyperparameter Tuning at the same threshold of 0.22\n"
     ]
    },
    {
     "data": {
      "text/html": [
       "<div>\n",
       "<style scoped>\n",
       "    .dataframe tbody tr th:only-of-type {\n",
       "        vertical-align: middle;\n",
       "    }\n",
       "\n",
       "    .dataframe tbody tr th {\n",
       "        vertical-align: top;\n",
       "    }\n",
       "\n",
       "    .dataframe thead th {\n",
       "        text-align: right;\n",
       "    }\n",
       "</style>\n",
       "<table border=\"1\" class=\"dataframe\">\n",
       "  <thead>\n",
       "    <tr style=\"text-align: right;\">\n",
       "      <th></th>\n",
       "      <th>Model</th>\n",
       "      <th>AUC_train</th>\n",
       "      <th>AUC_test</th>\n",
       "      <th>CrossVal_AUC</th>\n",
       "      <th>Recall_train</th>\n",
       "      <th>Recall_test</th>\n",
       "      <th>Precision_train</th>\n",
       "      <th>Precision_test</th>\n",
       "      <th>F1_train</th>\n",
       "      <th>F1_test</th>\n",
       "    </tr>\n",
       "  </thead>\n",
       "  <tbody>\n",
       "    <tr>\n",
       "      <th>0</th>\n",
       "      <td>XGBClassifier</td>\n",
       "      <td>1.0</td>\n",
       "      <td>0.946181</td>\n",
       "      <td>0.96873</td>\n",
       "      <td>1.0</td>\n",
       "      <td>0.791667</td>\n",
       "      <td>1.0</td>\n",
       "      <td>0.863636</td>\n",
       "      <td>1.0</td>\n",
       "      <td>0.826087</td>\n",
       "    </tr>\n",
       "  </tbody>\n",
       "</table>\n",
       "</div>"
      ],
      "text/plain": [
       "           Model  AUC_train  AUC_test  CrossVal_AUC  Recall_train  \\\n",
       "0  XGBClassifier        1.0  0.946181       0.96873           1.0   \n",
       "\n",
       "   Recall_test  Precision_train  Precision_test  F1_train   F1_test  \n",
       "0     0.791667              1.0        0.863636       1.0  0.826087  "
      ]
     },
     "metadata": {},
     "output_type": "display_data"
    },
    {
     "name": "stdout",
     "output_type": "stream",
     "text": [
      "XGBoost After Hyperparameter Tuning at the same threshold of 0.22\n"
     ]
    },
    {
     "data": {
      "text/html": [
       "<div>\n",
       "<style scoped>\n",
       "    .dataframe tbody tr th:only-of-type {\n",
       "        vertical-align: middle;\n",
       "    }\n",
       "\n",
       "    .dataframe tbody tr th {\n",
       "        vertical-align: top;\n",
       "    }\n",
       "\n",
       "    .dataframe thead th {\n",
       "        text-align: right;\n",
       "    }\n",
       "</style>\n",
       "<table border=\"1\" class=\"dataframe\">\n",
       "  <thead>\n",
       "    <tr style=\"text-align: right;\">\n",
       "      <th></th>\n",
       "      <th>Model</th>\n",
       "      <th>AUC_train</th>\n",
       "      <th>AUC_test</th>\n",
       "      <th>CrossVal_AUC</th>\n",
       "      <th>Recall_train</th>\n",
       "      <th>Recall_test</th>\n",
       "      <th>Precision_train</th>\n",
       "      <th>Precision_test</th>\n",
       "      <th>F1_train</th>\n",
       "      <th>F1_test</th>\n",
       "    </tr>\n",
       "  </thead>\n",
       "  <tbody>\n",
       "    <tr>\n",
       "      <th>0</th>\n",
       "      <td>XGBClassifier</td>\n",
       "      <td>1.0</td>\n",
       "      <td>0.94184</td>\n",
       "      <td>0.97054</td>\n",
       "      <td>1.0</td>\n",
       "      <td>0.875</td>\n",
       "      <td>0.986755</td>\n",
       "      <td>0.84</td>\n",
       "      <td>0.993333</td>\n",
       "      <td>0.857143</td>\n",
       "    </tr>\n",
       "  </tbody>\n",
       "</table>\n",
       "</div>"
      ],
      "text/plain": [
       "           Model  AUC_train  AUC_test  CrossVal_AUC  Recall_train  \\\n",
       "0  XGBClassifier        1.0   0.94184       0.97054           1.0   \n",
       "\n",
       "   Recall_test  Precision_train  Precision_test  F1_train   F1_test  \n",
       "0        0.875         0.986755            0.84  0.993333  0.857143  "
      ]
     },
     "metadata": {},
     "output_type": "display_data"
    },
    {
     "data": {
      "image/png": "[encoded data removed]",
      "text/plain": [
       "<Figure size 1000x600 with 1 Axes>"
      ]
     },
     "metadata": {},
     "output_type": "display_data"
    }
   ],
   "source": [
    "new_params = {\n",
    "    'colsample_bytree': 0.9,\n",
    "    'gamma': 0,\n",
    "    'learning_rate': 0.05,\n",
    "    'max_depth': 6, # Set the max_depth from 4 to 6\n",
    "    'min_child_weight': 1,\n",
    "    'n_estimators': 150,\n",
    "    'reg_alpha': 0.01,\n",
    "    'subsample': 0.9\n",
    "}\n",
    "\n",
    "# Tune the model with the best parameter and get the best threshold probability\n",
    "xgb_new = XGBClassifier(**new_params, random_state=103)\n",
    "\n",
    "# Train and evaluate the model with the same threshold of 0.22\n",
    "score_before_tuning = train_eval_model(xgb_hr, X_train_over, y_train_over, X_test_ohe, y_test, 0.22)\n",
    "score_after_tuning = train_eval_model(xgb_new, X_train_over, y_train_over, X_test_ohe, y_test, 0.22)\n",
    "\n",
    "print('XGBoost Before Hyperparameter Tuning at the same threshold of 0.22')\n",
    "display(score_before_tuning)\n",
    "\n",
    "print('XGBoost After Hyperparameter Tuning at the same threshold of 0.22')\n",
    "display(score_after_tuning)\n",
    "\n",
    "fig, ax = plt.subplots(figsize=(10, 6))\n",
    "plot_roc_curve(xgb_tuned, X_train_over, y_train_over, X_test_ohe, y_test, ax)\n",
    "ax.legend()\n",
    "plt.show()"
   ]
  },
  {
   "cell_type": "markdown",
   "metadata": {},
   "source": [
    "Even though the AUC on test set is slightly lower but on the validation set the AUC is higher, the recall score is also higher than the previous model, this means the model is able to minimize the false predicted the employee will not resign but the actual is resign."
   ]
  },
  {
   "cell_type": "code",
   "execution_count": null,
   "metadata": {},
   "outputs": [],
   "source": [
    "# # Get the optimal threshold\n",
    "# xgb_tuned.fit(X_train_over, y_train_over)\n",
    "# y_scores = xgb_tuned.predict_proba(X_test_ohe)[:, 1]  # get the probability of the positive class\n",
    "# fpr, tpr, thresholds = roc_curve(y_test, y_scores)\n",
    "\n",
    "# # Find the optimal threshold\n",
    "# optimal_idx = np.argmax(tpr - fpr)\n",
    "# optimal_threshold = thresholds[optimal_idx]\n",
    "# print(f'Optimal Threshold: {optimal_threshold}')"
   ]
  },
  {
   "cell_type": "code",
   "execution_count": null,
   "metadata": {},
   "outputs": [],
   "source": []
  }
 ],
 "metadata": {
  "kernelspec": {
   "display_name": "Python 3",
   "language": "python",
   "name": "python3"
  },
  "language_info": {
   "codemirror_mode": {
    "name": "ipython",
    "version": 3
   },
   "file_extension": ".py",
   "mimetype": "text/x-python",
   "name": "python",
   "nbconvert_exporter": "python",
   "pygments_lexer": "ipython3",
   "version": "3.11.9"
  }
 },
 "nbformat": 4,
 "nbformat_minor": 2
}
